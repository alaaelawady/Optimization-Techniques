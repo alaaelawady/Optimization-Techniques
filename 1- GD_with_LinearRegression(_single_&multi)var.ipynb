{
  "cells": [
    {
      "cell_type": "markdown",
      "metadata": {
        "id": "CzaTR-0jljG7"
      },
      "source": [
        "For this practical work,have to develop a Python program that is able to implement the gradient descent in order to achieve the linear regression of a set of datapoints."
      ]
    },
    {
      "cell_type": "markdown",
      "metadata": {
        "id": "SlXa-ytAljG8"
      },
      "source": [
        "#### Import numpy, matplotlib.pyplot and make it inline"
      ]
    },
    {
      "cell_type": "code",
      "execution_count": null,
      "metadata": {
        "id": "7XYszNerljG8"
      },
      "outputs": [],
      "source": [
        "import numpy as np \n",
        "import pandas as pd\n",
        "import matplotlib.pyplot as plt\n"
      ]
    },
    {
      "cell_type": "markdown",
      "metadata": {
        "id": "zG9u1aTPljG-"
      },
      "source": [
        "#### Read RegData csv file into numpy array  (check your data)\n",
        "##### Data source\n",
        "https://college.cengage.com/mathematics/brase/understandable_statistics/7e/students/datasets/slr/frames/frame.html\n"
      ]
    },
    {
      "cell_type": "code",
      "execution_count": null,
      "metadata": {
        "colab": {
          "base_uri": "https://localhost:8080/",
          "height": 206
        },
        "id": "tnr7itFaljG_",
        "outputId": "f87d4abb-9940-496e-d506-1d6cd4ee4792"
      },
      "outputs": [
        {
          "output_type": "execute_result",
          "data": {
            "text/plain": [
              "     X    Y\n",
              "0  2.9  4.0\n",
              "1  6.7  7.4\n",
              "2  4.9  5.0\n",
              "3  7.9  7.2\n",
              "4  9.8  7.9"
            ],
            "text/html": [
              "\n",
              "  <div id=\"df-d7b18ad1-ce08-4396-9678-27584825f16a\">\n",
              "    <div class=\"colab-df-container\">\n",
              "      <div>\n",
              "<style scoped>\n",
              "    .dataframe tbody tr th:only-of-type {\n",
              "        vertical-align: middle;\n",
              "    }\n",
              "\n",
              "    .dataframe tbody tr th {\n",
              "        vertical-align: top;\n",
              "    }\n",
              "\n",
              "    .dataframe thead th {\n",
              "        text-align: right;\n",
              "    }\n",
              "</style>\n",
              "<table border=\"1\" class=\"dataframe\">\n",
              "  <thead>\n",
              "    <tr style=\"text-align: right;\">\n",
              "      <th></th>\n",
              "      <th>X</th>\n",
              "      <th>Y</th>\n",
              "    </tr>\n",
              "  </thead>\n",
              "  <tbody>\n",
              "    <tr>\n",
              "      <th>0</th>\n",
              "      <td>2.9</td>\n",
              "      <td>4.0</td>\n",
              "    </tr>\n",
              "    <tr>\n",
              "      <th>1</th>\n",
              "      <td>6.7</td>\n",
              "      <td>7.4</td>\n",
              "    </tr>\n",
              "    <tr>\n",
              "      <th>2</th>\n",
              "      <td>4.9</td>\n",
              "      <td>5.0</td>\n",
              "    </tr>\n",
              "    <tr>\n",
              "      <th>3</th>\n",
              "      <td>7.9</td>\n",
              "      <td>7.2</td>\n",
              "    </tr>\n",
              "    <tr>\n",
              "      <th>4</th>\n",
              "      <td>9.8</td>\n",
              "      <td>7.9</td>\n",
              "    </tr>\n",
              "  </tbody>\n",
              "</table>\n",
              "</div>\n",
              "      <button class=\"colab-df-convert\" onclick=\"convertToInteractive('df-d7b18ad1-ce08-4396-9678-27584825f16a')\"\n",
              "              title=\"Convert this dataframe to an interactive table.\"\n",
              "              style=\"display:none;\">\n",
              "        \n",
              "  <svg xmlns=\"http://www.w3.org/2000/svg\" height=\"24px\"viewBox=\"0 0 24 24\"\n",
              "       width=\"24px\">\n",
              "    <path d=\"M0 0h24v24H0V0z\" fill=\"none\"/>\n",
              "    <path d=\"M18.56 5.44l.94 2.06.94-2.06 2.06-.94-2.06-.94-.94-2.06-.94 2.06-2.06.94zm-11 1L8.5 8.5l.94-2.06 2.06-.94-2.06-.94L8.5 2.5l-.94 2.06-2.06.94zm10 10l.94 2.06.94-2.06 2.06-.94-2.06-.94-.94-2.06-.94 2.06-2.06.94z\"/><path d=\"M17.41 7.96l-1.37-1.37c-.4-.4-.92-.59-1.43-.59-.52 0-1.04.2-1.43.59L10.3 9.45l-7.72 7.72c-.78.78-.78 2.05 0 2.83L4 21.41c.39.39.9.59 1.41.59.51 0 1.02-.2 1.41-.59l7.78-7.78 2.81-2.81c.8-.78.8-2.07 0-2.86zM5.41 20L4 18.59l7.72-7.72 1.47 1.35L5.41 20z\"/>\n",
              "  </svg>\n",
              "      </button>\n",
              "      \n",
              "  <style>\n",
              "    .colab-df-container {\n",
              "      display:flex;\n",
              "      flex-wrap:wrap;\n",
              "      gap: 12px;\n",
              "    }\n",
              "\n",
              "    .colab-df-convert {\n",
              "      background-color: #E8F0FE;\n",
              "      border: none;\n",
              "      border-radius: 50%;\n",
              "      cursor: pointer;\n",
              "      display: none;\n",
              "      fill: #1967D2;\n",
              "      height: 32px;\n",
              "      padding: 0 0 0 0;\n",
              "      width: 32px;\n",
              "    }\n",
              "\n",
              "    .colab-df-convert:hover {\n",
              "      background-color: #E2EBFA;\n",
              "      box-shadow: 0px 1px 2px rgba(60, 64, 67, 0.3), 0px 1px 3px 1px rgba(60, 64, 67, 0.15);\n",
              "      fill: #174EA6;\n",
              "    }\n",
              "\n",
              "    [theme=dark] .colab-df-convert {\n",
              "      background-color: #3B4455;\n",
              "      fill: #D2E3FC;\n",
              "    }\n",
              "\n",
              "    [theme=dark] .colab-df-convert:hover {\n",
              "      background-color: #434B5C;\n",
              "      box-shadow: 0px 1px 3px 1px rgba(0, 0, 0, 0.15);\n",
              "      filter: drop-shadow(0px 1px 2px rgba(0, 0, 0, 0.3));\n",
              "      fill: #FFFFFF;\n",
              "    }\n",
              "  </style>\n",
              "\n",
              "      <script>\n",
              "        const buttonEl =\n",
              "          document.querySelector('#df-d7b18ad1-ce08-4396-9678-27584825f16a button.colab-df-convert');\n",
              "        buttonEl.style.display =\n",
              "          google.colab.kernel.accessAllowed ? 'block' : 'none';\n",
              "\n",
              "        async function convertToInteractive(key) {\n",
              "          const element = document.querySelector('#df-d7b18ad1-ce08-4396-9678-27584825f16a');\n",
              "          const dataTable =\n",
              "            await google.colab.kernel.invokeFunction('convertToInteractive',\n",
              "                                                     [key], {});\n",
              "          if (!dataTable) return;\n",
              "\n",
              "          const docLinkHtml = 'Like what you see? Visit the ' +\n",
              "            '<a target=\"_blank\" href=https://colab.research.google.com/notebooks/data_table.ipynb>data table notebook</a>'\n",
              "            + ' to learn more about interactive tables.';\n",
              "          element.innerHTML = '';\n",
              "          dataTable['output_type'] = 'display_data';\n",
              "          await google.colab.output.renderOutput(dataTable, element);\n",
              "          const docLink = document.createElement('div');\n",
              "          docLink.innerHTML = docLinkHtml;\n",
              "          element.appendChild(docLink);\n",
              "        }\n",
              "      </script>\n",
              "    </div>\n",
              "  </div>\n",
              "  "
            ]
          },
          "metadata": {},
          "execution_count": 3
        }
      ],
      "source": [
        " \n",
        "data1 = pd.read_csv(\"/content/sample_data/RegData.csv\" , header=None , names=['X','Y'])\n",
        "\n",
        "data1.head()\n"
      ]
    },
    {
      "cell_type": "markdown",
      "metadata": {
        "id": "bO0WMxWfljHA"
      },
      "source": [
        "#### Explore your data"
      ]
    },
    {
      "cell_type": "code",
      "execution_count": null,
      "metadata": {
        "colab": {
          "base_uri": "https://localhost:8080/"
        },
        "id": "9zHA-rXqljHB",
        "outputId": "d8e47ea4-9726-4132-a053-2175d2ee9a95"
      },
      "outputs": [
        {
          "output_type": "stream",
          "name": "stdout",
          "text": [
            "Describe Date \n",
            "               X          Y\n",
            "count  13.000000  13.000000\n",
            "mean    5.953846   5.569231\n",
            "std     1.714942   1.314271\n",
            "min     2.900000   4.000000\n",
            "25%     4.900000   4.400000\n",
            "50%     6.000000   5.200000\n",
            "75%     6.700000   6.100000\n",
            "max     9.800000   7.900000\n",
            "\n",
            " info data\n",
            "<class 'pandas.core.frame.DataFrame'>\n",
            "RangeIndex: 13 entries, 0 to 12\n",
            "Data columns (total 2 columns):\n",
            " #   Column  Non-Null Count  Dtype  \n",
            "---  ------  --------------  -----  \n",
            " 0   X       13 non-null     float64\n",
            " 1   Y       13 non-null     float64\n",
            "dtypes: float64(2)\n",
            "memory usage: 336.0 bytes\n",
            "None\n"
          ]
        }
      ],
      "source": [
        "print('Describe Date ')\n",
        "print(data1.describe())\n",
        "print('\\n info data')\n",
        "\n",
        "print(data1.info())"
      ]
    },
    {
      "cell_type": "markdown",
      "metadata": {
        "id": "jiCEKILAljHC"
      },
      "source": [
        "#### Define variables X and y. Assign first column data to X and second column to y\n",
        "<b>Note:</b> X is the independent variable (input to LR model) and y is the dependent variable (output)"
      ]
    },
    {
      "cell_type": "code",
      "execution_count": null,
      "metadata": {
        "id": "JcY4ME04ljHD"
      },
      "outputs": [],
      "source": [
        "col= data1.shape[1]  # get number of columns of data \n",
        "x_data = data1.iloc[:,0:col-1]\n"
      ]
    },
    {
      "cell_type": "code",
      "execution_count": null,
      "metadata": {
        "colab": {
          "base_uri": "https://localhost:8080/"
        },
        "id": "J4lT7CfKljHD",
        "outputId": "7c6f9c70-adf2-4d50-ca77-a63802b1dbcc"
      },
      "outputs": [
        {
          "output_type": "execute_result",
          "data": {
            "text/plain": [
              "(13, 1)"
            ]
          },
          "metadata": {},
          "execution_count": 6
        }
      ],
      "source": [
        "x_data.shape"
      ]
    },
    {
      "cell_type": "code",
      "execution_count": null,
      "metadata": {
        "colab": {
          "base_uri": "https://localhost:8080/",
          "height": 206
        },
        "id": "sFlgl_9qljHD",
        "outputId": "987d3e8b-71dc-4fe3-ae71-ac7aae049148"
      },
      "outputs": [
        {
          "output_type": "execute_result",
          "data": {
            "text/plain": [
              "   Ones    X    Y\n",
              "0     1  2.9  4.0\n",
              "1     1  6.7  7.4\n",
              "2     1  4.9  5.0\n",
              "3     1  7.9  7.2\n",
              "4     1  9.8  7.9"
            ],
            "text/html": [
              "\n",
              "  <div id=\"df-cc87738d-aa40-4500-bd1c-496df3ac3383\">\n",
              "    <div class=\"colab-df-container\">\n",
              "      <div>\n",
              "<style scoped>\n",
              "    .dataframe tbody tr th:only-of-type {\n",
              "        vertical-align: middle;\n",
              "    }\n",
              "\n",
              "    .dataframe tbody tr th {\n",
              "        vertical-align: top;\n",
              "    }\n",
              "\n",
              "    .dataframe thead th {\n",
              "        text-align: right;\n",
              "    }\n",
              "</style>\n",
              "<table border=\"1\" class=\"dataframe\">\n",
              "  <thead>\n",
              "    <tr style=\"text-align: right;\">\n",
              "      <th></th>\n",
              "      <th>Ones</th>\n",
              "      <th>X</th>\n",
              "      <th>Y</th>\n",
              "    </tr>\n",
              "  </thead>\n",
              "  <tbody>\n",
              "    <tr>\n",
              "      <th>0</th>\n",
              "      <td>1</td>\n",
              "      <td>2.9</td>\n",
              "      <td>4.0</td>\n",
              "    </tr>\n",
              "    <tr>\n",
              "      <th>1</th>\n",
              "      <td>1</td>\n",
              "      <td>6.7</td>\n",
              "      <td>7.4</td>\n",
              "    </tr>\n",
              "    <tr>\n",
              "      <th>2</th>\n",
              "      <td>1</td>\n",
              "      <td>4.9</td>\n",
              "      <td>5.0</td>\n",
              "    </tr>\n",
              "    <tr>\n",
              "      <th>3</th>\n",
              "      <td>1</td>\n",
              "      <td>7.9</td>\n",
              "      <td>7.2</td>\n",
              "    </tr>\n",
              "    <tr>\n",
              "      <th>4</th>\n",
              "      <td>1</td>\n",
              "      <td>9.8</td>\n",
              "      <td>7.9</td>\n",
              "    </tr>\n",
              "  </tbody>\n",
              "</table>\n",
              "</div>\n",
              "      <button class=\"colab-df-convert\" onclick=\"convertToInteractive('df-cc87738d-aa40-4500-bd1c-496df3ac3383')\"\n",
              "              title=\"Convert this dataframe to an interactive table.\"\n",
              "              style=\"display:none;\">\n",
              "        \n",
              "  <svg xmlns=\"http://www.w3.org/2000/svg\" height=\"24px\"viewBox=\"0 0 24 24\"\n",
              "       width=\"24px\">\n",
              "    <path d=\"M0 0h24v24H0V0z\" fill=\"none\"/>\n",
              "    <path d=\"M18.56 5.44l.94 2.06.94-2.06 2.06-.94-2.06-.94-.94-2.06-.94 2.06-2.06.94zm-11 1L8.5 8.5l.94-2.06 2.06-.94-2.06-.94L8.5 2.5l-.94 2.06-2.06.94zm10 10l.94 2.06.94-2.06 2.06-.94-2.06-.94-.94-2.06-.94 2.06-2.06.94z\"/><path d=\"M17.41 7.96l-1.37-1.37c-.4-.4-.92-.59-1.43-.59-.52 0-1.04.2-1.43.59L10.3 9.45l-7.72 7.72c-.78.78-.78 2.05 0 2.83L4 21.41c.39.39.9.59 1.41.59.51 0 1.02-.2 1.41-.59l7.78-7.78 2.81-2.81c.8-.78.8-2.07 0-2.86zM5.41 20L4 18.59l7.72-7.72 1.47 1.35L5.41 20z\"/>\n",
              "  </svg>\n",
              "      </button>\n",
              "      \n",
              "  <style>\n",
              "    .colab-df-container {\n",
              "      display:flex;\n",
              "      flex-wrap:wrap;\n",
              "      gap: 12px;\n",
              "    }\n",
              "\n",
              "    .colab-df-convert {\n",
              "      background-color: #E8F0FE;\n",
              "      border: none;\n",
              "      border-radius: 50%;\n",
              "      cursor: pointer;\n",
              "      display: none;\n",
              "      fill: #1967D2;\n",
              "      height: 32px;\n",
              "      padding: 0 0 0 0;\n",
              "      width: 32px;\n",
              "    }\n",
              "\n",
              "    .colab-df-convert:hover {\n",
              "      background-color: #E2EBFA;\n",
              "      box-shadow: 0px 1px 2px rgba(60, 64, 67, 0.3), 0px 1px 3px 1px rgba(60, 64, 67, 0.15);\n",
              "      fill: #174EA6;\n",
              "    }\n",
              "\n",
              "    [theme=dark] .colab-df-convert {\n",
              "      background-color: #3B4455;\n",
              "      fill: #D2E3FC;\n",
              "    }\n",
              "\n",
              "    [theme=dark] .colab-df-convert:hover {\n",
              "      background-color: #434B5C;\n",
              "      box-shadow: 0px 1px 3px 1px rgba(0, 0, 0, 0.15);\n",
              "      filter: drop-shadow(0px 1px 2px rgba(0, 0, 0, 0.3));\n",
              "      fill: #FFFFFF;\n",
              "    }\n",
              "  </style>\n",
              "\n",
              "      <script>\n",
              "        const buttonEl =\n",
              "          document.querySelector('#df-cc87738d-aa40-4500-bd1c-496df3ac3383 button.colab-df-convert');\n",
              "        buttonEl.style.display =\n",
              "          google.colab.kernel.accessAllowed ? 'block' : 'none';\n",
              "\n",
              "        async function convertToInteractive(key) {\n",
              "          const element = document.querySelector('#df-cc87738d-aa40-4500-bd1c-496df3ac3383');\n",
              "          const dataTable =\n",
              "            await google.colab.kernel.invokeFunction('convertToInteractive',\n",
              "                                                     [key], {});\n",
              "          if (!dataTable) return;\n",
              "\n",
              "          const docLinkHtml = 'Like what you see? Visit the ' +\n",
              "            '<a target=\"_blank\" href=https://colab.research.google.com/notebooks/data_table.ipynb>data table notebook</a>'\n",
              "            + ' to learn more about interactive tables.';\n",
              "          element.innerHTML = '';\n",
              "          dataTable['output_type'] = 'display_data';\n",
              "          await google.colab.output.renderOutput(dataTable, element);\n",
              "          const docLink = document.createElement('div');\n",
              "          docLink.innerHTML = docLinkHtml;\n",
              "          element.appendChild(docLink);\n",
              "        }\n",
              "      </script>\n",
              "    </div>\n",
              "  </div>\n",
              "  "
            ]
          },
          "metadata": {},
          "execution_count": 7
        }
      ],
      "source": [
        "# adding a new column called ones before the data \n",
        "'''\n",
        " Add this column to multiply by the value of the error value part of theta 0 \n",
        "  theta 0 := theta0 - alpha * (Hypothesis)/m\n",
        "      Multiplying this column by the first col of matrix (1's) will not be affected\n",
        "      \n",
        "'''\n",
        "\n",
        "data1.insert(0, 'Ones', 1)\n",
        "data1.head()"
      ]
    },
    {
      "cell_type": "code",
      "execution_count": null,
      "metadata": {
        "colab": {
          "base_uri": "https://localhost:8080/",
          "height": 206
        },
        "id": "7ip-olY3ljHE",
        "outputId": "b3fe1950-50ef-4829-dcd9-b5843a6a131a"
      },
      "outputs": [
        {
          "output_type": "execute_result",
          "data": {
            "text/plain": [
              "   Ones    X\n",
              "0     1  2.9\n",
              "1     1  6.7\n",
              "2     1  4.9\n",
              "3     1  7.9\n",
              "4     1  9.8"
            ],
            "text/html": [
              "\n",
              "  <div id=\"df-6a45d008-106f-4956-993e-f00adc163b95\">\n",
              "    <div class=\"colab-df-container\">\n",
              "      <div>\n",
              "<style scoped>\n",
              "    .dataframe tbody tr th:only-of-type {\n",
              "        vertical-align: middle;\n",
              "    }\n",
              "\n",
              "    .dataframe tbody tr th {\n",
              "        vertical-align: top;\n",
              "    }\n",
              "\n",
              "    .dataframe thead th {\n",
              "        text-align: right;\n",
              "    }\n",
              "</style>\n",
              "<table border=\"1\" class=\"dataframe\">\n",
              "  <thead>\n",
              "    <tr style=\"text-align: right;\">\n",
              "      <th></th>\n",
              "      <th>Ones</th>\n",
              "      <th>X</th>\n",
              "    </tr>\n",
              "  </thead>\n",
              "  <tbody>\n",
              "    <tr>\n",
              "      <th>0</th>\n",
              "      <td>1</td>\n",
              "      <td>2.9</td>\n",
              "    </tr>\n",
              "    <tr>\n",
              "      <th>1</th>\n",
              "      <td>1</td>\n",
              "      <td>6.7</td>\n",
              "    </tr>\n",
              "    <tr>\n",
              "      <th>2</th>\n",
              "      <td>1</td>\n",
              "      <td>4.9</td>\n",
              "    </tr>\n",
              "    <tr>\n",
              "      <th>3</th>\n",
              "      <td>1</td>\n",
              "      <td>7.9</td>\n",
              "    </tr>\n",
              "    <tr>\n",
              "      <th>4</th>\n",
              "      <td>1</td>\n",
              "      <td>9.8</td>\n",
              "    </tr>\n",
              "  </tbody>\n",
              "</table>\n",
              "</div>\n",
              "      <button class=\"colab-df-convert\" onclick=\"convertToInteractive('df-6a45d008-106f-4956-993e-f00adc163b95')\"\n",
              "              title=\"Convert this dataframe to an interactive table.\"\n",
              "              style=\"display:none;\">\n",
              "        \n",
              "  <svg xmlns=\"http://www.w3.org/2000/svg\" height=\"24px\"viewBox=\"0 0 24 24\"\n",
              "       width=\"24px\">\n",
              "    <path d=\"M0 0h24v24H0V0z\" fill=\"none\"/>\n",
              "    <path d=\"M18.56 5.44l.94 2.06.94-2.06 2.06-.94-2.06-.94-.94-2.06-.94 2.06-2.06.94zm-11 1L8.5 8.5l.94-2.06 2.06-.94-2.06-.94L8.5 2.5l-.94 2.06-2.06.94zm10 10l.94 2.06.94-2.06 2.06-.94-2.06-.94-.94-2.06-.94 2.06-2.06.94z\"/><path d=\"M17.41 7.96l-1.37-1.37c-.4-.4-.92-.59-1.43-.59-.52 0-1.04.2-1.43.59L10.3 9.45l-7.72 7.72c-.78.78-.78 2.05 0 2.83L4 21.41c.39.39.9.59 1.41.59.51 0 1.02-.2 1.41-.59l7.78-7.78 2.81-2.81c.8-.78.8-2.07 0-2.86zM5.41 20L4 18.59l7.72-7.72 1.47 1.35L5.41 20z\"/>\n",
              "  </svg>\n",
              "      </button>\n",
              "      \n",
              "  <style>\n",
              "    .colab-df-container {\n",
              "      display:flex;\n",
              "      flex-wrap:wrap;\n",
              "      gap: 12px;\n",
              "    }\n",
              "\n",
              "    .colab-df-convert {\n",
              "      background-color: #E8F0FE;\n",
              "      border: none;\n",
              "      border-radius: 50%;\n",
              "      cursor: pointer;\n",
              "      display: none;\n",
              "      fill: #1967D2;\n",
              "      height: 32px;\n",
              "      padding: 0 0 0 0;\n",
              "      width: 32px;\n",
              "    }\n",
              "\n",
              "    .colab-df-convert:hover {\n",
              "      background-color: #E2EBFA;\n",
              "      box-shadow: 0px 1px 2px rgba(60, 64, 67, 0.3), 0px 1px 3px 1px rgba(60, 64, 67, 0.15);\n",
              "      fill: #174EA6;\n",
              "    }\n",
              "\n",
              "    [theme=dark] .colab-df-convert {\n",
              "      background-color: #3B4455;\n",
              "      fill: #D2E3FC;\n",
              "    }\n",
              "\n",
              "    [theme=dark] .colab-df-convert:hover {\n",
              "      background-color: #434B5C;\n",
              "      box-shadow: 0px 1px 3px 1px rgba(0, 0, 0, 0.15);\n",
              "      filter: drop-shadow(0px 1px 2px rgba(0, 0, 0, 0.3));\n",
              "      fill: #FFFFFF;\n",
              "    }\n",
              "  </style>\n",
              "\n",
              "      <script>\n",
              "        const buttonEl =\n",
              "          document.querySelector('#df-6a45d008-106f-4956-993e-f00adc163b95 button.colab-df-convert');\n",
              "        buttonEl.style.display =\n",
              "          google.colab.kernel.accessAllowed ? 'block' : 'none';\n",
              "\n",
              "        async function convertToInteractive(key) {\n",
              "          const element = document.querySelector('#df-6a45d008-106f-4956-993e-f00adc163b95');\n",
              "          const dataTable =\n",
              "            await google.colab.kernel.invokeFunction('convertToInteractive',\n",
              "                                                     [key], {});\n",
              "          if (!dataTable) return;\n",
              "\n",
              "          const docLinkHtml = 'Like what you see? Visit the ' +\n",
              "            '<a target=\"_blank\" href=https://colab.research.google.com/notebooks/data_table.ipynb>data table notebook</a>'\n",
              "            + ' to learn more about interactive tables.';\n",
              "          element.innerHTML = '';\n",
              "          dataTable['output_type'] = 'display_data';\n",
              "          await google.colab.output.renderOutput(dataTable, element);\n",
              "          const docLink = document.createElement('div');\n",
              "          docLink.innerHTML = docLinkHtml;\n",
              "          element.appendChild(docLink);\n",
              "        }\n",
              "      </script>\n",
              "    </div>\n",
              "  </div>\n",
              "  "
            ]
          },
          "metadata": {},
          "execution_count": 9
        }
      ],
      "source": [
        "\n",
        "# separate X ( independant data) from y (target variable or dependant data)\n",
        "cols= data1.shape[1]  # get number of columns of data \n",
        "\n",
        "x = data1.iloc[:,0:cols-1]\n",
        "y = data1.iloc[:,cols-1:cols]\n",
        "\n",
        "x.head()\n"
      ]
    },
    {
      "cell_type": "code",
      "execution_count": null,
      "metadata": {
        "colab": {
          "base_uri": "https://localhost:8080/",
          "height": 206
        },
        "id": "kdT2G_mCljHF",
        "outputId": "1d6065ff-c880-42b3-ae75-47a472c3a33a"
      },
      "outputs": [
        {
          "output_type": "execute_result",
          "data": {
            "text/plain": [
              "     Y\n",
              "0  4.0\n",
              "1  7.4\n",
              "2  5.0\n",
              "3  7.2\n",
              "4  7.9"
            ],
            "text/html": [
              "\n",
              "  <div id=\"df-76e2de99-8d7f-4bae-9e58-ee8a505aea24\">\n",
              "    <div class=\"colab-df-container\">\n",
              "      <div>\n",
              "<style scoped>\n",
              "    .dataframe tbody tr th:only-of-type {\n",
              "        vertical-align: middle;\n",
              "    }\n",
              "\n",
              "    .dataframe tbody tr th {\n",
              "        vertical-align: top;\n",
              "    }\n",
              "\n",
              "    .dataframe thead th {\n",
              "        text-align: right;\n",
              "    }\n",
              "</style>\n",
              "<table border=\"1\" class=\"dataframe\">\n",
              "  <thead>\n",
              "    <tr style=\"text-align: right;\">\n",
              "      <th></th>\n",
              "      <th>Y</th>\n",
              "    </tr>\n",
              "  </thead>\n",
              "  <tbody>\n",
              "    <tr>\n",
              "      <th>0</th>\n",
              "      <td>4.0</td>\n",
              "    </tr>\n",
              "    <tr>\n",
              "      <th>1</th>\n",
              "      <td>7.4</td>\n",
              "    </tr>\n",
              "    <tr>\n",
              "      <th>2</th>\n",
              "      <td>5.0</td>\n",
              "    </tr>\n",
              "    <tr>\n",
              "      <th>3</th>\n",
              "      <td>7.2</td>\n",
              "    </tr>\n",
              "    <tr>\n",
              "      <th>4</th>\n",
              "      <td>7.9</td>\n",
              "    </tr>\n",
              "  </tbody>\n",
              "</table>\n",
              "</div>\n",
              "      <button class=\"colab-df-convert\" onclick=\"convertToInteractive('df-76e2de99-8d7f-4bae-9e58-ee8a505aea24')\"\n",
              "              title=\"Convert this dataframe to an interactive table.\"\n",
              "              style=\"display:none;\">\n",
              "        \n",
              "  <svg xmlns=\"http://www.w3.org/2000/svg\" height=\"24px\"viewBox=\"0 0 24 24\"\n",
              "       width=\"24px\">\n",
              "    <path d=\"M0 0h24v24H0V0z\" fill=\"none\"/>\n",
              "    <path d=\"M18.56 5.44l.94 2.06.94-2.06 2.06-.94-2.06-.94-.94-2.06-.94 2.06-2.06.94zm-11 1L8.5 8.5l.94-2.06 2.06-.94-2.06-.94L8.5 2.5l-.94 2.06-2.06.94zm10 10l.94 2.06.94-2.06 2.06-.94-2.06-.94-.94-2.06-.94 2.06-2.06.94z\"/><path d=\"M17.41 7.96l-1.37-1.37c-.4-.4-.92-.59-1.43-.59-.52 0-1.04.2-1.43.59L10.3 9.45l-7.72 7.72c-.78.78-.78 2.05 0 2.83L4 21.41c.39.39.9.59 1.41.59.51 0 1.02-.2 1.41-.59l7.78-7.78 2.81-2.81c.8-.78.8-2.07 0-2.86zM5.41 20L4 18.59l7.72-7.72 1.47 1.35L5.41 20z\"/>\n",
              "  </svg>\n",
              "      </button>\n",
              "      \n",
              "  <style>\n",
              "    .colab-df-container {\n",
              "      display:flex;\n",
              "      flex-wrap:wrap;\n",
              "      gap: 12px;\n",
              "    }\n",
              "\n",
              "    .colab-df-convert {\n",
              "      background-color: #E8F0FE;\n",
              "      border: none;\n",
              "      border-radius: 50%;\n",
              "      cursor: pointer;\n",
              "      display: none;\n",
              "      fill: #1967D2;\n",
              "      height: 32px;\n",
              "      padding: 0 0 0 0;\n",
              "      width: 32px;\n",
              "    }\n",
              "\n",
              "    .colab-df-convert:hover {\n",
              "      background-color: #E2EBFA;\n",
              "      box-shadow: 0px 1px 2px rgba(60, 64, 67, 0.3), 0px 1px 3px 1px rgba(60, 64, 67, 0.15);\n",
              "      fill: #174EA6;\n",
              "    }\n",
              "\n",
              "    [theme=dark] .colab-df-convert {\n",
              "      background-color: #3B4455;\n",
              "      fill: #D2E3FC;\n",
              "    }\n",
              "\n",
              "    [theme=dark] .colab-df-convert:hover {\n",
              "      background-color: #434B5C;\n",
              "      box-shadow: 0px 1px 3px 1px rgba(0, 0, 0, 0.15);\n",
              "      filter: drop-shadow(0px 1px 2px rgba(0, 0, 0, 0.3));\n",
              "      fill: #FFFFFF;\n",
              "    }\n",
              "  </style>\n",
              "\n",
              "      <script>\n",
              "        const buttonEl =\n",
              "          document.querySelector('#df-76e2de99-8d7f-4bae-9e58-ee8a505aea24 button.colab-df-convert');\n",
              "        buttonEl.style.display =\n",
              "          google.colab.kernel.accessAllowed ? 'block' : 'none';\n",
              "\n",
              "        async function convertToInteractive(key) {\n",
              "          const element = document.querySelector('#df-76e2de99-8d7f-4bae-9e58-ee8a505aea24');\n",
              "          const dataTable =\n",
              "            await google.colab.kernel.invokeFunction('convertToInteractive',\n",
              "                                                     [key], {});\n",
              "          if (!dataTable) return;\n",
              "\n",
              "          const docLinkHtml = 'Like what you see? Visit the ' +\n",
              "            '<a target=\"_blank\" href=https://colab.research.google.com/notebooks/data_table.ipynb>data table notebook</a>'\n",
              "            + ' to learn more about interactive tables.';\n",
              "          element.innerHTML = '';\n",
              "          dataTable['output_type'] = 'display_data';\n",
              "          await google.colab.output.renderOutput(dataTable, element);\n",
              "          const docLink = document.createElement('div');\n",
              "          docLink.innerHTML = docLinkHtml;\n",
              "          element.appendChild(docLink);\n",
              "        }\n",
              "      </script>\n",
              "    </div>\n",
              "  </div>\n",
              "  "
            ]
          },
          "metadata": {},
          "execution_count": 10
        }
      ],
      "source": [
        "y.head()\n"
      ]
    },
    {
      "cell_type": "markdown",
      "metadata": {
        "id": "0wSEA_G4ljHF"
      },
      "source": [
        "#### Explore your data"
      ]
    },
    {
      "cell_type": "markdown",
      "metadata": {
        "id": "buMnIRpAljHG"
      },
      "source": [
        "#### Plot the original data (scatter plot of X,y)"
      ]
    },
    {
      "cell_type": "code",
      "execution_count": null,
      "metadata": {
        "colab": {
          "base_uri": "https://localhost:8080/",
          "height": 352
        },
        "id": "h7XktTglljHH",
        "outputId": "e2276d06-c361-42c9-efa7-907e83011628"
      },
      "outputs": [
        {
          "output_type": "execute_result",
          "data": {
            "text/plain": [
              "<matplotlib.axes._subplots.AxesSubplot at 0x7f1688408690>"
            ]
          },
          "metadata": {},
          "execution_count": 11
        },
        {
          "output_type": "display_data",
          "data": {
            "text/plain": [
              "<Figure size 360x360 with 1 Axes>"
            ],
            "image/png": "[encoded data removed]"
          },
          "metadata": {
            "needs_background": "light"
          }
        }
      ],
      "source": [
        "data1.plot(kind='scatter', x='X', y='Y', figsize=(5,5))\n"
      ]
    },
    {
      "cell_type": "markdown",
      "metadata": {
        "id": "i3VM_vKlljHH"
      },
      "source": [
        "## LR Full Implementation"
      ]
    },
    {
      "cell_type": "markdown",
      "metadata": {
        "id": "yo9Vlz8SljHI"
      },
      "source": [
        "* linear regression basically used for establishing a relationship between two variable"
      ]
    },
    {
      "cell_type": "markdown",
      "metadata": {
        "id": "pZsHGMR6ljHI"
      },
      "source": [
        "* the equation of the line in a 2D plane is given by y = m x + c where m is the slope of the line and c is the constant. Basically,\n",
        "* what linear regression does is it found the best value of m and c which will best fit the data points. \n",
        "* Basically it will guess some random value of m then check how incorrect it was and then manually adjust itself to become slightly more accurate. During Linear regression, this process is repeated constantly.\n",
        "\n",
        "\n",
        "* y = theta0 + theta1 *x1 "
      ]
    },
    {
      "cell_type": "markdown",
      "metadata": {
        "id": "qkyufUv3ljHJ"
      },
      "source": [
        "### Step1: Initialize parameters (theta_0 & theta_1) with random value or simply zero. Also choose the Learning rate. "
      ]
    },
    {
      "cell_type": "markdown",
      "metadata": {
        "id": "QW1S1WColjHJ"
      },
      "source": [
        "![image.png](attachment:image.png)"
      ]
    },
    {
      "cell_type": "code",
      "execution_count": null,
      "metadata": {
        "colab": {
          "base_uri": "https://localhost:8080/"
        },
        "id": "by0IvgavljHK",
        "outputId": "61169eee-433e-4af9-e3a3-2977e8b3c28d"
      },
      "outputs": [
        {
          "output_type": "stream",
          "name": "stdout",
          "text": [
            "theta [[0 0]]\n",
            "theta (1, 2)\n"
          ]
        }
      ],
      "source": [
        "# in vector implementation \n",
        "theta =np.matrix( np.array([0,0]))\n",
        "alpha = 0.01\n",
        "print(\"theta\" , theta )\n",
        "print(\"theta\" , theta.shape)\n"
      ]
    },
    {
      "cell_type": "code",
      "execution_count": null,
      "metadata": {
        "id": "Ko94TGyOljHL"
      },
      "outputs": [],
      "source": [
        "#convert x , y data frames to metrices\n",
        "x=  np.matrix(x.values)\n",
        "y = np.matrix (y.values)"
      ]
    },
    {
      "cell_type": "code",
      "execution_count": null,
      "metadata": {
        "colab": {
          "base_uri": "https://localhost:8080/"
        },
        "id": "_arp5FUCljHL",
        "outputId": "1d432c09-d433-4387-9f2c-c3040a6f8922"
      },
      "outputs": [
        {
          "output_type": "stream",
          "name": "stdout",
          "text": [
            "X.shape =  (13, 2)\n",
            "theta.shape =  (1, 2)\n",
            "y.shape =  (13, 1)\n"
          ]
        }
      ],
      "source": [
        "\n",
        "print('X.shape = ' , x.shape)\n",
        "print('theta.shape = ' , theta.shape)\n",
        "print('y.shape = ' , y.shape)"
      ]
    },
    {
      "cell_type": "code",
      "execution_count": null,
      "metadata": {
        "colab": {
          "base_uri": "https://localhost:8080/"
        },
        "id": "XclkqKtlljHN",
        "outputId": "ce8ae3cc-a9bd-4422-e314-4c8312fe8125"
      },
      "outputs": [
        {
          "output_type": "execute_result",
          "data": {
            "text/plain": [
              "(2, 13)"
            ]
          },
          "metadata": {},
          "execution_count": 15
        }
      ],
      "source": [
        "x.T.shape"
      ]
    },
    {
      "cell_type": "markdown",
      "metadata": {
        "id": "q6sf65PgljHN"
      },
      "source": [
        "### Step2: Use (theta_0 & theta_1) to predict the output h(x)= theta_0 + theta_1 * x.![image.png](attachment:image.png)\n",
        "#### Note: you will need to iterate through all data points"
      ]
    },
    {
      "cell_type": "code",
      "execution_count": null,
      "metadata": {
        "colab": {
          "base_uri": "https://localhost:8080/"
        },
        "id": "S9IKjqR5ljHO",
        "outputId": "2cfcf637-547f-421c-ca7a-48c90ab823ca"
      },
      "outputs": [
        {
          "output_type": "stream",
          "name": "stdout",
          "text": [
            "(13, 1)\n"
          ]
        }
      ],
      "source": [
        "#y_pred = x * theta.T\n",
        "y_pred = x @ theta.T\n",
        "\n",
        "\n",
        "print(y_pred.shape)"
      ]
    },
    {
      "cell_type": "code",
      "execution_count": null,
      "metadata": {
        "colab": {
          "base_uri": "https://localhost:8080/"
        },
        "id": "V0RGQ8Q9ljHP",
        "outputId": "5ada8a47-530d-4f8a-d6a9-ebea63c7ab35"
      },
      "outputs": [
        {
          "output_type": "execute_result",
          "data": {
            "text/plain": [
              "(1, 2)"
            ]
          },
          "metadata": {},
          "execution_count": 17
        }
      ],
      "source": [
        "theta.shape"
      ]
    },
    {
      "cell_type": "markdown",
      "metadata": {
        "id": "f82v20QDljHP"
      },
      "source": [
        "### Step3: Calculate Cost function 𝑱(theta_0,theta_1 ).![image.png](attachment:image.png)\n",
        "![image-2.png](attachment:image-2.png)"
      ]
    },
    {
      "cell_type": "code",
      "execution_count": null,
      "metadata": {
        "colab": {
          "base_uri": "https://localhost:8080/"
        },
        "id": "Ubi3iHmaljHQ",
        "outputId": "5f7f73c3-22ab-4035-ddc5-89f09ab12597"
      },
      "outputs": [
        {
          "output_type": "stream",
          "name": "stdout",
          "text": [
            "Calculate the Cost fun in  case of values of theta is 0\n",
            "16.305384479692318\n"
          ]
        }
      ],
      "source": [
        "def compute_cost(x,y,theta):\n",
        "#     print(\"theta \" , theta)\n",
        "#     print(\"cost val\",(np.sum(  np.power( ( (x @ theta.T) - y ), 2 )  ))  / (2*len(x)) )\n",
        "    return ((np.sum(  np.power( ( (x @ theta.T) - y ), 2 )  ))  / (2*len(x)) )\n",
        "  \n",
        "\n",
        "print('Calculate the Cost fun in  case of values of theta is 0')\n",
        "\n",
        "print( compute_cost(x, y, theta))\n",
        "\n",
        "    "
      ]
    },
    {
      "cell_type": "markdown",
      "metadata": {
        "id": "BfP7BBPIljHR"
      },
      "source": [
        "### Step4: Calculate the gradient.![image.png](attachment:image.png)\n",
        "![image-2.png](attachment:image-2.png)"
      ]
    },
    {
      "cell_type": "markdown",
      "metadata": {
        "id": "XWBcR0vXljHR"
      },
      "source": [
        "### Step5: Update the parameters (simultaneously).![image.png](attachment:image.png)\n",
        "![image-2.png](attachment:image-2.png)"
      ]
    },
    {
      "cell_type": "code",
      "execution_count": null,
      "metadata": {
        "id": "roQojMq_ljHR"
      },
      "outputs": [],
      "source": [
        "def copmute_gradient(x,y,alpha,iterations,theta):\n",
        "    cost_list = np.zeros(iterations+1)\n",
        "    cost_list [0] = compute_cost(x, y, theta) \n",
        "    #list_theta=[np.zeros(theta.shape)]\n",
        "    list_theta = np.array([[0,0]])\n",
        "#     print(list_theta)\n",
        "    for i in range (iterations) : \n",
        "        gradient_error =  (x * theta.T ) - y \n",
        "       # print(gradient_error.shape)\n",
        "    # iterate on parameters (theta 0 , theta 1)\\\n",
        "#         print(theta)\n",
        "        for j in range(theta.shape[1]):\n",
        "#             print(theta.shape)\n",
        "            deriv =  np.multiply ( gradient_error , x[: , j] )\n",
        "\n",
        "            sum_part = (np.sum(deriv) * (alpha /len(x) ))   #  about the term of -lr * summ((ypred-y))/m     \n",
        "            theta_values[0,j] = theta_values[0,j] - ( (alpha /len(x)) * np.sum(deriv))    \n",
        "        theta = theta_values\n",
        "        list_theta = np.append(list_theta , theta.reshape(1,-1), axis=0 )\n",
        "#         print(\"theata\" ,theta)\n",
        "#         print(\"list_theta\",np.array(list_theta).reshape(-1,2))\n",
        "#         print( compute_cost(x, y, theta))\n",
        "\n",
        "        cost_list[i+1] = compute_cost(x, y, theta)\n",
        "    return theta, cost_list ,np.array(list_theta).reshape(-1,2)  \n",
        "     \n"
      ]
    },
    {
      "cell_type": "code",
      "execution_count": null,
      "metadata": {
        "scrolled": true,
        "colab": {
          "base_uri": "https://localhost:8080/"
        },
        "id": "6v-keLE-ljHT",
        "outputId": "3430cd81-fb91-488c-8211-ecca23c22af0"
      },
      "outputs": [
        {
          "output_type": "stream",
          "name": "stdout",
          "text": [
            "g =  [[0.16684051 0.89259374]]\n",
            "cost list  =  [16.30538448 12.74962097  9.97898944  7.82012726  6.13795148  4.82720641\n",
            "  3.80587756  3.01005981  2.38995872  1.90677484  1.53027589  1.23690509\n",
            "  1.00830718  0.83017983  0.69137881  0.58322059  0.49893902  0.43326197\n",
            "  0.38208145  0.34219651  0.31111302  0.28688756  0.26800582  0.25328789\n",
            "  0.24181436  0.23286885  0.22589315  0.22045233  0.21620747  0.21289449\n",
            "  0.21030764  0.20828659  0.20670639  0.20546972  0.20450071  0.20374028\n",
            "  0.20314236  0.20267108  0.20229847  0.20200276  0.20176695  0.20157784\n",
            "  0.2014251   0.20130072  0.20119842  0.20111334  0.20104168  0.20098048\n",
            "  0.20092742  0.20088072]\n",
            "(101,)\n"
          ]
        }
      ],
      "source": [
        "# initialize variables for learning rate and iterations\n",
        "alpha = 0.003\n",
        "iterations = 100\n",
        "\n",
        "theta =np.array([0,0]).reshape(1,2)\n",
        "\n",
        "theta_values = np.zeros(theta.shape).reshape(1,2)\n",
        "\n",
        "# perform gradient descent to \"fit\" the model parameters\n",
        "\n",
        "theta, cost_list , list_theta  = copmute_gradient(x,y,alpha,iterations,theta)\n",
        "\n",
        "print('g = ' , theta)\n",
        "\n",
        "\n",
        "print('cost list  = ' ,cost_list[0:50] )\n",
        "\n",
        "#print(list_theta.reshape(-1,2))\n",
        "\n",
        "print(cost_list.shape)\n"
      ]
    },
    {
      "cell_type": "markdown",
      "metadata": {
        "id": "72gUQrTtljHU"
      },
      "source": [
        "### Step6: Repeat from 2 to 5 until converge to the minimum or achieve maximum iterations.![image.png](attachment:image.png)"
      ]
    },
    {
      "cell_type": "code",
      "execution_count": null,
      "metadata": {
        "colab": {
          "base_uri": "https://localhost:8080/"
        },
        "id": "v2K9XlskljHU",
        "outputId": "744d80b1-236b-4f53-bc89-e85a70c1a9fb"
      },
      "outputs": [
        {
          "output_type": "stream",
          "name": "stdout",
          "text": [
            "(101, 2)\n"
          ]
        }
      ],
      "source": [
        "print(list_theta.shape)\n"
      ]
    },
    {
      "cell_type": "markdown",
      "metadata": {
        "id": "o3m9i21YljHV"
      },
      "source": [
        "#### Predict y values using the LR equation\n",
        "##### h(x)= theta_0 + theta_1 * x"
      ]
    },
    {
      "cell_type": "code",
      "execution_count": null,
      "metadata": {
        "id": "timGfeGdljHW"
      },
      "outputs": [],
      "source": [
        "# get prediction on training data\n",
        "prdection_single = theta[0, 0] + (theta[0, 1] * x[:,1])      \n",
        "# print(y.shape)\n",
        "# print(x_data.shape)\n",
        "# print(prdection_single.shape)\n"
      ]
    },
    {
      "cell_type": "code",
      "execution_count": null,
      "metadata": {
        "colab": {
          "base_uri": "https://localhost:8080/"
        },
        "id": "LcJ6ltiNljHX",
        "outputId": "ccdc1aeb-7aef-4ed7-c863-a3f2ede05f46"
      },
      "outputs": [
        {
          "output_type": "execute_result",
          "data": {
            "text/plain": [
              "(101, 2)"
            ]
          },
          "metadata": {},
          "execution_count": 24
        }
      ],
      "source": [
        "list_theta.shape"
      ]
    },
    {
      "cell_type": "code",
      "execution_count": null,
      "metadata": {
        "colab": {
          "base_uri": "https://localhost:8080/"
        },
        "id": "Zx4Z2xQHljHX",
        "outputId": "efe3a501-e9ee-4a19-ed92-7d68b7218867"
      },
      "outputs": [
        {
          "output_type": "execute_result",
          "data": {
            "text/plain": [
              "(13, 1)"
            ]
          },
          "metadata": {},
          "execution_count": 25
        }
      ],
      "source": [
        "x_data.shape"
      ]
    },
    {
      "cell_type": "markdown",
      "metadata": {
        "id": "OJzhvvXmljHY"
      },
      "source": [
        "#### Plot  LR equation output (fitted line) with the original data (scatter plot of X,y)"
      ]
    },
    {
      "cell_type": "code",
      "execution_count": null,
      "metadata": {
        "scrolled": false,
        "colab": {
          "base_uri": "https://localhost:8080/",
          "height": 368
        },
        "id": "lRrGs4GeljHY",
        "outputId": "9d95a80f-395a-4e47-fa5e-342c45a980c7"
      },
      "outputs": [
        {
          "output_type": "execute_result",
          "data": {
            "text/plain": [
              "Text(0, 0.5, 'Y')"
            ]
          },
          "metadata": {},
          "execution_count": 26
        },
        {
          "output_type": "display_data",
          "data": {
            "text/plain": [
              "<Figure size 360x360 with 1 Axes>"
            ],
            "image/png": "[encoded data removed]"
          },
          "metadata": {
            "needs_background": "light"
          }
        }
      ],
      "source": [
        "\n",
        "# draw the Best Fiting line \n",
        "\n",
        "import matplotlib.pyplot as plt \n",
        "fig, ax = plt.subplots(figsize=(5,5))\n",
        "plt.plot ( x_data , prdection_single )\n",
        "ax.scatter(data1.X, data1.Y, label='BFS' )\n",
        "plt.title(\"BFL with Traning Data'\")\n",
        "ax.legend(loc=1)\n",
        "\n",
        "ax.set_xlabel('X')\n",
        "\n",
        "ax.set_ylabel('Y')\n"
      ]
    },
    {
      "cell_type": "code",
      "execution_count": null,
      "metadata": {
        "colab": {
          "base_uri": "https://localhost:8080/"
        },
        "id": "3l3_cZ-9ljHZ",
        "outputId": "8bb632d1-4ea6-4a64-a44c-936d36238d58"
      },
      "outputs": [
        {
          "output_type": "stream",
          "name": "stdout",
          "text": [
            "[2.9000001  3.04081642 3.18163275 3.32244908 3.46326541 3.60408174\n",
            " 3.74489807 3.88571439 4.02653072 4.16734705 4.30816338 4.44897971\n",
            " 4.58979604 4.73061237 4.87142869 5.01224502 5.15306135 5.29387768\n",
            " 5.43469401 5.57551034 5.71632666 5.85714299 5.99795932 6.13877565\n",
            " 6.27959198 6.42040831 6.56122464 6.70204096 6.84285729 6.98367362\n",
            " 7.12448995 7.26530628 7.40612261 7.54693894 7.68775526 7.82857159\n",
            " 7.96938792 8.11020425 8.25102058 8.39183691 8.53265323 8.67346956\n",
            " 8.81428589 8.95510222 9.09591855 9.23673488 9.37755121 9.51836753\n",
            " 9.65918386 9.80000019]\n"
          ]
        }
      ],
      "source": [
        "#Divide the x values by 100 numbers in order\n",
        "\n",
        "x_test = np.linspace(x[:,1].min(), x[:,1].max(), 50)\n",
        "print(x_test)"
      ]
    },
    {
      "cell_type": "code",
      "execution_count": null,
      "metadata": {
        "id": "Mj9j2WM8ljHZ"
      },
      "outputs": [],
      "source": [
        "\n",
        "# y_test = np.linspace(y.min(), y.max(), 50)\n",
        "# print(y_test)"
      ]
    },
    {
      "cell_type": "code",
      "execution_count": null,
      "metadata": {
        "id": "NgCybTPBljHa"
      },
      "outputs": [],
      "source": [
        "# x_test= x_test.reshape(50,1)\n",
        "# prdection2=x_test @ theta\n",
        "# prdection2.shape\n"
      ]
    },
    {
      "cell_type": "code",
      "execution_count": null,
      "metadata": {
        "colab": {
          "base_uri": "https://localhost:8080/",
          "height": 368
        },
        "id": "8hKE48inljHa",
        "outputId": "85027bee-579d-4071-8628-0425e7d6fd77"
      },
      "outputs": [
        {
          "output_type": "execute_result",
          "data": {
            "text/plain": [
              "Text(0, 0.5, 'Y')"
            ]
          },
          "metadata": {},
          "execution_count": 30
        },
        {
          "output_type": "display_data",
          "data": {
            "text/plain": [
              "<Figure size 360x360 with 1 Axes>"
            ],
            "image/png": "[encoded data removed]"
          },
          "metadata": {
            "needs_background": "light"
          }
        }
      ],
      "source": [
        "\n",
        "prdection2 = theta[0, 0] + (theta[0, 1] * x_test)\n",
        "prdection2 = np.reshape(prdection2,(50,1))\n",
        "\n",
        "import matplotlib.pyplot as plt \n",
        "\n",
        "fig, ax = plt.subplots(figsize=(5,5))\n",
        "plt.plot ( x_test , prdection2 )\n",
        "ax.scatter(data1.X, data1.Y, label='BFL With Test Data')\n",
        "ax.legend(loc=1)\n",
        "plt.title(\"BFL With Test Data\")\n",
        "\n",
        "ax.set_xlabel('X')\n",
        "\n",
        "ax.set_ylabel('Y')\n"
      ]
    },
    {
      "cell_type": "code",
      "execution_count": null,
      "metadata": {
        "colab": {
          "base_uri": "https://localhost:8080/",
          "height": 368
        },
        "id": "dyII7ftaljHa",
        "outputId": "930593d0-52ab-4e83-a427-efeae180ff36"
      },
      "outputs": [
        {
          "output_type": "execute_result",
          "data": {
            "text/plain": [
              "Text(0, 0.5, 'Y')"
            ]
          },
          "metadata": {},
          "execution_count": 31
        },
        {
          "output_type": "display_data",
          "data": {
            "text/plain": [
              "<Figure size 360x360 with 1 Axes>"
            ],
            "image/png": "[encoded data removed]"
          },
          "metadata": {
            "needs_background": "light"
          }
        }
      ],
      "source": [
        "\n",
        "# draw the line\n",
        "\n",
        "import matplotlib.pyplot as plt \n",
        "fig, ax = plt.subplots(figsize=(5,5))\n",
        "for theta in  list_theta :\n",
        "#     print(theta,theta.shape)\n",
        "    theta=theta.reshape(1,-1)\n",
        "#     print(theta,theta.shape)\n",
        "#     p= t[0, 0] + (t[0, 1] * x[:,1])\n",
        "    ax.plot(x,( (x @ theta.T) ) , label='BFL')\n",
        "    plt.title(\"BFL with devery epohc\")\n",
        "\n",
        "#     break\n",
        "    \n",
        "\n",
        "#ax.legend(loc=1)\n",
        "\n",
        "ax.set_xlabel('X')\n",
        "\n",
        "ax.set_ylabel('Y')\n"
      ]
    },
    {
      "cell_type": "markdown",
      "metadata": {
        "id": "9IadWpvHljHb"
      },
      "source": [
        "### Plot loss vs. iterations"
      ]
    },
    {
      "cell_type": "code",
      "execution_count": null,
      "metadata": {
        "colab": {
          "base_uri": "https://localhost:8080/",
          "height": 368
        },
        "id": "nkIQVly3ljHb",
        "outputId": "6d1d3f71-9f40-4334-df87-48d5e5bc40e1"
      },
      "outputs": [
        {
          "output_type": "execute_result",
          "data": {
            "text/plain": [
              "Text(0.5, 1.0, 'Error vs. Training Epoch\\\\iteration.')"
            ]
          },
          "metadata": {},
          "execution_count": 32
        },
        {
          "output_type": "display_data",
          "data": {
            "text/plain": [
              "<Figure size 360x360 with 1 Axes>"
            ],
            "image/png": "[encoded data removed]"
          },
          "metadata": {
            "needs_background": "light"
          }
        }
      ],
      "source": [
        "# draw error graph\n",
        "\n",
        "fig, ax = plt.subplots(figsize=(5,5))\n",
        "ax.plot( cost_list, 'r')\n",
        "ax.set_xlabel('Iterations')\n",
        "ax.set_ylabel('Cost')\n",
        "ax.set_title('Error vs. Training Epoch\\iteration.')\n"
      ]
    },
    {
      "cell_type": "markdown",
      "metadata": {
        "id": "ELOjJHW2ljHc"
      },
      "source": [
        "####  Theta with iterations \n"
      ]
    },
    {
      "cell_type": "code",
      "execution_count": null,
      "metadata": {
        "id": "kbDUW_WFljHc"
      },
      "outputs": [],
      "source": [
        "theta_0 = list_theta[: , 0].reshape(iterations+1,1)\n",
        "theta_1 = list_theta[: , 1].reshape(iterations+1,1)"
      ]
    },
    {
      "cell_type": "code",
      "execution_count": null,
      "metadata": {
        "colab": {
          "base_uri": "https://localhost:8080/"
        },
        "id": "FkrF32VtljHd",
        "outputId": "93888304-b07a-4060-9c71-bad30cf32daa"
      },
      "outputs": [
        {
          "output_type": "stream",
          "name": "stdout",
          "text": [
            "(101, 1)\n",
            "(101, 1)\n"
          ]
        }
      ],
      "source": [
        "\n",
        "print(theta_0.shape)\n",
        "print(theta_1.shape)"
      ]
    },
    {
      "cell_type": "code",
      "execution_count": null,
      "metadata": {
        "id": "KJRle40xljHd"
      },
      "outputs": [],
      "source": [
        "# theta_0\n"
      ]
    },
    {
      "cell_type": "code",
      "execution_count": null,
      "metadata": {
        "colab": {
          "base_uri": "https://localhost:8080/",
          "height": 369
        },
        "id": "k_qQGbb2ljHe",
        "outputId": "8d9a165c-3320-416b-d6d7-97111665571f"
      },
      "outputs": [
        {
          "output_type": "execute_result",
          "data": {
            "text/plain": [
              "Text(0.5, 1.0, 'Error vs. Training Epoch\\\\iteration.')"
            ]
          },
          "metadata": {},
          "execution_count": 36
        },
        {
          "output_type": "display_data",
          "data": {
            "text/plain": [
              "<Figure size 360x360 with 1 Axes>"
            ],
            "image/png": "[encoded data removed]"
          },
          "metadata": {
            "needs_background": "light"
          }
        }
      ],
      "source": [
        "# draw error graph\n",
        "\n",
        "fig, ax = plt.subplots(figsize=(5,5))\n",
        "ax.plot( theta_0,cost_list ,  'r')\n",
        "ax.set_xlabel('theta_0')\n",
        "ax.set_ylabel('Cost')\n",
        "ax.set_title('Error vs. Training Epoch\\iteration.')\n"
      ]
    },
    {
      "cell_type": "code",
      "execution_count": null,
      "metadata": {
        "colab": {
          "base_uri": "https://localhost:8080/",
          "height": 369
        },
        "id": "ag34_Ko9ljHe",
        "outputId": "d14688b5-a875-4e91-b31b-34c35a1a44ad"
      },
      "outputs": [
        {
          "output_type": "execute_result",
          "data": {
            "text/plain": [
              "Text(0.5, 1.0, 'Error vs. Training Epoch\\\\iteration.')"
            ]
          },
          "metadata": {},
          "execution_count": 37
        },
        {
          "output_type": "display_data",
          "data": {
            "text/plain": [
              "<Figure size 360x360 with 1 Axes>"
            ],
            "image/png": "[encoded data removed]"
          },
          "metadata": {
            "needs_background": "light"
          }
        }
      ],
      "source": [
        "# draw error graph\n",
        "\n",
        "fig, ax = plt.subplots(figsize=(5,5))\n",
        "ax.plot( theta_1, cost_list ,  'r')\n",
        "ax.set_xlabel('theta_1')\n",
        "ax.set_ylabel('Cost')\n",
        "ax.set_title('Error vs. Training Epoch\\iteration.')\n"
      ]
    },
    {
      "cell_type": "markdown",
      "metadata": {
        "id": "Obr5q4qEljHf"
      },
      "source": [
        "#### Use R2 score to evaluate LR equation output\n",
        "![image.png](attachment:image.png)\n",
        "![image-2.png](attachment:image-2.png)\n",
        "![image-3.png](attachment:image-3.png)\n",
        "https://en.wikipedia.org/wiki/Coefficient_of_determination"
      ]
    },
    {
      "cell_type": "code",
      "execution_count": null,
      "metadata": {
        "id": "ESK6oVbbljHf"
      },
      "outputs": [],
      "source": [
        "prdection = theta[0, 0] + (theta[0, 1] * x[:,1])\n"
      ]
    },
    {
      "cell_type": "code",
      "execution_count": null,
      "metadata": {
        "colab": {
          "base_uri": "https://localhost:8080/"
        },
        "id": "-U6chq2UljHg",
        "outputId": "f973f1e3-22b8-4170-dc34-6d0b90c46f34"
      },
      "outputs": [
        {
          "output_type": "stream",
          "name": "stdout",
          "text": [
            "0.7496613082813561\n"
          ]
        },
        {
          "output_type": "stream",
          "name": "stderr",
          "text": [
            "/usr/local/lib/python3.7/dist-packages/sklearn/utils/validation.py:598: FutureWarning: np.matrix usage is deprecated in 1.0 and will raise a TypeError in 1.2. Please convert to a numpy array with np.asarray. For more information see: https://numpy.org/doc/stable/reference/generated/numpy.matrix.html\n",
            "  FutureWarning,\n",
            "/usr/local/lib/python3.7/dist-packages/sklearn/utils/validation.py:598: FutureWarning: np.matrix usage is deprecated in 1.0 and will raise a TypeError in 1.2. Please convert to a numpy array with np.asarray. For more information see: https://numpy.org/doc/stable/reference/generated/numpy.matrix.html\n",
            "  FutureWarning,\n"
          ]
        }
      ],
      "source": [
        "from sklearn.metrics import r2_score\n",
        "print(r2_score(y,prdection))"
      ]
    },
    {
      "cell_type": "markdown",
      "metadata": {
        "id": "O1NeSrRNljHg"
      },
      "source": [
        "### Repeat implementation but for more than one variable"
      ]
    },
    {
      "cell_type": "markdown",
      "metadata": {
        "id": "8hDStcbHljHh"
      },
      "source": [
        "# Multivariate LR"
      ]
    },
    {
      "cell_type": "markdown",
      "metadata": {
        "id": "fLIhXa-rljHh"
      },
      "source": [
        "## GD vectorize Implementation\n",
        "### Implement GD without iterate through data points i.e. use vector operations"
      ]
    },
    {
      "cell_type": "markdown",
      "metadata": {
        "id": "Uz1HG8AJljHi"
      },
      "source": [
        "#### Read MultipleLR csv file into numpy array  (check your data)\n",
        "##### Data source\n",
        "https://college.cengage.com/mathematics/brase/understandable_statistics/7e/students/datasets/slr/frames/frame.html\n"
      ]
    },
    {
      "cell_type": "code",
      "execution_count": null,
      "metadata": {
        "colab": {
          "base_uri": "https://localhost:8080/",
          "height": 206
        },
        "id": "tNZ5FUYcljHi",
        "outputId": "f4ba1a61-15ea-4723-e084-6ef4af4d107f"
      },
      "outputs": [
        {
          "output_type": "execute_result",
          "data": {
            "text/plain": [
              "   x1  x2   x3    y\n",
              "0  73  80   75  152\n",
              "1  93  88   93  185\n",
              "2  89  91   90  180\n",
              "3  96  98  100  196\n",
              "4  73  66   70  142"
            ],
            "text/html": [
              "\n",
              "  <div id=\"df-c296fc24-51d8-401c-9dce-8b72b87b2d9d\">\n",
              "    <div class=\"colab-df-container\">\n",
              "      <div>\n",
              "<style scoped>\n",
              "    .dataframe tbody tr th:only-of-type {\n",
              "        vertical-align: middle;\n",
              "    }\n",
              "\n",
              "    .dataframe tbody tr th {\n",
              "        vertical-align: top;\n",
              "    }\n",
              "\n",
              "    .dataframe thead th {\n",
              "        text-align: right;\n",
              "    }\n",
              "</style>\n",
              "<table border=\"1\" class=\"dataframe\">\n",
              "  <thead>\n",
              "    <tr style=\"text-align: right;\">\n",
              "      <th></th>\n",
              "      <th>x1</th>\n",
              "      <th>x2</th>\n",
              "      <th>x3</th>\n",
              "      <th>y</th>\n",
              "    </tr>\n",
              "  </thead>\n",
              "  <tbody>\n",
              "    <tr>\n",
              "      <th>0</th>\n",
              "      <td>73</td>\n",
              "      <td>80</td>\n",
              "      <td>75</td>\n",
              "      <td>152</td>\n",
              "    </tr>\n",
              "    <tr>\n",
              "      <th>1</th>\n",
              "      <td>93</td>\n",
              "      <td>88</td>\n",
              "      <td>93</td>\n",
              "      <td>185</td>\n",
              "    </tr>\n",
              "    <tr>\n",
              "      <th>2</th>\n",
              "      <td>89</td>\n",
              "      <td>91</td>\n",
              "      <td>90</td>\n",
              "      <td>180</td>\n",
              "    </tr>\n",
              "    <tr>\n",
              "      <th>3</th>\n",
              "      <td>96</td>\n",
              "      <td>98</td>\n",
              "      <td>100</td>\n",
              "      <td>196</td>\n",
              "    </tr>\n",
              "    <tr>\n",
              "      <th>4</th>\n",
              "      <td>73</td>\n",
              "      <td>66</td>\n",
              "      <td>70</td>\n",
              "      <td>142</td>\n",
              "    </tr>\n",
              "  </tbody>\n",
              "</table>\n",
              "</div>\n",
              "      <button class=\"colab-df-convert\" onclick=\"convertToInteractive('df-c296fc24-51d8-401c-9dce-8b72b87b2d9d')\"\n",
              "              title=\"Convert this dataframe to an interactive table.\"\n",
              "              style=\"display:none;\">\n",
              "        \n",
              "  <svg xmlns=\"http://www.w3.org/2000/svg\" height=\"24px\"viewBox=\"0 0 24 24\"\n",
              "       width=\"24px\">\n",
              "    <path d=\"M0 0h24v24H0V0z\" fill=\"none\"/>\n",
              "    <path d=\"M18.56 5.44l.94 2.06.94-2.06 2.06-.94-2.06-.94-.94-2.06-.94 2.06-2.06.94zm-11 1L8.5 8.5l.94-2.06 2.06-.94-2.06-.94L8.5 2.5l-.94 2.06-2.06.94zm10 10l.94 2.06.94-2.06 2.06-.94-2.06-.94-.94-2.06-.94 2.06-2.06.94z\"/><path d=\"M17.41 7.96l-1.37-1.37c-.4-.4-.92-.59-1.43-.59-.52 0-1.04.2-1.43.59L10.3 9.45l-7.72 7.72c-.78.78-.78 2.05 0 2.83L4 21.41c.39.39.9.59 1.41.59.51 0 1.02-.2 1.41-.59l7.78-7.78 2.81-2.81c.8-.78.8-2.07 0-2.86zM5.41 20L4 18.59l7.72-7.72 1.47 1.35L5.41 20z\"/>\n",
              "  </svg>\n",
              "      </button>\n",
              "      \n",
              "  <style>\n",
              "    .colab-df-container {\n",
              "      display:flex;\n",
              "      flex-wrap:wrap;\n",
              "      gap: 12px;\n",
              "    }\n",
              "\n",
              "    .colab-df-convert {\n",
              "      background-color: #E8F0FE;\n",
              "      border: none;\n",
              "      border-radius: 50%;\n",
              "      cursor: pointer;\n",
              "      display: none;\n",
              "      fill: #1967D2;\n",
              "      height: 32px;\n",
              "      padding: 0 0 0 0;\n",
              "      width: 32px;\n",
              "    }\n",
              "\n",
              "    .colab-df-convert:hover {\n",
              "      background-color: #E2EBFA;\n",
              "      box-shadow: 0px 1px 2px rgba(60, 64, 67, 0.3), 0px 1px 3px 1px rgba(60, 64, 67, 0.15);\n",
              "      fill: #174EA6;\n",
              "    }\n",
              "\n",
              "    [theme=dark] .colab-df-convert {\n",
              "      background-color: #3B4455;\n",
              "      fill: #D2E3FC;\n",
              "    }\n",
              "\n",
              "    [theme=dark] .colab-df-convert:hover {\n",
              "      background-color: #434B5C;\n",
              "      box-shadow: 0px 1px 3px 1px rgba(0, 0, 0, 0.15);\n",
              "      filter: drop-shadow(0px 1px 2px rgba(0, 0, 0, 0.3));\n",
              "      fill: #FFFFFF;\n",
              "    }\n",
              "  </style>\n",
              "\n",
              "      <script>\n",
              "        const buttonEl =\n",
              "          document.querySelector('#df-c296fc24-51d8-401c-9dce-8b72b87b2d9d button.colab-df-convert');\n",
              "        buttonEl.style.display =\n",
              "          google.colab.kernel.accessAllowed ? 'block' : 'none';\n",
              "\n",
              "        async function convertToInteractive(key) {\n",
              "          const element = document.querySelector('#df-c296fc24-51d8-401c-9dce-8b72b87b2d9d');\n",
              "          const dataTable =\n",
              "            await google.colab.kernel.invokeFunction('convertToInteractive',\n",
              "                                                     [key], {});\n",
              "          if (!dataTable) return;\n",
              "\n",
              "          const docLinkHtml = 'Like what you see? Visit the ' +\n",
              "            '<a target=\"_blank\" href=https://colab.research.google.com/notebooks/data_table.ipynb>data table notebook</a>'\n",
              "            + ' to learn more about interactive tables.';\n",
              "          element.innerHTML = '';\n",
              "          dataTable['output_type'] = 'display_data';\n",
              "          await google.colab.output.renderOutput(dataTable, element);\n",
              "          const docLink = document.createElement('div');\n",
              "          docLink.innerHTML = docLinkHtml;\n",
              "          element.appendChild(docLink);\n",
              "        }\n",
              "      </script>\n",
              "    </div>\n",
              "  </div>\n",
              "  "
            ]
          },
          "metadata": {},
          "execution_count": 44
        }
      ],
      "source": [
        "import numpy as np\n",
        "import pandas as pd\n",
        "import matplotlib.pyplot as plt\n",
        "path = '/content/sample_data/MultipleLR.csv'\n",
        "data = pd.read_csv(path, header=None, names=['x1', 'x2','x3','y'])\n",
        "data.head()"
      ]
    },
    {
      "cell_type": "code",
      "execution_count": null,
      "metadata": {
        "colab": {
          "base_uri": "https://localhost:8080/"
        },
        "id": "Rd_AAsyjljHj",
        "outputId": "6f9bf47c-a9a2-4f58-a26b-78dc39d9fef5"
      },
      "outputs": [
        {
          "output_type": "stream",
          "name": "stdout",
          "text": [
            "4\n"
          ]
        }
      ],
      "source": [
        "# firstly separte x , y \n",
        "cols = data.shape[1]\n",
        "\n",
        "x_data2 = data.iloc[: , 0:cols-1]\n",
        "\n",
        "\n",
        "print(cols)\n",
        "X = data.iloc[: , 0:cols-1]\n",
        "Y = data.iloc[: , cols-1:cols]\n",
        "X.insert(0, 'Ones', 1)\n"
      ]
    },
    {
      "cell_type": "code",
      "execution_count": null,
      "metadata": {
        "id": "2McTyEFbljHj",
        "outputId": "d32f0877-2ff3-456e-a665-82a1ef9992c1"
      },
      "outputs": [
        {
          "name": "stdout",
          "output_type": "stream",
          "text": [
            "   Ones  x1  x2   x3\n",
            "0     1  73  80   75\n",
            "1     1  93  88   93\n",
            "2     1  89  91   90\n",
            "3     1  96  98  100\n",
            "4     1  73  66   70\n",
            "     y\n",
            "0  152\n",
            "1  185\n",
            "2  180\n",
            "3  196\n",
            "4  142\n"
          ]
        }
      ],
      "source": [
        "print(X.head())\n",
        "print(Y.head())"
      ]
    },
    {
      "cell_type": "code",
      "execution_count": null,
      "metadata": {
        "id": "oYEee-YmljHj",
        "outputId": "17dbeab6-903f-4cd8-d193-9dc0f16d73e2"
      },
      "outputs": [
        {
          "name": "stdout",
          "output_type": "stream",
          "text": [
            "X.shape =  (25, 4)\n",
            "y.shape =  (25, 1)\n"
          ]
        }
      ],
      "source": [
        "X=  np.matrix(X.values)\n",
        "Y = np.matrix (Y.values)\n",
        "print('X.shape = ' , X.shape)\n",
        "# print('theta.shape = ' , theta.shape)\n",
        "print('y.shape = ' , Y.shape)"
      ]
    },
    {
      "cell_type": "code",
      "execution_count": null,
      "metadata": {
        "id": "fDLjnt6AljHk",
        "outputId": "4ffee408-f902-4c7f-a999-a3c859cb5661"
      },
      "outputs": [
        {
          "data": {
            "text/plain": [
              "matrix([[13405.98]])"
            ]
          },
          "execution_count": 202,
          "metadata": {},
          "output_type": "execute_result"
        }
      ],
      "source": [
        "thetamul = np.matrix(np.zeros(4).reshape(1,4))\n",
        "def computeCost(theta , x , y ):\n",
        "    m=len(x)\n",
        "    h= np.dot(x, theta.T)\n",
        "    return 1/(2*m) * sum(np.square(h-y))\n",
        "computeCost(thetamul,X,Y)\n",
        "# print(x.shape)\n",
        "# print(y.shape)\n",
        "# print(theta.shape)\n",
        "\n",
        "    "
      ]
    },
    {
      "cell_type": "code",
      "execution_count": null,
      "metadata": {
        "id": "Q3h16W_lljHk"
      },
      "outputs": [],
      "source": [
        "#Now buliding multivariable regression using Gd \n",
        "def MultiVarGD__(x,y,alpha,iteration):\n",
        "    #0- preparing \n",
        " \n",
        "    # add x0 with ones to theta 0 \n",
        "    # add new col with ones to x data \n",
        "    #number of cols -- features\n",
        "    n = x.shape[1] \n",
        "    #number of rows -- observations\n",
        "    m = x.shape[0]\n",
        "    # intialize theta \n",
        "    stp=iteration\n",
        "    theta =  np.matrix(np.zeros(n).reshape(1,n))\n",
        "    #theta list to store theta values \n",
        "    list_theta =np.zeros(n*iteration).reshape(iteration , n )\n",
        "#     theta_values = np.matrix(np.zeros(theta.shape))\n",
        "\n",
        "    #1- need to compute hypothesis\n",
        "    y_pred = x @ theta.T\n",
        "    #2- comoute cost function -- make cost list to store all costs \n",
        "    cost_list = np.zeros(iteration)\n",
        "    for i in range(iteration):\n",
        "        gradient_error =  (x @ theta.T ) - y \n",
        "        gradient_error= np.dot(gradient_error.T , x )\n",
        "        \n",
        "        theta = theta - ( (alpha /m) * gradient_error )\n",
        "        list_theta[i]= theta\n",
        "#       cost_list[i+1] =computeCost(x,y,theta)\n",
        "        h= np.dot(x, theta.T)\n",
        "        cost_list[i]=  1/(2*m) * sum(np.square(h-y))\n",
        "        if(abs( cost_list[i] - cost_list[i-1]) <= 0.1):\n",
        "            stp=i\n",
        "            break\n",
        "    return   cost_list[0:stp].reshape(stp , 1) , theta , list_theta[0:stp]\n",
        "        \n",
        "        "
      ]
    },
    {
      "cell_type": "code",
      "execution_count": null,
      "metadata": {
        "id": "fVj-Cx6OljHl"
      },
      "outputs": [],
      "source": [
        "alpha = 0.000005\n",
        "iterations =100\n",
        "# Calculating theta and cost\n",
        "cost_list , theta , list_theta = MultiVarGD__(X, Y, alpha, iterations)\n"
      ]
    },
    {
      "cell_type": "code",
      "execution_count": null,
      "metadata": {
        "id": "xJs3zTzyljHl",
        "outputId": "db4daf94-b139-4160-abae-93eb2172bff6"
      },
      "outputs": [
        {
          "name": "stdout",
          "output_type": "stream",
          "text": [
            "final cost is : [6.29678068]\n"
          ]
        }
      ],
      "source": [
        "# print(\"Final theta is : \",theta)\n",
        "# print(\"theta values are :\" , list_theta)\n",
        "# print(theta.shape)\n",
        "# print(\"cost values are :\" , cost_list)\n",
        "# # print(cost_list.shape)\n",
        "print(\"final cost is :\",cost_list[-1])\n",
        "# "
      ]
    },
    {
      "cell_type": "code",
      "execution_count": null,
      "metadata": {
        "id": "2L3tmCJFljHm",
        "outputId": "1ee653b1-cb55-4569-c5bc-6e2f4bf0cfec"
      },
      "outputs": [
        {
          "name": "stdout",
          "output_type": "stream",
          "text": [
            "(13, 1)\n",
            "(13, 1)\n"
          ]
        }
      ],
      "source": [
        "prdection_multi  = X @ theta.T\n",
        "\n",
        "print(y.shape)\n",
        "\n",
        "print(x_data.shape)\n"
      ]
    },
    {
      "cell_type": "markdown",
      "metadata": {
        "id": "-QSb1wykljHm"
      },
      "source": [
        "#### Plot the output and calculate R2 score\n",
        "##### Make sure that you obtained the same results"
      ]
    },
    {
      "cell_type": "markdown",
      "metadata": {
        "id": "bT19lwJmljHm"
      },
      "source": [
        "### Plot loss vs. iterations"
      ]
    },
    {
      "cell_type": "code",
      "execution_count": null,
      "metadata": {
        "id": "JsWt30EAljHn",
        "outputId": "4c3d1234-c42e-4126-af37-d1a82d2b27e7"
      },
      "outputs": [
        {
          "data": {
            "text/plain": [
              "Text(0.5, 1.0, 'Error vs. Training Epoch\\\\iteration.')"
            ]
          },
          "execution_count": 207,
          "metadata": {},
          "output_type": "execute_result"
        },
        {
          "data": {
            "image/png": "[encoded data removed]",
            "text/plain": [
              "<Figure size 360x360 with 1 Axes>"
            ]
          },
          "metadata": {
            "needs_background": "light"
          },
          "output_type": "display_data"
        }
      ],
      "source": [
        "# draw error graph\n",
        "\n",
        "fig, ax = plt.subplots(figsize=(5,5))\n",
        "ax.plot( cost_list, 'r')\n",
        "ax.set_xlabel('Iterations')\n",
        "ax.set_ylabel('Cost')\n",
        "ax.set_title('Error vs. Training Epoch\\iteration.')\n"
      ]
    },
    {
      "cell_type": "code",
      "execution_count": null,
      "metadata": {
        "id": "d7LzHftTljHn",
        "outputId": "ba87b168-2947-4fb8-e639-1ec4b17ef19f"
      },
      "outputs": [
        {
          "name": "stdout",
          "output_type": "stream",
          "text": [
            "(50, 1)\n",
            "(50, 1)\n"
          ]
        }
      ],
      "source": [
        "theta0 = list_theta[: , 0].reshape(-1,1)\n",
        "theta1 = list_theta[: , 1].reshape(-1,1)\n",
        "print(theta0.shape)\n",
        "print(theta1.shape)"
      ]
    },
    {
      "cell_type": "code",
      "execution_count": null,
      "metadata": {
        "id": "fKQR_R2tljHo",
        "outputId": "6b70adce-ca98-4e67-94e1-3d8387d3e5de"
      },
      "outputs": [
        {
          "data": {
            "text/plain": [
              "Text(0.5, 1.0, 'cost function wit theta 1.')"
            ]
          },
          "execution_count": 209,
          "metadata": {},
          "output_type": "execute_result"
        },
        {
          "data": {
            "image/png": "[encoded data removed]",
            "text/plain": [
              "<Figure size 360x360 with 1 Axes>"
            ]
          },
          "metadata": {
            "needs_background": "light"
          },
          "output_type": "display_data"
        }
      ],
      "source": [
        "# draw error graph\n",
        "\n",
        "fig, ax = plt.subplots(figsize=(5,5))\n",
        "ax.plot( theta0,cost_list ,  'r')\n",
        "ax.set_xlabel('theta_0')\n",
        "ax.set_ylabel('Cost')\n",
        "ax.set_title('cost function wit theta 1.')\n"
      ]
    },
    {
      "cell_type": "code",
      "execution_count": null,
      "metadata": {
        "id": "nhGIZQsIljHo",
        "outputId": "22f75007-21be-4965-ad4a-44277afc249a"
      },
      "outputs": [
        {
          "data": {
            "text/plain": [
              "Text(0.5, 1.0, 'cost function wit theta 1.')"
            ]
          },
          "execution_count": 210,
          "metadata": {},
          "output_type": "execute_result"
        },
        {
          "data": {
            "image/png": "[encoded data removed]",
            "text/plain": [
              "<Figure size 360x360 with 1 Axes>"
            ]
          },
          "metadata": {
            "needs_background": "light"
          },
          "output_type": "display_data"
        }
      ],
      "source": [
        "# draw error graph\n",
        "\n",
        "fig, ax = plt.subplots(figsize=(5,5))\n",
        "ax.plot( theta1, cost_list ,  'r')\n",
        "ax.set_xlabel('theta_1')\n",
        "ax.set_ylabel('Cost')\n",
        "ax.set_title('cost function wit theta 1.')\n"
      ]
    },
    {
      "cell_type": "code",
      "execution_count": null,
      "metadata": {
        "id": "tMDG75nvljHp",
        "outputId": "8092309b-4a84-4445-93ce-05a51ded7bc3"
      },
      "outputs": [
        {
          "name": "stdout",
          "output_type": "stream",
          "text": [
            "0.9776096872671454\n"
          ]
        }
      ],
      "source": [
        "from sklearn.metrics import r2_score\n",
        "print(r2_score(Y,prdection_multi))"
      ]
    },
    {
      "cell_type": "markdown",
      "metadata": {
        "id": "IlnqO7QDljHq"
      },
      "source": [
        "# Using SKlearn"
      ]
    },
    {
      "cell_type": "markdown",
      "metadata": {
        "id": "2vmkw9bKljHq"
      },
      "source": [
        "### Single Variable"
      ]
    },
    {
      "cell_type": "markdown",
      "metadata": {
        "id": "qHu2QmpYljHq"
      },
      "source": [
        "#### Build a LR model usin linearmodel.LinearRegression() from sklearn library"
      ]
    },
    {
      "cell_type": "code",
      "execution_count": null,
      "metadata": {
        "id": "MM5UcgIWljHq"
      },
      "outputs": [],
      "source": [
        "from sklearn.linear_model import LinearRegression\n"
      ]
    },
    {
      "cell_type": "markdown",
      "metadata": {
        "id": "OjbANwoGljHr"
      },
      "source": [
        "#### Train the model (fit the model to the training data)"
      ]
    },
    {
      "cell_type": "code",
      "execution_count": null,
      "metadata": {
        "id": "ZgXeuOFZljHr"
      },
      "outputs": [],
      "source": [
        "reg = LinearRegression().fit(x, y)\n"
      ]
    },
    {
      "cell_type": "code",
      "execution_count": null,
      "metadata": {
        "id": "bWilK9ealjHs",
        "outputId": "2adf5fc3-27ab-43a9-b829-34423d3532c9"
      },
      "outputs": [
        {
          "data": {
            "text/plain": [
              "(13, 1)"
            ]
          },
          "execution_count": 216,
          "metadata": {},
          "output_type": "execute_result"
        }
      ],
      "source": [
        "predict = reg.predict(x)\n",
        "x_data.shape"
      ]
    },
    {
      "cell_type": "markdown",
      "metadata": {
        "id": "VcD1Je5OljHr"
      },
      "source": [
        "#### Predict y values using the trained model"
      ]
    },
    {
      "cell_type": "markdown",
      "metadata": {
        "id": "nyW_8mfEljHt"
      },
      "source": [
        "#### Plot model output (fitted line) with the original data (scatter plot of X,y)"
      ]
    },
    {
      "cell_type": "code",
      "execution_count": null,
      "metadata": {
        "id": "x_vAhZePljHt",
        "outputId": "83126401-75cd-4b52-abac-ed1fb11c79c7"
      },
      "outputs": [
        {
          "data": {
            "text/plain": [
              "Text(0, 0.5, 'Y')"
            ]
          },
          "execution_count": 217,
          "metadata": {},
          "output_type": "execute_result"
        },
        {
          "data": {
            "image/png": "[encoded data removed]",
            "text/plain": [
              "<Figure size 360x360 with 1 Axes>"
            ]
          },
          "metadata": {
            "needs_background": "light"
          },
          "output_type": "display_data"
        }
      ],
      "source": [
        "\n",
        "import matplotlib.pyplot as plt \n",
        "\n",
        "fig, ax = plt.subplots(figsize=(5,5))\n",
        "plt.plot ( x_data, predict )\n",
        "ax.scatter(data1.X, data1.Y, label='BFL With Test Data')\n",
        "ax.legend(loc=1)\n",
        "plt.title(\"BFL With Test Data\")\n",
        "\n",
        "ax.set_xlabel('X')\n",
        "\n",
        "ax.set_ylabel('Y')\n"
      ]
    },
    {
      "cell_type": "markdown",
      "metadata": {
        "id": "WXE2urNWljHu"
      },
      "source": [
        "#### Use R2 score to evaluate model output"
      ]
    },
    {
      "cell_type": "code",
      "execution_count": null,
      "metadata": {
        "id": "toRHmh4eljHu",
        "outputId": "6178cc4c-4f7c-4b66-eca0-1ad64f65efb0"
      },
      "outputs": [
        {
          "name": "stdout",
          "output_type": "stream",
          "text": [
            "0.8213156778363777\n"
          ]
        }
      ],
      "source": [
        "from sklearn.metrics import r2_score\n",
        "print(r2_score(y,predict))"
      ]
    },
    {
      "cell_type": "markdown",
      "metadata": {
        "id": "y2SHtfBHljHv"
      },
      "source": [
        "### Repeat for Mulivariate"
      ]
    },
    {
      "cell_type": "code",
      "execution_count": null,
      "metadata": {
        "id": "mEpfVz4jljHv"
      },
      "outputs": [],
      "source": [
        "reg_multi = LinearRegression().fit(X, Y)\n",
        "predictmulti = reg_multi.predict(X)\n"
      ]
    },
    {
      "cell_type": "code",
      "execution_count": null,
      "metadata": {
        "id": "_Jl_u0tYljHv",
        "outputId": "237500d1-5406-49b3-ce42-2ac77e93a078"
      },
      "outputs": [
        {
          "name": "stdout",
          "output_type": "stream",
          "text": [
            "0.9896615789448399\n"
          ]
        }
      ],
      "source": [
        "from sklearn.metrics import r2_score\n",
        "print(r2_score(Y,predictmulti))"
      ]
    },
    {
      "cell_type": "code",
      "execution_count": null,
      "metadata": {
        "id": "mMgxh8EkljHv"
      },
      "outputs": [],
      "source": [
        ""
      ]
    }
  ],
  "metadata": {
    "kernelspec": {
      "display_name": "Python 3",
      "language": "python",
      "name": "python3"
    },
    "language_info": {
      "codemirror_mode": {
        "name": "ipython",
        "version": 3
      },
      "file_extension": ".py",
      "mimetype": "text/x-python",
      "name": "python",
      "nbconvert_exporter": "python",
      "pygments_lexer": "ipython3",
      "version": "3.8.3"
    },
    "colab": {
      "name": "GD with LinearRegression( single &multi)var",
      "provenance": []
    }
  },
  "nbformat": 4,
  "nbformat_minor": 0
}