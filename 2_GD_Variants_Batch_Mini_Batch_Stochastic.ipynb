{
  "cells": [
    {
      "cell_type": "markdown",
      "metadata": {
        "id": "cIKQNNGwDF4o"
      },
      "source": [
        "For this practical work, will have to develop a Python program that is able to implement the gradient descent variants (Batch/Mini-Batch/Stochastic) in order to achieve the linear regression of a set of datapoints.\n",
        "\n",
        "\n",
        "\n"
      ]
    },
    {
      "cell_type": "markdown",
      "metadata": {
        "id": "QkrZim5RDF4p"
      },
      "source": [
        "#### Import numpy, matplotlib.pyplot and make it inline"
      ]
    },
    {
      "cell_type": "code",
      "execution_count": 50,
      "metadata": {
        "id": "dF4DLfn-DF4q"
      },
      "outputs": [],
      "source": [
        "import numpy as np \n",
        "import pandas as pd\n",
        "import matplotlib.pyplot as plt\n"
      ]
    },
    {
      "cell_type": "markdown",
      "metadata": {
        "id": "tyUdF3pZDF4s"
      },
      "source": [
        "To have a dataset or set of data points, the student must generate a pair of arrays <b>X</b> and <b>y</b> with the values in <b>X</b> equally distributed between <b>0</b> and <b>20</b> and the values in <b>y</b> such that: \n",
        "<b>yi = a*xi + b (and a = -2, b = 1)</b>\n"
      ]
    },
    {
      "cell_type": "code",
      "execution_count": null,
      "metadata": {
        "id": "2jWBpPbwDF4s",
        "outputId": "f67e5b9b-e2fb-4957-d03a-ed8e9c576977"
      },
      "outputs": [
        {
          "name": "stdout",
          "output_type": "stream",
          "text": [
            "(50, 1)\n",
            "(50, 1)\n"
          ]
        }
      ],
      "source": [
        "a = -2 \n",
        "b = 1\n",
        "X= np.linspace(0, 20 )\n",
        "x= np.linspace(0, 20 )\n",
        "\n",
        "x=x.reshape(len(x) , 1)\n",
        "print(x.shape)\n",
        "y = np.multiply(x,a) + b \n",
        "y=x.reshape(len(y) , 1)\n",
        "print(y.shape)"
      ]
    },
    {
      "cell_type": "code",
      "execution_count": null,
      "metadata": {
        "id": "AM4iSC3nDF4u",
        "outputId": "aecbad9e-eca2-4de6-e4d5-c88437e09efb"
      },
      "outputs": [
        {
          "name": "stdout",
          "output_type": "stream",
          "text": [
            "(50, 1)\n"
          ]
        }
      ],
      "source": [
        "ones=np.ones(len(x))\n",
        "ones = ones.reshape(len(ones),1)\n",
        "print(ones.shape)"
      ]
    },
    {
      "cell_type": "code",
      "execution_count": null,
      "metadata": {
        "id": "lKXGaNUWDF4v"
      },
      "outputs": [],
      "source": [
        "\n",
        "x= np.concatenate((ones,x), axis=1)"
      ]
    },
    {
      "cell_type": "code",
      "execution_count": null,
      "metadata": {
        "id": "1W-U2d6JDF4v",
        "outputId": "68c5925f-cafd-402a-9a76-1e384d4ddecf"
      },
      "outputs": [
        {
          "data": {
            "text/plain": [
              "(50, 2)"
            ]
          },
          "execution_count": 5,
          "metadata": {},
          "output_type": "execute_result"
        }
      ],
      "source": [
        "x.shape"
      ]
    },
    {
      "cell_type": "markdown",
      "metadata": {
        "id": "jzceLaAqDF4w"
      },
      "source": [
        "#### Use your code from practical session 1 and create a function to perform GD for single variable linear regression.\n",
        "\n",
        "#### The function should take the following input parameters:\n",
        "\n",
        "##### Input data (X), Target Labels (y), Learning Rate (alpha), Maximum number of iterations\n",
        "\n",
        "#### The function should return the following:\n",
        "\n",
        "##### All Theta_0 and Theta_1 values till converge, and equivellant Losses, all hypothesis output, and optimum values of Theta_0 and Theta_1\n",
        "\n",
        "#### Note: you can choose any suitable stop criteria."
      ]
    },
    {
      "cell_type": "code",
      "execution_count": null,
      "metadata": {
        "id": "wRMpQZ_IDF4x"
      },
      "outputs": [],
      "source": [
        ""
      ]
    },
    {
      "cell_type": "markdown",
      "metadata": {
        "id": "LNfYCd_rDF4y"
      },
      "source": [
        "#### Try your function with any input parameterss of your choice."
      ]
    },
    {
      "cell_type": "code",
      "execution_count": null,
      "metadata": {
        "id": "rfWaUTVpDF4z"
      },
      "outputs": [],
      "source": [
        "def compute_cost(x,y,theta):\n",
        "#     print(\"theta \" , theta)\n",
        "#     print(\"cost val\",(np.sum(  np.power( ( (x @ theta.T) - y ), 2 )  ))  / (2*len(x)) )\n",
        "    return ((np.sum(  np.power( ( (x @ theta.T) - y ), 2 )  ))  / (2*len(x)) )\n",
        "  "
      ]
    },
    {
      "cell_type": "code",
      "execution_count": null,
      "metadata": {
        "id": "ZgCdW1tpDF4z"
      },
      "outputs": [],
      "source": [
        "def copmute_gradient(x,y,alpha,iterations):\n",
        "    \n",
        "    theta =np.array([0,0]).reshape(1,2)\n",
        "\n",
        "    cost_list = np.zeros(iterations+1)\n",
        "    cost_list [0] = compute_cost(x, y, theta) \n",
        "    #list_theta=[np.zeros(theta.shape)]\n",
        "    list_theta = np.array([[0,0]])\n",
        "    theta_values = np.zeros(theta.shape).reshape(1,2)\n",
        "\n",
        "#     print(list_theta)\n",
        "    stp=iterations\n",
        "\n",
        "    for i in range (iterations) : \n",
        "        gradient_error =  (x @theta.T ) - y \n",
        "       # print(gradient_error.shape)\n",
        "        \n",
        "    # iterate on parameters (theta 0 , theta 1)\\\n",
        "#         print(theta)\n",
        " \n",
        "        for j in range(theta.shape[1]):\n",
        "#             print(theta.shape)\n",
        "        \n",
        "        \n",
        "            deriv =  np.multiply ( gradient_error , x[: , j] )\n",
        "\n",
        "            sum_part = (np.sum(deriv) * (alpha /len(x) ))\n",
        "                \n",
        "            theta_values[0,j] = theta_values[0,j] - ( (alpha /len(x)) * np.sum(deriv))\n",
        "\n",
        "        \n",
        "        theta = theta_values\n",
        "        list_theta = np.append(list_theta , theta.reshape(1,-1), axis=0 )\n",
        "        \n",
        "\n",
        "\n",
        "#         print(\"theata\" ,theta)\n",
        "#         print(\"list_theta\",np.array(list_theta).reshape(-1,2))\n",
        "#         print( compute_cost(x, y, theta))\n",
        "\n",
        "        cost_list[i+1] = compute_cost(x, y, theta)\n",
        "        if(abs( cost_list[i] - cost_list[i-1]) <= 0.1):\n",
        "            stp=i\n",
        "            print(\"iterations\",stp)\n",
        "            break\n",
        "    \n",
        "    return theta, cost_list[0:stp] ,np.array(list_theta[0:stp]).reshape(-1,2)  \n",
        "     \n"
      ]
    },
    {
      "cell_type": "code",
      "execution_count": null,
      "metadata": {
        "id": "yUqASs9cDF40",
        "outputId": "f7443c5f-fdbd-4f2d-d14f-57a8e242dbd9"
      },
      "outputs": [
        {
          "name": "stdout",
          "output_type": "stream",
          "text": [
            "iterations 14\n",
            "theta [[0.09565467 0.95654673]]\n",
            "(14, 2)\n"
          ]
        }
      ],
      "source": [
        "# initialize variables for learning rate and iterations\n",
        "alpha = 0.00004\n",
        "iterations = 100\n",
        "\n",
        "\n",
        "# perform gradient descent to \"fit\" the model parameters\n",
        "\n",
        "theta, cost_list , list_theta  = copmute_gradient(x,y,alpha,iterations)\n",
        "\n",
        "print('theta' , theta)\n",
        "\n",
        "# print('cost list  = ' ,cost_list[0:50] )\n",
        "\n",
        "print(list_theta.shape)\n",
        "\n",
        "# print(cost_list.sh/ape)\n"
      ]
    },
    {
      "cell_type": "code",
      "execution_count": null,
      "metadata": {
        "id": "mEc_Xl-hDF41",
        "outputId": "f8c117f1-4229-40e0-cb7a-ca0b17ca011b"
      },
      "outputs": [
        {
          "name": "stdout",
          "output_type": "stream",
          "text": [
            "(50, 1)\n",
            "(50, 1)\n"
          ]
        }
      ],
      "source": [
        "\n",
        "# get prediction on training data\n",
        "prdection = x @ theta.T\n",
        "# prdection = theta[0, 0] + (theta[0, 1] * x[:,1])                                     \n",
        "print(y.shape)\n",
        "prdection=prdection.reshape(len(prdection),1)\n",
        "print(prdection.shape)\n"
      ]
    },
    {
      "cell_type": "markdown",
      "metadata": {
        "id": "sPf4aX5EDF42"
      },
      "source": [
        "#### Plot the best regression line"
      ]
    },
    {
      "cell_type": "code",
      "execution_count": null,
      "metadata": {
        "id": "AMt17qcpDF42",
        "outputId": "57a0bad4-cc1d-4304-bff8-96ff646a6d2b"
      },
      "outputs": [
        {
          "data": {
            "text/plain": [
              "Text(0, 0.5, 'Y')"
            ]
          },
          "execution_count": 72,
          "metadata": {},
          "output_type": "execute_result"
        },
        {
          "data": {
            "image/png": "[encoded data removed]",
            "text/plain": [
              "<Figure size 360x360 with 1 Axes>"
            ]
          },
          "metadata": {
            "needs_background": "light"
          },
          "output_type": "display_data"
        }
      ],
      "source": [
        "\n",
        "# draw the Best Fiting line \n",
        "import matplotlib.pyplot as plt \n",
        "fig, ax = plt.subplots(figsize=(5,5))\n",
        "plt.plot (X, prdection)\n",
        "ax.scatter(X, y, label='BFS' )\n",
        "plt.title(\"BFL with Traning Data'\")\n",
        "ax.legend(loc=1)\n",
        "\n",
        "ax.set_xlabel('X')\n",
        "\n",
        "ax.set_ylabel('Y')\n"
      ]
    },
    {
      "cell_type": "markdown",
      "metadata": {
        "id": "HjH1Usf3DF42"
      },
      "source": [
        "#### Plot loss vs. epochs"
      ]
    },
    {
      "cell_type": "code",
      "execution_count": null,
      "metadata": {
        "scrolled": false,
        "id": "1ZY2XXtWDF43",
        "outputId": "f8de8f9c-7244-4fd4-cd84-93ac6cf1bca2"
      },
      "outputs": [
        {
          "data": {
            "text/plain": [
              "Text(0.5, 1.0, 'Error vs. Training Epoch\\\\iteration.')"
            ]
          },
          "execution_count": 73,
          "metadata": {},
          "output_type": "execute_result"
        },
        {
          "data": {
            "image/png": "[encoded data removed]",
            "text/plain": [
              "<Figure size 360x360 with 1 Axes>"
            ]
          },
          "metadata": {
            "needs_background": "light"
          },
          "output_type": "display_data"
        }
      ],
      "source": [
        "# draw error graph\n",
        "\n",
        "fig, ax = plt.subplots(figsize=(5,5))\n",
        "ax.plot( cost_list, 'r')\n",
        "ax.set_xlabel('Iterations')\n",
        "ax.set_ylabel('Cost')\n",
        "ax.set_title('Error vs. Training Epoch\\iteration.')\n"
      ]
    },
    {
      "cell_type": "markdown",
      "metadata": {
        "id": "1dMlOna7DF43"
      },
      "source": [
        "#### Plot Theta_0 vs. loss and Theta_1 vs. loss"
      ]
    },
    {
      "cell_type": "code",
      "execution_count": null,
      "metadata": {
        "id": "G93KIXqMDF44"
      },
      "outputs": [],
      "source": [
        "theta_0 = list_theta[: , 0].reshape(-1,1)\n",
        "theta_1 = list_theta[: , 1].reshape(-1,1)"
      ]
    },
    {
      "cell_type": "code",
      "execution_count": null,
      "metadata": {
        "id": "RCmtNZKsDF44",
        "outputId": "666983ce-97dc-465d-c9f0-13195e7696a9"
      },
      "outputs": [
        {
          "data": {
            "text/plain": [
              "Text(0.5, 1.0, 'Error vs. Training Epoch\\\\iteration.')"
            ]
          },
          "execution_count": 75,
          "metadata": {},
          "output_type": "execute_result"
        },
        {
          "data": {
            "image/png": "[encoded data removed]",
            "text/plain": [
              "<Figure size 360x360 with 1 Axes>"
            ]
          },
          "metadata": {
            "needs_background": "light"
          },
          "output_type": "display_data"
        }
      ],
      "source": [
        "# draw error graph\n",
        "\n",
        "fig, ax = plt.subplots(figsize=(5,5))\n",
        "ax.plot( theta_0,cost_list ,  'r')\n",
        "ax.set_xlabel('theta_0')\n",
        "ax.set_ylabel('Cost')\n",
        "ax.set_title('Error vs. Training Epoch\\iteration.')\n"
      ]
    },
    {
      "cell_type": "code",
      "execution_count": null,
      "metadata": {
        "id": "bNLahCRpDF44",
        "outputId": "8c98cfb8-2e1e-47f0-e3a4-0d5f6e0bd677"
      },
      "outputs": [
        {
          "data": {
            "text/plain": [
              "Text(0.5, 1.0, 'Error vs. Training Epoch\\\\iteration.')"
            ]
          },
          "execution_count": 76,
          "metadata": {},
          "output_type": "execute_result"
        },
        {
          "data": {
            "image/png": "[encoded data removed]",
            "text/plain": [
              "<Figure size 360x360 with 1 Axes>"
            ]
          },
          "metadata": {
            "needs_background": "light"
          },
          "output_type": "display_data"
        }
      ],
      "source": [
        "\n",
        "# draw error graph\n",
        "\n",
        "fig, ax = plt.subplots(figsize=(5,5))\n",
        "ax.plot( theta_1, cost_list ,  'r')\n",
        "ax.set_xlabel('theta_1')\n",
        "ax.set_ylabel('Cost')\n",
        "ax.set_title('Error vs. Training Epoch\\iteration.')\n"
      ]
    },
    {
      "cell_type": "markdown",
      "metadata": {
        "id": "lzLs8cFkDF45"
      },
      "source": [
        "#### Plot all regression lines till converge"
      ]
    },
    {
      "cell_type": "code",
      "execution_count": null,
      "metadata": {
        "id": "UEOCQ2S3DF45",
        "outputId": "44119329-8c04-4474-9016-1875c927d3b8"
      },
      "outputs": [
        {
          "data": {
            "text/plain": [
              "Text(0, 0.5, 'Y')"
            ]
          },
          "execution_count": 77,
          "metadata": {},
          "output_type": "execute_result"
        },
        {
          "data": {
            "image/png": "[encoded data removed]",
            "text/plain": [
              "<Figure size 360x360 with 1 Axes>"
            ]
          },
          "metadata": {
            "needs_background": "light"
          },
          "output_type": "display_data"
        }
      ],
      "source": [
        "\n",
        "# draw the line\n",
        "\n",
        "import matplotlib.pyplot as plt \n",
        "fig, ax = plt.subplots(figsize=(5,5))\n",
        "for theta in  list_theta :\n",
        "#     print(theta,theta.shape)\n",
        "    theta=theta.reshape(1,-1)\n",
        "#     print(theta,theta.shape)\n",
        "#     p= t[0, 0] + (t[0, 1] * x[:,1])\n",
        "    ax.plot(x,( (x @ theta.T) ) , label='BFL')\n",
        "    plt.title(\"BFL with devery epohc\")\n",
        "\n",
        "#     break\n",
        "    \n",
        "\n",
        "#ax.legend(loc=1)\n",
        "\n",
        "ax.set_xlabel('X')\n",
        "\n",
        "ax.set_ylabel('Y')\n"
      ]
    },
    {
      "cell_type": "markdown",
      "metadata": {
        "id": "C9mB2aPqDF47"
      },
      "source": [
        "#### Calculate r2 score"
      ]
    },
    {
      "cell_type": "code",
      "execution_count": null,
      "metadata": {
        "id": "KzoZmdRTDF47"
      },
      "outputs": [],
      "source": [
        "x_test = np.linspace(5,25, 50)\n",
        "\n",
        "y_test = np.multiply(x_test,a) + b \n",
        "y_test=y_test.reshape(len(y_test),1)\n",
        "x_test=y_test.reshape(len(x_test),1)\n"
      ]
    },
    {
      "cell_type": "code",
      "execution_count": null,
      "metadata": {
        "id": "puvveKElDF47",
        "outputId": "a18726de-08a4-436e-da96-0fdb7657af63"
      },
      "outputs": [
        {
          "name": "stdout",
          "output_type": "stream",
          "text": [
            "0.9698267577902677\n"
          ]
        }
      ],
      "source": [
        "\n",
        "# print(x_test)\n",
        "\n",
        "# get prediction on training data\n",
        "prdection2 = theta[0, 0] + (theta[0, 1] * x_test)\n",
        "                                           \n",
        "prdection2=prdection2.reshape(len(prdection2),1)\n",
        "# print(x_data.shape)\n",
        "# print(prdection2.shape)\n",
        "from sklearn.metrics import r2_score\n",
        "print(r2_score(y_test,prdection2))"
      ]
    },
    {
      "cell_type": "markdown",
      "metadata": {
        "id": "Ej0GsQ6cDF48"
      },
      "source": [
        "### Accuracy on un seen data is well "
      ]
    },
    {
      "cell_type": "code",
      "execution_count": null,
      "metadata": {
        "id": "yzaqD2QXDF48"
      },
      "outputs": [],
      "source": [
        "\n",
        "# # draw the Best Fiting line \n",
        "# import matplotlib.pyplot as plt \n",
        "# fig, ax = plt.subplots(figsize=(5,5))\n",
        "# plt.plot (x_test, prdection2,color='r')\n",
        "# ax.scatter(x_test, y, label='BFS' )\n",
        "# plt.title(\"BFL with Traning Data'\")\n",
        "# ax.legend(loc=1)\n",
        "\n",
        "# ax.set_xlabel('X')\n",
        "\n",
        "# ax.set_ylabel('Y')\n"
      ]
    },
    {
      "cell_type": "markdown",
      "metadata": {
        "id": "Exhp3aRaDF49"
      },
      "source": [
        "## Here I tried with lr 0.0001  and the fitting on training data is very well But on a different data that is un seen in training the fitting is so bad "
      ]
    },
    {
      "cell_type": "markdown",
      "metadata": {
        "id": "0AjhYgeBDF49"
      },
      "source": [
        "#### Try different learning rate and number of iterations then plot loss vs. epochs, loss vs. Theat_0 and Theta_1\n",
        "#### all regression lines till converge, and the best regression line\n",
        "#### and see the difference in output."
      ]
    },
    {
      "cell_type": "code",
      "execution_count": null,
      "metadata": {
        "id": "yTIQh8j2DF49",
        "outputId": "c7fa925f-4929-4f39-bd24-7c6dbfb69b80"
      },
      "outputs": [
        {
          "name": "stdout",
          "output_type": "stream",
          "text": [
            "iterations 6\n",
            "theta [[0.09828893 0.98288935]]\n",
            "(6, 2)\n"
          ]
        }
      ],
      "source": [
        "# initialize variables for learning rate and iterations\n",
        "alpha = 0.0001\n",
        "iterations = 100\n",
        "\n",
        "\n",
        "# perform gradient descent to \"fit\" the model parameters\n",
        "\n",
        "theta, cost_list , list_theta  = copmute_gradient(x,y,alpha,iterations)\n",
        "\n",
        "print('theta' , theta)\n",
        "\n",
        "# print('cost list  = ' ,cost_list[0:50] )\n",
        "\n",
        "print(list_theta.shape)\n",
        "\n",
        "# print(cost_list.sh/ape)\n"
      ]
    },
    {
      "cell_type": "code",
      "execution_count": null,
      "metadata": {
        "id": "P-xYlVypDF4-",
        "outputId": "dc5c1ae0-52d3-4391-d69d-2b404b15b6b0"
      },
      "outputs": [
        {
          "name": "stdout",
          "output_type": "stream",
          "text": [
            "(50, 1)\n",
            "(50, 1)\n"
          ]
        }
      ],
      "source": [
        "\n",
        "# get prediction on training data\n",
        "prdection2= x @ theta.T\n",
        "# prdection = theta[0, 0] + (theta[0, 1] * x[:,1])                                     \n",
        "print(y.shape)\n",
        "prdection=prdection2.reshape(len(prdection2),1)\n",
        "print(prdection2.shape)\n"
      ]
    },
    {
      "cell_type": "code",
      "execution_count": null,
      "metadata": {
        "id": "UX5vVOliDF4_",
        "outputId": "61234e44-52c3-4511-e308-8b23c4739468"
      },
      "outputs": [
        {
          "data": {
            "text/plain": [
              "Text(0, 0.5, 'Y')"
            ]
          },
          "execution_count": 113,
          "metadata": {},
          "output_type": "execute_result"
        },
        {
          "data": {
            "image/png": "[encoded data removed]",
            "text/plain": [
              "<Figure size 360x360 with 1 Axes>"
            ]
          },
          "metadata": {
            "needs_background": "light"
          },
          "output_type": "display_data"
        }
      ],
      "source": [
        "\n",
        "# draw the Best Fiting line \n",
        "import matplotlib.pyplot as plt \n",
        "fig, ax = plt.subplots(figsize=(5,5))\n",
        "plt.plot (X, prdection2,color='r')\n",
        "ax.scatter(X, y, label='BFS' )\n",
        "plt.title(\"BFL with Traning Data'\")\n",
        "ax.legend(loc=1)\n",
        "\n",
        "ax.set_xlabel('X')\n",
        "\n",
        "ax.set_ylabel('Y')\n"
      ]
    },
    {
      "cell_type": "code",
      "execution_count": null,
      "metadata": {
        "id": "77ZjjToeDF4_",
        "outputId": "bb777264-2485-4c2f-9b2c-85c5cd975371"
      },
      "outputs": [
        {
          "data": {
            "text/plain": [
              "Text(0, 0.5, 'Y')"
            ]
          },
          "execution_count": 114,
          "metadata": {},
          "output_type": "execute_result"
        },
        {
          "data": {
            "image/png": "[encoded data removed]",
            "text/plain": [
              "<Figure size 360x360 with 1 Axes>"
            ]
          },
          "metadata": {
            "needs_background": "light"
          },
          "output_type": "display_data"
        }
      ],
      "source": [
        "\n",
        "# draw the line\n",
        "\n",
        "import matplotlib.pyplot as plt \n",
        "fig, ax = plt.subplots(figsize=(5,5))\n",
        "for theta in  list_theta :\n",
        "#     print(theta,theta.shape)\n",
        "    theta=theta.reshape(1,-1)\n",
        "#     print(theta,theta.shape)\n",
        "#     p= t[0, 0] + (t[0, 1] * x[:,1])\n",
        "    ax.plot(x,( (x @ theta.T) ) , label='BFL')\n",
        "    plt.title(\"BFL with devery epohc\")\n",
        "\n",
        "#     break\n",
        "    \n",
        "\n",
        "#ax.legend(loc=1)\n",
        "\n",
        "ax.set_xlabel('X')\n",
        "\n",
        "ax.set_ylabel('Y')\n"
      ]
    },
    {
      "cell_type": "code",
      "execution_count": null,
      "metadata": {
        "id": "HYP8nQERDF4_"
      },
      "outputs": [],
      "source": [
        "x_test2 = np.linspace(5,25, 50)\n",
        "\n",
        "y_test = np.multiply(x_test2,a) + b \n",
        "y_test=y_test.reshape(len(y_test),1)\n",
        "x_test2=x_test2.reshape(len(x_test2),1)\n",
        "\n",
        "# print(x_test)\n",
        "\n",
        "# get prediction on training data\n",
        "prdect = theta[0, 0] + (theta[0, 1] * x_test2)\n",
        "                                           \n",
        "prdect=prdect.reshape(len(prdect),1)\n",
        "# print(x_data.shape)\n",
        "# print(prdection2.shape)\n"
      ]
    },
    {
      "cell_type": "code",
      "execution_count": null,
      "metadata": {
        "id": "Sz-IxKuLDF5A",
        "outputId": "9ec1e7b5-349c-4d58-b37d-2ce80cd2870b"
      },
      "outputs": [
        {
          "name": "stdout",
          "output_type": "stream",
          "text": [
            "-14.83061037434795\n"
          ]
        }
      ],
      "source": [
        "\n",
        "from sklearn.metrics import r2_score\n",
        "print(r2_score(y_test,prdect))"
      ]
    },
    {
      "cell_type": "code",
      "execution_count": null,
      "metadata": {
        "id": "u4vhohDuDF5A",
        "outputId": "d3b811a3-72a7-40f7-df2f-bc0fad0a516a"
      },
      "outputs": [
        {
          "data": {
            "text/plain": [
              "Text(0, 0.5, 'Y')"
            ]
          },
          "execution_count": 117,
          "metadata": {},
          "output_type": "execute_result"
        },
        {
          "data": {
            "image/png": "[encoded data removed]",
            "text/plain": [
              "<Figure size 360x360 with 1 Axes>"
            ]
          },
          "metadata": {
            "needs_background": "light"
          },
          "output_type": "display_data"
        }
      ],
      "source": [
        "\n",
        "# draw the Best Fiting line \n",
        "import matplotlib.pyplot as plt \n",
        "fig, ax = plt.subplots(figsize=(5,5))\n",
        "plt.plot (X, prdect,color='r')\n",
        "ax.scatter(X, y, label='BFS' )\n",
        "plt.title(\"BFL with Traning Data'\")\n",
        "ax.legend(loc=1)\n",
        "\n",
        "ax.set_xlabel('X')\n",
        "\n",
        "ax.set_ylabel('Y')\n"
      ]
    },
    {
      "cell_type": "code",
      "execution_count": null,
      "metadata": {
        "id": "AERq0xy5DF5A",
        "outputId": "e0c4f9dd-3bd8-4a3f-e6e8-d9fb8bda7c87"
      },
      "outputs": [
        {
          "data": {
            "text/plain": [
              "Text(0.5, 1.0, 'Error vs. Training Epoch\\\\iteration.')"
            ]
          },
          "execution_count": 118,
          "metadata": {},
          "output_type": "execute_result"
        },
        {
          "data": {
            "image/png": "[encoded data removed]",
            "text/plain": [
              "<Figure size 360x360 with 1 Axes>"
            ]
          },
          "metadata": {
            "needs_background": "light"
          },
          "output_type": "display_data"
        }
      ],
      "source": [
        "# draw error graph\n",
        "\n",
        "fig, ax = plt.subplots(figsize=(5,5))\n",
        "ax.plot( cost_list, 'r')\n",
        "ax.set_xlabel('Iterations')\n",
        "ax.set_ylabel('Cost')\n",
        "ax.set_title('Error vs. Training Epoch\\iteration.')\n"
      ]
    },
    {
      "cell_type": "code",
      "execution_count": null,
      "metadata": {
        "id": "t3g0_90jDF5B"
      },
      "outputs": [],
      "source": [
        "theta_0 = list_theta[: , 0].reshape(-1,1)\n",
        "theta_1 = list_theta[: , 1].reshape(-1,1)"
      ]
    },
    {
      "cell_type": "code",
      "execution_count": null,
      "metadata": {
        "id": "irqNXuF9DF5B",
        "outputId": "82b75789-e117-4887-8098-a1e549d529b6"
      },
      "outputs": [
        {
          "data": {
            "text/plain": [
              "Text(0.5, 1.0, 'Error vs. Training Epoch\\\\iteration.')"
            ]
          },
          "execution_count": 122,
          "metadata": {},
          "output_type": "execute_result"
        },
        {
          "data": {
            "image/png": "[encoded data removed]",
            "text/plain": [
              "<Figure size 360x360 with 1 Axes>"
            ]
          },
          "metadata": {
            "needs_background": "light"
          },
          "output_type": "display_data"
        }
      ],
      "source": [
        "# draw error graph\n",
        "\n",
        "fig, ax = plt.subplots(figsize=(5,5))\n",
        "ax.plot( theta_0,cost_list ,  'r')\n",
        "ax.set_xlabel('theta_0')\n",
        "ax.set_ylabel('Cost')\n",
        "ax.set_title('Error vs. Training Epoch\\iteration.')\n",
        "\n"
      ]
    },
    {
      "cell_type": "code",
      "execution_count": null,
      "metadata": {
        "id": "TrA_KfBxDF5B"
      },
      "outputs": [],
      "source": [
        ""
      ]
    },
    {
      "cell_type": "code",
      "execution_count": null,
      "metadata": {
        "id": "Q36AWBy4DF5B",
        "outputId": "861d5304-da0c-48d0-ebe2-6ebc55baabc6"
      },
      "outputs": [
        {
          "data": {
            "text/plain": [
              "Text(0.5, 1.0, 'Error vs. Training Epoch\\\\iteration.')"
            ]
          },
          "execution_count": 123,
          "metadata": {},
          "output_type": "execute_result"
        },
        {
          "data": {
            "image/png": "[encoded data removed]",
            "text/plain": [
              "<Figure size 360x360 with 1 Axes>"
            ]
          },
          "metadata": {
            "needs_background": "light"
          },
          "output_type": "display_data"
        }
      ],
      "source": [
        "# draw error graph\n",
        "\n",
        "fig, ax = plt.subplots(figsize=(5,5))\n",
        "ax.plot( theta_1, cost_list ,  'r')\n",
        "ax.set_xlabel('theta_1')\n",
        "ax.set_ylabel('Cost')\n",
        "ax.set_title('Error vs. Training Epoch\\iteration.')\n"
      ]
    },
    {
      "cell_type": "code",
      "execution_count": null,
      "metadata": {
        "id": "j2WeyH61DF5C"
      },
      "outputs": [],
      "source": [
        ""
      ]
    },
    {
      "cell_type": "markdown",
      "metadata": {
        "id": "LfMEwaXBDF5C"
      },
      "source": [
        "# Update the implementation of the Batch GD to be Mini-Batch and repeat the above plots and evaluations\n",
        "#### Change batch size and see the effect\n",
        "### Note: Try once without shuffling the data and once with shuffle and see the effect on the output."
      ]
    },
    {
      "cell_type": "code",
      "execution_count": null,
      "metadata": {
        "id": "LP9ap4DHDF5D",
        "outputId": "a798cafc-d338-4849-9cbb-5d75c955cb95"
      },
      "outputs": [
        {
          "name": "stdout",
          "output_type": "stream",
          "text": [
            "(50, 1)\n",
            "(50, 1)\n"
          ]
        }
      ],
      "source": [
        "a = -2 \n",
        "b = 1\n",
        "X_data= np.linspace(0, 20 )\n",
        "x_data= np.linspace(0, 20 )\n",
        "\n",
        "x_data=x_data.reshape(len(x_data) , 1)\n",
        "print(x_data.shape)\n",
        "y_data = np.multiply(x_data,a) + b \n",
        "y_data=y_data.reshape(len(y) , 1)\n",
        "print(y_data.shape)"
      ]
    },
    {
      "cell_type": "code",
      "execution_count": null,
      "metadata": {
        "id": "iEtS6kIYDF5D",
        "outputId": "c2619022-1c7e-4d0d-c250-6ad1e5853796"
      },
      "outputs": [
        {
          "name": "stdout",
          "output_type": "stream",
          "text": [
            "(1,)\n"
          ]
        }
      ],
      "source": [
        "print(x_data[0].shape)"
      ]
    },
    {
      "cell_type": "code",
      "execution_count": null,
      "metadata": {
        "id": "oTKb-wHuDF5D",
        "outputId": "0105119d-106d-429f-e918-d557abf88175"
      },
      "outputs": [
        {
          "name": "stdout",
          "output_type": "stream",
          "text": [
            "(50, 1)\n"
          ]
        }
      ],
      "source": [
        "ones=np.ones(len(x))\n",
        "ones = ones.reshape(len(ones),1)\n",
        "print(ones.shape)\n",
        "x_data= np.concatenate((ones,x_data), axis=1)\n",
        "# x_data"
      ]
    },
    {
      "cell_type": "code",
      "execution_count": null,
      "metadata": {
        "id": "z3hqTPrbDF5E"
      },
      "outputs": [],
      "source": [
        "def compute_cost1(x,y,theta):\n",
        "    print(\"theta \" , theta.shape)\n",
        "    print(\"theta \" , x.shape)\n",
        "    print(\"theta \" , y.shape)\n",
        "    \n",
        "    \n",
        "#     print(\"cost val\",(np.sum(  np.power( ( (x @ theta.T) - y ), 2 )  ))  / (2*len(x)) )\n",
        "    return ((np.sum(  np.power( ( (x @ theta) - y ), 2 )  ))  / (2*len(x)) )\n",
        "  "
      ]
    },
    {
      "cell_type": "code",
      "execution_count": null,
      "metadata": {
        "id": "lmHYwK2ODF5E"
      },
      "outputs": [],
      "source": [
        "def minibatch_gradient_descent(X,y,theta,learning_rate=0.01,iterations=10,batch_size =10):\n",
        "    '''\n",
        "    X    = Matrix of X without added bias units\n",
        "    y    = Vector of Y\n",
        "    theta=Vector of thetas np.random.randn(j,1)\n",
        "    learning_rate \n",
        "    iterations = no of iterations\n",
        "    \n",
        "    Returns the final theta vector and array of cost history over no of iterations\n",
        "    '''\n",
        "    m = len(y)\n",
        "    cost_history =[]\n",
        "    n_batches = int(m/batch_size)\n",
        "    list_theta=[]\n",
        "            break\n",
        "    \n",
        "    for it in range(iterations):\n",
        "        cost =0.0\n",
        "        indices = np.random.permutation(m)\n",
        "        X = X[indices]\n",
        "        y = y[indices]\n",
        "        for i in range(0,m,batch_size):\n",
        "            X_i = X[i:i+batch_size]\n",
        "            y_i = y[i:i+batch_size]\n",
        "            \n",
        "#             /X_i = np.c_[np.ones(len(X_i)),X_i]\n",
        "           \n",
        "            prediction = np.dot(X_i,theta)\n",
        "\n",
        "            theta = theta -(1/m)*learning_rate*( X_i.T.dot((prediction - y_i)))\n",
        "            cost = compute_cost1(X_i,y_i,theta)\n",
        "            cost_history.append(cost)\n",
        "            list_theta.append(theta)\n",
        "            \n",
        "        \n",
        "    return np.array(list_theta).reshape(-1,2), np.array(cost_history).reshape(-1,1)"
      ]
    },
    {
      "cell_type": "code",
      "execution_count": null,
      "metadata": {
        "id": "fD4tlGF9DF5F",
        "outputId": "bd6d5327-0a50-4348-fb1d-a0c3007645b7"
      },
      "outputs": [
        {
          "name": "stdout",
          "output_type": "stream",
          "text": [
            "theta  (2, 1)\n",
            "theta  (10, 2)\n",
            "theta  (10, 1)\n",
            "theta  (2, 1)\n",
            "theta  (10, 2)\n",
            "theta  (10, 1)\n",
            "theta  (2, 1)\n",
            "theta  (10, 2)\n",
            "theta  (10, 1)\n",
            "theta  (2, 1)\n",
            "theta  (10, 2)\n",
            "theta  (10, 1)\n",
            "theta  (2, 1)\n",
            "theta  (10, 2)\n",
            "theta  (10, 1)\n",
            "theta  (2, 1)\n",
            "theta  (10, 2)\n",
            "theta  (10, 1)\n",
            "theta  (2, 1)\n",
            "theta  (10, 2)\n",
            "theta  (10, 1)\n",
            "theta  (2, 1)\n",
            "theta  (10, 2)\n",
            "theta  (10, 1)\n",
            "theta  (2, 1)\n",
            "theta  (10, 2)\n",
            "theta  (10, 1)\n",
            "theta  (2, 1)\n",
            "theta  (10, 2)\n",
            "theta  (10, 1)\n",
            "theta  (2, 1)\n",
            "theta  (10, 2)\n",
            "theta  (10, 1)\n",
            "theta  (2, 1)\n",
            "theta  (10, 2)\n",
            "theta  (10, 1)\n",
            "theta  (2, 1)\n",
            "theta  (10, 2)\n",
            "theta  (10, 1)\n",
            "theta  (2, 1)\n",
            "theta  (10, 2)\n",
            "theta  (10, 1)\n",
            "theta  (2, 1)\n",
            "theta  (10, 2)\n",
            "theta  (10, 1)\n",
            "theta  (2, 1)\n",
            "theta  (10, 2)\n",
            "theta  (10, 1)\n",
            "theta  (2, 1)\n",
            "theta  (10, 2)\n",
            "theta  (10, 1)\n",
            "theta  (2, 1)\n",
            "theta  (10, 2)\n",
            "theta  (10, 1)\n",
            "theta  (2, 1)\n",
            "theta  (10, 2)\n",
            "theta  (10, 1)\n",
            "theta  (2, 1)\n",
            "theta  (10, 2)\n",
            "theta  (10, 1)\n",
            "theta  (2, 1)\n",
            "theta  (10, 2)\n",
            "theta  (10, 1)\n",
            "theta  (2, 1)\n",
            "theta  (10, 2)\n",
            "theta  (10, 1)\n",
            "theta  (2, 1)\n",
            "theta  (10, 2)\n",
            "theta  (10, 1)\n",
            "theta  (2, 1)\n",
            "theta  (10, 2)\n",
            "theta  (10, 1)\n",
            "theta  (2, 1)\n",
            "theta  (10, 2)\n",
            "theta  (10, 1)\n",
            "theta  (2, 1)\n",
            "theta  (10, 2)\n",
            "theta  (10, 1)\n",
            "theta  (2, 1)\n",
            "theta  (10, 2)\n",
            "theta  (10, 1)\n",
            "theta  (2, 1)\n",
            "theta  (10, 2)\n",
            "theta  (10, 1)\n",
            "theta  (2, 1)\n",
            "theta  (10, 2)\n",
            "theta  (10, 1)\n",
            "theta  (2, 1)\n",
            "theta  (10, 2)\n",
            "theta  (10, 1)\n",
            "theta  (2, 1)\n",
            "theta  (10, 2)\n",
            "theta  (10, 1)\n",
            "theta  (2, 1)\n",
            "theta  (10, 2)\n",
            "theta  (10, 1)\n",
            "theta  (2, 1)\n",
            "theta  (10, 2)\n",
            "theta  (10, 1)\n",
            "theta  (2, 1)\n",
            "theta  (10, 2)\n",
            "theta  (10, 1)\n",
            "theta  (2, 1)\n",
            "theta  (10, 2)\n",
            "theta  (10, 1)\n",
            "theta  (2, 1)\n",
            "theta  (10, 2)\n",
            "theta  (10, 1)\n",
            "theta  (2, 1)\n",
            "theta  (10, 2)\n",
            "theta  (10, 1)\n",
            "theta  (2, 1)\n",
            "theta  (10, 2)\n",
            "theta  (10, 1)\n",
            "theta  (2, 1)\n",
            "theta  (10, 2)\n",
            "theta  (10, 1)\n",
            "theta  (2, 1)\n",
            "theta  (10, 2)\n",
            "theta  (10, 1)\n",
            "theta  (2, 1)\n",
            "theta  (10, 2)\n",
            "theta  (10, 1)\n",
            "theta  (2, 1)\n",
            "theta  (10, 2)\n",
            "theta  (10, 1)\n",
            "theta  (2, 1)\n",
            "theta  (10, 2)\n",
            "theta  (10, 1)\n",
            "theta  (2, 1)\n",
            "theta  (10, 2)\n",
            "theta  (10, 1)\n",
            "theta  (2, 1)\n",
            "theta  (10, 2)\n",
            "theta  (10, 1)\n",
            "theta  (2, 1)\n",
            "theta  (10, 2)\n",
            "theta  (10, 1)\n",
            "theta  (2, 1)\n",
            "theta  (10, 2)\n",
            "theta  (10, 1)\n",
            "theta  (2, 1)\n",
            "theta  (10, 2)\n",
            "theta  (10, 1)\n",
            "theta  (2, 1)\n",
            "theta  (10, 2)\n",
            "theta  (10, 1)\n",
            "theta  (2, 1)\n",
            "theta  (10, 2)\n",
            "theta  (10, 1)\n",
            "theta  (2, 1)\n",
            "theta  (10, 2)\n",
            "theta  (10, 1)\n",
            "theta  (2, 1)\n",
            "theta  (10, 2)\n",
            "theta  (10, 1)\n",
            "theta  (2, 1)\n",
            "theta  (10, 2)\n",
            "theta  (10, 1)\n",
            "theta  (2, 1)\n",
            "theta  (10, 2)\n",
            "theta  (10, 1)\n",
            "theta  (2, 1)\n",
            "theta  (10, 2)\n",
            "theta  (10, 1)\n",
            "theta  (2, 1)\n",
            "theta  (10, 2)\n",
            "theta  (10, 1)\n",
            "theta  (2, 1)\n",
            "theta  (10, 2)\n",
            "theta  (10, 1)\n",
            "theta  (2, 1)\n",
            "theta  (10, 2)\n",
            "theta  (10, 1)\n",
            "theta  (2, 1)\n",
            "theta  (10, 2)\n",
            "theta  (10, 1)\n",
            "theta  (2, 1)\n",
            "theta  (10, 2)\n",
            "theta  (10, 1)\n",
            "theta  (2, 1)\n",
            "theta  (10, 2)\n",
            "theta  (10, 1)\n",
            "theta  (2, 1)\n",
            "theta  (10, 2)\n",
            "theta  (10, 1)\n",
            "theta  (2, 1)\n",
            "theta  (10, 2)\n",
            "theta  (10, 1)\n",
            "theta  (2, 1)\n",
            "theta  (10, 2)\n",
            "theta  (10, 1)\n",
            "theta  (2, 1)\n",
            "theta  (10, 2)\n",
            "theta  (10, 1)\n",
            "theta  (2, 1)\n",
            "theta  (10, 2)\n",
            "theta  (10, 1)\n",
            "theta  (2, 1)\n",
            "theta  (10, 2)\n",
            "theta  (10, 1)\n",
            "theta  (2, 1)\n",
            "theta  (10, 2)\n",
            "theta  (10, 1)\n",
            "theta  (2, 1)\n",
            "theta  (10, 2)\n",
            "theta  (10, 1)\n",
            "theta  (2, 1)\n",
            "theta  (10, 2)\n",
            "theta  (10, 1)\n",
            "theta  (2, 1)\n",
            "theta  (10, 2)\n",
            "theta  (10, 1)\n",
            "theta  (2, 1)\n",
            "theta  (10, 2)\n",
            "theta  (10, 1)\n",
            "theta  (2, 1)\n",
            "theta  (10, 2)\n",
            "theta  (10, 1)\n",
            "theta  (2, 1)\n",
            "theta  (10, 2)\n",
            "theta  (10, 1)\n",
            "theta  (2, 1)\n",
            "theta  (10, 2)\n",
            "theta  (10, 1)\n",
            "theta  (2, 1)\n",
            "theta  (10, 2)\n",
            "theta  (10, 1)\n",
            "theta  (2, 1)\n",
            "theta  (10, 2)\n",
            "theta  (10, 1)\n",
            "theta  (2, 1)\n",
            "theta  (10, 2)\n",
            "theta  (10, 1)\n",
            "theta  (2, 1)\n",
            "theta  (10, 2)\n",
            "theta  (10, 1)\n",
            "theta  (2, 1)\n",
            "theta  (10, 2)\n",
            "theta  (10, 1)\n",
            "theta  (2, 1)\n",
            "theta  (10, 2)\n",
            "theta  (10, 1)\n",
            "theta  (2, 1)\n",
            "theta  (10, 2)\n",
            "theta  (10, 1)\n",
            "theta  (2, 1)\n",
            "theta  (10, 2)\n",
            "theta  (10, 1)\n",
            "theta  (2, 1)\n",
            "theta  (10, 2)\n",
            "theta  (10, 1)\n",
            "theta  (2, 1)\n",
            "theta  (10, 2)\n",
            "theta  (10, 1)\n",
            "theta  (2, 1)\n",
            "theta  (10, 2)\n",
            "theta  (10, 1)\n",
            "theta  (2, 1)\n",
            "theta  (10, 2)\n",
            "theta  (10, 1)\n",
            "theta  (2, 1)\n",
            "theta  (10, 2)\n",
            "theta  (10, 1)\n",
            "theta  (2, 1)\n",
            "theta  (10, 2)\n",
            "theta  (10, 1)\n",
            "theta  (2, 1)\n",
            "theta  (10, 2)\n",
            "theta  (10, 1)\n",
            "theta  (2, 1)\n",
            "theta  (10, 2)\n",
            "theta  (10, 1)\n",
            "theta  (2, 1)\n",
            "theta  (10, 2)\n",
            "theta  (10, 1)\n",
            "theta  (2, 1)\n",
            "theta  (10, 2)\n",
            "theta  (10, 1)\n",
            "theta  (2, 1)\n",
            "theta  (10, 2)\n",
            "theta  (10, 1)\n",
            "theta  (2, 1)\n",
            "theta  (10, 2)\n",
            "theta  (10, 1)\n",
            "theta  (2, 1)\n",
            "theta  (10, 2)\n",
            "theta  (10, 1)\n",
            "theta  (2, 1)\n",
            "theta  (10, 2)\n",
            "theta  (10, 1)\n",
            "theta  (2, 1)\n",
            "theta  (10, 2)\n",
            "theta  (10, 1)\n",
            "theta  (2, 1)\n",
            "theta  (10, 2)\n",
            "theta  (10, 1)\n",
            "theta  (2, 1)\n",
            "theta  (10, 2)\n",
            "theta  (10, 1)\n",
            "theta  (2, 1)\n",
            "theta  (10, 2)\n",
            "theta  (10, 1)\n",
            "theta  (2, 1)\n",
            "theta  (10, 2)\n",
            "theta  (10, 1)\n",
            "theta  (2, 1)\n",
            "theta  (10, 2)\n",
            "theta  (10, 1)\n",
            "theta  (2, 1)\n",
            "theta  (10, 2)\n",
            "theta  (10, 1)\n",
            "theta  (2, 1)\n",
            "theta  (10, 2)\n",
            "theta  (10, 1)\n",
            "theta  (2, 1)\n",
            "theta  (10, 2)\n",
            "theta  (10, 1)\n",
            "theta  (2, 1)\n",
            "theta  (10, 2)\n",
            "theta  (10, 1)\n",
            "theta  (2, 1)\n",
            "theta  (10, 2)\n",
            "theta  (10, 1)\n",
            "theta  (2, 1)\n",
            "theta  (10, 2)\n",
            "theta  (10, 1)\n",
            "theta  (2, 1)\n",
            "theta  (10, 2)\n",
            "theta  (10, 1)\n",
            "theta  (2, 1)\n",
            "theta  (10, 2)\n",
            "theta  (10, 1)\n",
            "theta  (2, 1)\n",
            "theta  (10, 2)\n",
            "theta  (10, 1)\n",
            "theta  (2, 1)\n",
            "theta  (10, 2)\n",
            "theta  (10, 1)\n",
            "theta  (2, 1)\n",
            "theta  (10, 2)\n",
            "theta  (10, 1)\n",
            "theta  (2, 1)\n",
            "theta  (10, 2)\n",
            "theta  (10, 1)\n",
            "theta  (2, 1)\n",
            "theta  (10, 2)\n",
            "theta  (10, 1)\n",
            "theta  (2, 1)\n",
            "theta  (10, 2)\n",
            "theta  (10, 1)\n",
            "theta  (2, 1)\n",
            "theta  (10, 2)\n",
            "theta  (10, 1)\n",
            "theta  (2, 1)\n",
            "theta  (10, 2)\n",
            "theta  (10, 1)\n",
            "theta  (2, 1)\n",
            "theta  (10, 2)\n",
            "theta  (10, 1)\n",
            "theta  (2, 1)\n",
            "theta  (10, 2)\n",
            "theta  (10, 1)\n",
            "theta  (2, 1)\n",
            "theta  (10, 2)\n",
            "theta  (10, 1)\n",
            "theta  (2, 1)\n",
            "theta  (10, 2)\n",
            "theta  (10, 1)\n",
            "theta  (2, 1)\n",
            "theta  (10, 2)\n",
            "theta  (10, 1)\n",
            "theta  (2, 1)\n",
            "theta  (10, 2)\n",
            "theta  (10, 1)\n",
            "theta  (2, 1)\n",
            "theta  (10, 2)\n",
            "theta  (10, 1)\n",
            "theta  (2, 1)\n",
            "theta  (10, 2)\n",
            "theta  (10, 1)\n",
            "theta  (2, 1)\n",
            "theta  (10, 2)\n",
            "theta  (10, 1)\n",
            "theta  (2, 1)\n",
            "theta  (10, 2)\n",
            "theta  (10, 1)\n",
            "theta  (2, 1)\n",
            "theta  (10, 2)\n",
            "theta  (10, 1)\n",
            "theta  (2, 1)\n",
            "theta  (10, 2)\n",
            "theta  (10, 1)\n",
            "theta  (2, 1)\n",
            "theta  (10, 2)\n",
            "theta  (10, 1)\n",
            "theta  (2, 1)\n",
            "theta  (10, 2)\n",
            "theta  (10, 1)\n",
            "theta  (2, 1)\n",
            "theta  (10, 2)\n",
            "theta  (10, 1)\n",
            "theta  (2, 1)\n",
            "theta  (10, 2)\n",
            "theta  (10, 1)\n",
            "theta  (2, 1)\n",
            "theta  (10, 2)\n",
            "theta  (10, 1)\n",
            "theta  (2, 1)\n",
            "theta  (10, 2)\n",
            "theta  (10, 1)\n",
            "theta  (2, 1)\n",
            "theta  (10, 2)\n",
            "theta  (10, 1)\n",
            "theta  (2, 1)\n",
            "theta  (10, 2)\n",
            "theta  (10, 1)\n",
            "theta  (2, 1)\n",
            "theta  (10, 2)\n",
            "theta  (10, 1)\n",
            "theta  (2, 1)\n",
            "theta  (10, 2)\n",
            "theta  (10, 1)\n",
            "theta  (2, 1)\n",
            "theta  (10, 2)\n",
            "theta  (10, 1)\n",
            "theta  (2, 1)\n",
            "theta  (10, 2)\n",
            "theta  (10, 1)\n",
            "theta  (2, 1)\n",
            "theta  (10, 2)\n",
            "theta  (10, 1)\n",
            "theta  (2, 1)\n",
            "theta  (10, 2)\n",
            "theta  (10, 1)\n",
            "theta  (2, 1)\n",
            "theta  (10, 2)\n",
            "theta  (10, 1)\n",
            "theta  (2, 1)\n",
            "theta  (10, 2)\n",
            "theta  (10, 1)\n",
            "theta  (2, 1)\n",
            "theta  (10, 2)\n",
            "theta  (10, 1)\n",
            "theta  (2, 1)\n",
            "theta  (10, 2)\n",
            "theta  (10, 1)\n",
            "theta  (2, 1)\n",
            "theta  (10, 2)\n",
            "theta  (10, 1)\n",
            "theta  (2, 1)\n",
            "theta  (10, 2)\n",
            "theta  (10, 1)\n",
            "theta  (2, 1)\n",
            "theta  (10, 2)\n",
            "theta  (10, 1)\n",
            "theta  (2, 1)\n",
            "theta  (10, 2)\n",
            "theta  (10, 1)\n",
            "theta  (2, 1)\n",
            "theta  (10, 2)\n",
            "theta  (10, 1)\n",
            "theta  (2, 1)\n",
            "theta  (10, 2)\n",
            "theta  (10, 1)\n",
            "theta  (2, 1)\n",
            "theta  (10, 2)\n",
            "theta  (10, 1)\n",
            "theta  (2, 1)\n",
            "theta  (10, 2)\n",
            "theta  (10, 1)\n",
            "theta  (2, 1)\n",
            "theta  (10, 2)\n",
            "theta  (10, 1)\n",
            "theta  (2, 1)\n",
            "theta  (10, 2)\n",
            "theta  (10, 1)\n",
            "theta  (2, 1)\n",
            "theta  (10, 2)\n",
            "theta  (10, 1)\n",
            "theta  (2, 1)\n",
            "theta  (10, 2)\n",
            "theta  (10, 1)\n",
            "theta  (2, 1)\n",
            "theta  (10, 2)\n",
            "theta  (10, 1)\n",
            "theta  (2, 1)\n",
            "theta  (10, 2)\n",
            "theta  (10, 1)\n",
            "theta  (2, 1)\n",
            "theta  (10, 2)\n",
            "theta  (10, 1)\n",
            "theta  (2, 1)\n",
            "theta  (10, 2)\n",
            "theta  (10, 1)\n",
            "theta  (2, 1)\n",
            "theta  (10, 2)\n",
            "theta  (10, 1)\n",
            "theta  (2, 1)\n",
            "theta  (10, 2)\n",
            "theta  (10, 1)\n",
            "theta  (2, 1)\n",
            "theta  (10, 2)\n",
            "theta  (10, 1)\n",
            "theta  (2, 1)\n",
            "theta  (10, 2)\n",
            "theta  (10, 1)\n",
            "theta  (2, 1)\n",
            "theta  (10, 2)\n",
            "theta  (10, 1)\n",
            "theta  (2, 1)\n",
            "theta  (10, 2)\n",
            "theta  (10, 1)\n",
            "theta  (2, 1)\n",
            "theta  (10, 2)\n",
            "theta  (10, 1)\n",
            "theta  (2, 1)\n",
            "theta  (10, 2)\n",
            "theta  (10, 1)\n",
            "theta  (2, 1)\n",
            "theta  (10, 2)\n",
            "theta  (10, 1)\n",
            "theta  (2, 1)\n",
            "theta  (10, 2)\n",
            "theta  (10, 1)\n",
            "theta  (2, 1)\n",
            "theta  (10, 2)\n",
            "theta  (10, 1)\n",
            "theta  (2, 1)\n",
            "theta  (10, 2)\n",
            "theta  (10, 1)\n",
            "theta  (2, 1)\n",
            "theta  (10, 2)\n",
            "theta  (10, 1)\n",
            "theta  (2, 1)\n",
            "theta  (10, 2)\n",
            "theta  (10, 1)\n",
            "theta  (2, 1)\n",
            "theta  (10, 2)\n",
            "theta  (10, 1)\n",
            "theta  (2, 1)\n",
            "theta  (10, 2)\n",
            "theta  (10, 1)\n",
            "theta  (2, 1)\n",
            "theta  (10, 2)\n",
            "theta  (10, 1)\n",
            "theta  (2, 1)\n",
            "theta  (10, 2)\n",
            "theta  (10, 1)\n",
            "theta  (2, 1)\n",
            "theta  (10, 2)\n",
            "theta  (10, 1)\n",
            "theta  (2, 1)\n",
            "theta  (10, 2)\n",
            "theta  (10, 1)\n",
            "theta  (2, 1)\n",
            "theta  (10, 2)\n",
            "theta  (10, 1)\n",
            "theta  (2, 1)\n",
            "theta  (10, 2)\n",
            "theta  (10, 1)\n",
            "theta  (2, 1)\n",
            "theta  (10, 2)\n",
            "theta  (10, 1)\n",
            "theta  (2, 1)\n",
            "theta  (10, 2)\n",
            "theta  (10, 1)\n",
            "theta  (2, 1)\n",
            "theta  (10, 2)\n",
            "theta  (10, 1)\n",
            "theta  (2, 1)\n",
            "theta  (10, 2)\n",
            "theta  (10, 1)\n",
            "theta  (2, 1)\n",
            "theta  (10, 2)\n",
            "theta  (10, 1)\n",
            "theta  (2, 1)\n",
            "theta  (10, 2)\n",
            "theta  (10, 1)\n",
            "theta  (2, 1)\n",
            "theta  (10, 2)\n",
            "theta  (10, 1)\n",
            "theta  (2, 1)\n",
            "theta  (10, 2)\n",
            "theta  (10, 1)\n",
            "theta  (2, 1)\n",
            "theta  (10, 2)\n",
            "theta  (10, 1)\n",
            "theta  (2, 1)\n",
            "theta  (10, 2)\n",
            "theta  (10, 1)\n",
            "theta  (2, 1)\n",
            "theta  (10, 2)\n",
            "theta  (10, 1)\n",
            "theta  (2, 1)\n",
            "theta  (10, 2)\n",
            "theta  (10, 1)\n",
            "theta  (2, 1)\n",
            "theta  (10, 2)\n",
            "theta  (10, 1)\n",
            "theta  (2, 1)\n",
            "theta  (10, 2)\n",
            "theta  (10, 1)\n",
            "theta  (2, 1)\n",
            "theta  (10, 2)\n",
            "theta  (10, 1)\n",
            "theta  (2, 1)\n",
            "theta  (10, 2)\n",
            "theta  (10, 1)\n",
            "theta  (2, 1)\n",
            "theta  (10, 2)\n",
            "theta  (10, 1)\n",
            "theta  (2, 1)\n",
            "theta  (10, 2)\n",
            "theta  (10, 1)\n",
            "theta  (2, 1)\n",
            "theta  (10, 2)\n",
            "theta  (10, 1)\n",
            "theta  (2, 1)\n",
            "theta  (10, 2)\n",
            "theta  (10, 1)\n",
            "theta  (2, 1)\n",
            "theta  (10, 2)\n",
            "theta  (10, 1)\n",
            "theta  (2, 1)\n",
            "theta  (10, 2)\n",
            "theta  (10, 1)\n",
            "theta  (2, 1)\n",
            "theta  (10, 2)\n",
            "theta  (10, 1)\n",
            "theta  (2, 1)\n",
            "theta  (10, 2)\n",
            "theta  (10, 1)\n",
            "theta  (2, 1)\n",
            "theta  (10, 2)\n",
            "theta  (10, 1)\n",
            "theta  (2, 1)\n",
            "theta  (10, 2)\n",
            "theta  (10, 1)\n",
            "theta  (2, 1)\n",
            "theta  (10, 2)\n",
            "theta  (10, 1)\n",
            "theta  (2, 1)\n",
            "theta  (10, 2)\n",
            "theta  (10, 1)\n",
            "theta  (2, 1)\n",
            "theta  (10, 2)\n",
            "theta  (10, 1)\n",
            "theta  (2, 1)\n",
            "theta  (10, 2)\n",
            "theta  (10, 1)\n",
            "theta  (2, 1)\n",
            "theta  (10, 2)\n",
            "theta  (10, 1)\n",
            "theta  (2, 1)\n",
            "theta  (10, 2)\n",
            "theta  (10, 1)\n",
            "theta  (2, 1)\n",
            "theta  (10, 2)\n",
            "theta  (10, 1)\n",
            "theta  (2, 1)\n",
            "theta  (10, 2)\n",
            "theta  (10, 1)\n",
            "theta  (2, 1)\n",
            "theta  (10, 2)\n",
            "theta  (10, 1)\n",
            "theta  (2, 1)\n",
            "theta  (10, 2)\n",
            "theta  (10, 1)\n",
            "theta  (2, 1)\n",
            "theta  (10, 2)\n",
            "theta  (10, 1)\n",
            "theta  (2, 1)\n",
            "theta  (10, 2)\n",
            "theta  (10, 1)\n",
            "theta  (2, 1)\n",
            "theta  (10, 2)\n",
            "theta  (10, 1)\n",
            "theta  (2, 1)\n",
            "theta  (10, 2)\n",
            "theta  (10, 1)\n",
            "theta  (2, 1)\n",
            "theta  (10, 2)\n",
            "theta  (10, 1)\n",
            "theta  (2, 1)\n",
            "theta  (10, 2)\n",
            "theta  (10, 1)\n",
            "theta  (2, 1)\n",
            "theta  (10, 2)\n",
            "theta  (10, 1)\n",
            "theta  (2, 1)\n",
            "theta  (10, 2)\n",
            "theta  (10, 1)\n",
            "theta  (2, 1)\n",
            "theta  (10, 2)\n",
            "theta  (10, 1)\n",
            "theta  (2, 1)\n",
            "theta  (10, 2)\n",
            "theta  (10, 1)\n",
            "theta  (2, 1)\n",
            "theta  (10, 2)\n",
            "theta  (10, 1)\n",
            "theta  (2, 1)\n",
            "theta  (10, 2)\n",
            "theta  (10, 1)\n",
            "theta  (2, 1)\n",
            "theta  (10, 2)\n",
            "theta  (10, 1)\n",
            "theta  (2, 1)\n",
            "theta  (10, 2)\n",
            "theta  (10, 1)\n",
            "theta  (2, 1)\n",
            "theta  (10, 2)\n",
            "theta  (10, 1)\n",
            "theta  (2, 1)\n",
            "theta  (10, 2)\n",
            "theta  (10, 1)\n",
            "theta  (2, 1)\n",
            "theta  (10, 2)\n",
            "theta  (10, 1)\n",
            "theta  (2, 1)\n",
            "theta  (10, 2)\n",
            "theta  (10, 1)\n",
            "theta  (2, 1)\n",
            "theta  (10, 2)\n",
            "theta  (10, 1)\n",
            "theta  (2, 1)\n",
            "theta  (10, 2)\n",
            "theta  (10, 1)\n",
            "theta  (2, 1)\n",
            "theta  (10, 2)\n",
            "theta  (10, 1)\n",
            "theta  (2, 1)\n",
            "theta  (10, 2)\n",
            "theta  (10, 1)\n",
            "theta  (2, 1)\n",
            "theta  (10, 2)\n",
            "theta  (10, 1)\n",
            "theta  (2, 1)\n",
            "theta  (10, 2)\n",
            "theta  (10, 1)\n",
            "theta  (2, 1)\n",
            "theta  (10, 2)\n",
            "theta  (10, 1)\n",
            "theta  (2, 1)\n",
            "theta  (10, 2)\n",
            "theta  (10, 1)\n",
            "theta  (2, 1)\n",
            "theta  (10, 2)\n",
            "theta  (10, 1)\n",
            "theta  (2, 1)\n",
            "theta  (10, 2)\n",
            "theta  (10, 1)\n",
            "theta  (2, 1)\n",
            "theta  (10, 2)\n",
            "theta  (10, 1)\n",
            "theta  (2, 1)\n",
            "theta  (10, 2)\n",
            "theta  (10, 1)\n",
            "theta  (2, 1)\n",
            "theta  (10, 2)\n",
            "theta  (10, 1)\n",
            "theta  (2, 1)\n",
            "theta  (10, 2)\n",
            "theta  (10, 1)\n",
            "theta  (2, 1)\n",
            "theta  (10, 2)\n",
            "theta  (10, 1)\n",
            "theta  (2, 1)\n",
            "theta  (10, 2)\n",
            "theta  (10, 1)\n",
            "theta  (2, 1)\n",
            "theta  (10, 2)\n",
            "theta  (10, 1)\n",
            "theta  (2, 1)\n",
            "theta  (10, 2)\n",
            "theta  (10, 1)\n",
            "theta  (2, 1)\n",
            "theta  (10, 2)\n",
            "theta  (10, 1)\n",
            "theta  (2, 1)\n",
            "theta  (10, 2)\n",
            "theta  (10, 1)\n",
            "theta  (2, 1)\n",
            "theta  (10, 2)\n",
            "theta  (10, 1)\n",
            "theta  (2, 1)\n",
            "theta  (10, 2)\n",
            "theta  (10, 1)\n",
            "theta  (2, 1)\n",
            "theta  (10, 2)\n",
            "theta  (10, 1)\n",
            "theta  (2, 1)\n",
            "theta  (10, 2)\n",
            "theta  (10, 1)\n",
            "theta  (2, 1)\n",
            "theta  (10, 2)\n",
            "theta  (10, 1)\n",
            "theta  (2, 1)\n",
            "theta  (10, 2)\n",
            "theta  (10, 1)\n",
            "theta  (2, 1)\n",
            "theta  (10, 2)\n",
            "theta  (10, 1)\n",
            "theta  (2, 1)\n",
            "theta  (10, 2)\n",
            "theta  (10, 1)\n",
            "theta  (2, 1)\n",
            "theta  (10, 2)\n",
            "theta  (10, 1)\n",
            "theta  (2, 1)\n",
            "theta  (10, 2)\n",
            "theta  (10, 1)\n",
            "theta  (2, 1)\n",
            "theta  (10, 2)\n",
            "theta  (10, 1)\n",
            "theta  (2, 1)\n",
            "theta  (10, 2)\n",
            "theta  (10, 1)\n",
            "theta  (2, 1)\n",
            "theta  (10, 2)\n",
            "theta  (10, 1)\n",
            "theta  (2, 1)\n",
            "theta  (10, 2)\n",
            "theta  (10, 1)\n",
            "theta  (2, 1)\n",
            "theta  (10, 2)\n",
            "theta  (10, 1)\n",
            "theta  (2, 1)\n",
            "theta  (10, 2)\n",
            "theta  (10, 1)\n",
            "theta  (2, 1)\n",
            "theta  (10, 2)\n",
            "theta  (10, 1)\n",
            "theta  (2, 1)\n",
            "theta  (10, 2)\n",
            "theta  (10, 1)\n",
            "theta  (2, 1)\n",
            "theta  (10, 2)\n",
            "theta  (10, 1)\n",
            "theta  (2, 1)\n",
            "theta  (10, 2)\n",
            "theta  (10, 1)\n",
            "theta  (2, 1)\n",
            "theta  (10, 2)\n",
            "theta  (10, 1)\n",
            "theta  (2, 1)\n",
            "theta  (10, 2)\n",
            "theta  (10, 1)\n",
            "theta  (2, 1)\n",
            "theta  (10, 2)\n",
            "theta  (10, 1)\n",
            "theta  (2, 1)\n",
            "theta  (10, 2)\n",
            "theta  (10, 1)\n",
            "theta  (2, 1)\n",
            "theta  (10, 2)\n",
            "theta  (10, 1)\n",
            "theta  (2, 1)\n",
            "theta  (10, 2)\n",
            "theta  (10, 1)\n",
            "theta  (2, 1)\n",
            "theta  (10, 2)\n",
            "theta  (10, 1)\n",
            "theta  (2, 1)\n",
            "theta  (10, 2)\n",
            "theta  (10, 1)\n",
            "theta  (2, 1)\n",
            "theta  (10, 2)\n",
            "theta  (10, 1)\n",
            "theta  (2, 1)\n",
            "theta  (10, 2)\n",
            "theta  (10, 1)\n",
            "theta  (2, 1)\n",
            "theta  (10, 2)\n",
            "theta  (10, 1)\n",
            "theta  (2, 1)\n",
            "theta  (10, 2)\n",
            "theta  (10, 1)\n",
            "theta  (2, 1)\n",
            "theta  (10, 2)\n",
            "theta  (10, 1)\n",
            "theta  (2, 1)\n",
            "theta  (10, 2)\n",
            "theta  (10, 1)\n",
            "theta  (2, 1)\n",
            "theta  (10, 2)\n",
            "theta  (10, 1)\n",
            "theta  (2, 1)\n",
            "theta  (10, 2)\n",
            "theta  (10, 1)\n",
            "theta  (2, 1)\n",
            "theta  (10, 2)\n",
            "theta  (10, 1)\n",
            "theta  (2, 1)\n",
            "theta  (10, 2)\n",
            "theta  (10, 1)\n",
            "theta  (2, 1)\n",
            "theta  (10, 2)\n",
            "theta  (10, 1)\n",
            "theta  (2, 1)\n",
            "theta  (10, 2)\n",
            "theta  (10, 1)\n",
            "theta  (2, 1)\n",
            "theta  (10, 2)\n",
            "theta  (10, 1)\n",
            "theta  (2, 1)\n",
            "theta  (10, 2)\n",
            "theta  (10, 1)\n",
            "theta  (2, 1)\n",
            "theta  (10, 2)\n",
            "theta  (10, 1)\n",
            "theta  (2, 1)\n",
            "theta  (10, 2)\n",
            "theta  (10, 1)\n",
            "theta  (2, 1)\n",
            "theta  (10, 2)\n",
            "theta  (10, 1)\n",
            "theta  (2, 1)\n",
            "theta  (10, 2)\n",
            "theta  (10, 1)\n",
            "theta  (2, 1)\n",
            "theta  (10, 2)\n",
            "theta  (10, 1)\n",
            "theta  (2, 1)\n",
            "theta  (10, 2)\n",
            "theta  (10, 1)\n",
            "theta  (2, 1)\n",
            "theta  (10, 2)\n",
            "theta  (10, 1)\n",
            "theta  (2, 1)\n",
            "theta  (10, 2)\n",
            "theta  (10, 1)\n",
            "theta  (2, 1)\n",
            "theta  (10, 2)\n",
            "theta  (10, 1)\n",
            "theta  (2, 1)\n",
            "theta  (10, 2)\n",
            "theta  (10, 1)\n",
            "theta  (2, 1)\n",
            "theta  (10, 2)\n",
            "theta  (10, 1)\n",
            "theta  (2, 1)\n",
            "theta  (10, 2)\n",
            "theta  (10, 1)\n",
            "theta  (2, 1)\n",
            "theta  (10, 2)\n",
            "theta  (10, 1)\n",
            "theta  (2, 1)\n",
            "theta  (10, 2)\n",
            "theta  (10, 1)\n",
            "theta  (2, 1)\n",
            "theta  (10, 2)\n",
            "theta  (10, 1)\n",
            "theta  (2, 1)\n",
            "theta  (10, 2)\n",
            "theta  (10, 1)\n",
            "theta  (2, 1)\n",
            "theta  (10, 2)\n",
            "theta  (10, 1)\n",
            "theta  (2, 1)\n",
            "theta  (10, 2)\n",
            "theta  (10, 1)\n",
            "theta  (2, 1)\n",
            "theta  (10, 2)\n",
            "theta  (10, 1)\n",
            "theta  (2, 1)\n",
            "theta  (10, 2)\n",
            "theta  (10, 1)\n",
            "theta  (2, 1)\n",
            "theta  (10, 2)\n",
            "theta  (10, 1)\n",
            "theta  (2, 1)\n",
            "theta  (10, 2)\n",
            "theta  (10, 1)\n",
            "theta  (2, 1)\n",
            "theta  (10, 2)\n",
            "theta  (10, 1)\n",
            "theta  (2, 1)\n",
            "theta  (10, 2)\n",
            "theta  (10, 1)\n",
            "theta  (2, 1)\n",
            "theta  (10, 2)\n",
            "theta  (10, 1)\n",
            "theta  (2, 1)\n",
            "theta  (10, 2)\n",
            "theta  (10, 1)\n",
            "theta  (2, 1)\n",
            "theta  (10, 2)\n",
            "theta  (10, 1)\n",
            "theta  (2, 1)\n",
            "theta  (10, 2)\n",
            "theta  (10, 1)\n",
            "theta  (2, 1)\n",
            "theta  (10, 2)\n",
            "theta  (10, 1)\n",
            "theta  (2, 1)\n",
            "theta  (10, 2)\n",
            "theta  (10, 1)\n",
            "theta  (2, 1)\n",
            "theta  (10, 2)\n",
            "theta  (10, 1)\n",
            "theta  (2, 1)\n",
            "theta  (10, 2)\n",
            "theta  (10, 1)\n",
            "theta  (2, 1)\n",
            "theta  (10, 2)\n",
            "theta  (10, 1)\n",
            "theta  (2, 1)\n",
            "theta  (10, 2)\n",
            "theta  (10, 1)\n",
            "theta  (2, 1)\n",
            "theta  (10, 2)\n",
            "theta  (10, 1)\n",
            "theta  (2, 1)\n",
            "theta  (10, 2)\n",
            "theta  (10, 1)\n",
            "theta  (2, 1)\n",
            "theta  (10, 2)\n",
            "theta  (10, 1)\n",
            "theta  (2, 1)\n",
            "theta  (10, 2)\n",
            "theta  (10, 1)\n",
            "theta  (2, 1)\n",
            "theta  (10, 2)\n",
            "theta  (10, 1)\n",
            "theta  (2, 1)\n",
            "theta  (10, 2)\n",
            "theta  (10, 1)\n",
            "theta  (2, 1)\n",
            "theta  (10, 2)\n",
            "theta  (10, 1)\n",
            "theta  (2, 1)\n",
            "theta  (10, 2)\n",
            "theta  (10, 1)\n",
            "theta  (2, 1)\n",
            "theta  (10, 2)\n",
            "theta  (10, 1)\n",
            "theta  (2, 1)\n",
            "theta  (10, 2)\n",
            "theta  (10, 1)\n",
            "theta  (2, 1)\n",
            "theta  (10, 2)\n",
            "theta  (10, 1)\n",
            "theta  (2, 1)\n",
            "theta  (10, 2)\n",
            "theta  (10, 1)\n",
            "theta  (2, 1)\n",
            "theta  (10, 2)\n",
            "theta  (10, 1)\n",
            "theta  (2, 1)\n",
            "theta  (10, 2)\n",
            "theta  (10, 1)\n",
            "theta  (2, 1)\n",
            "theta  (10, 2)\n",
            "theta  (10, 1)\n",
            "theta  (2, 1)\n",
            "theta  (10, 2)\n",
            "theta  (10, 1)\n",
            "theta  (2, 1)\n",
            "theta  (10, 2)\n",
            "theta  (10, 1)\n",
            "theta  (2, 1)\n",
            "theta  (10, 2)\n",
            "theta  (10, 1)\n",
            "theta  (2, 1)\n",
            "theta  (10, 2)\n",
            "theta  (10, 1)\n",
            "theta  (2, 1)\n",
            "theta  (10, 2)\n",
            "theta  (10, 1)\n",
            "theta  (2, 1)\n",
            "theta  (10, 2)\n",
            "theta  (10, 1)\n",
            "theta  (2, 1)\n",
            "theta  (10, 2)\n",
            "theta  (10, 1)\n",
            "theta  (2, 1)\n",
            "theta  (10, 2)\n",
            "theta  (10, 1)\n",
            "theta  (2, 1)\n",
            "theta  (10, 2)\n",
            "theta  (10, 1)\n",
            "theta  (2, 1)\n",
            "theta  (10, 2)\n",
            "theta  (10, 1)\n",
            "theta  (2, 1)\n",
            "theta  (10, 2)\n",
            "theta  (10, 1)\n",
            "theta  (2, 1)\n",
            "theta  (10, 2)\n",
            "theta  (10, 1)\n",
            "theta  (2, 1)\n",
            "theta  (10, 2)\n",
            "theta  (10, 1)\n",
            "theta  (2, 1)\n",
            "theta  (10, 2)\n",
            "theta  (10, 1)\n",
            "theta  (2, 1)\n",
            "theta  (10, 2)\n",
            "theta  (10, 1)\n",
            "theta  (2, 1)\n",
            "theta  (10, 2)\n",
            "theta  (10, 1)\n",
            "theta  (2, 1)\n",
            "theta  (10, 2)\n",
            "theta  (10, 1)\n",
            "theta  (2, 1)\n",
            "theta  (10, 2)\n",
            "theta  (10, 1)\n",
            "theta  (2, 1)\n",
            "theta  (10, 2)\n",
            "theta  (10, 1)\n",
            "theta  (2, 1)\n",
            "theta  (10, 2)\n",
            "theta  (10, 1)\n",
            "theta  (2, 1)\n",
            "theta  (10, 2)\n",
            "theta  (10, 1)\n",
            "theta  (2, 1)\n",
            "theta  (10, 2)\n",
            "theta  (10, 1)\n",
            "theta  (2, 1)\n",
            "theta  (10, 2)\n",
            "theta  (10, 1)\n",
            "theta  (2, 1)\n",
            "theta  (10, 2)\n",
            "theta  (10, 1)\n",
            "theta  (2, 1)\n",
            "theta  (10, 2)\n",
            "theta  (10, 1)\n",
            "theta  (2, 1)\n",
            "theta  (10, 2)\n",
            "theta  (10, 1)\n",
            "theta  (2, 1)\n",
            "theta  (10, 2)\n",
            "theta  (10, 1)\n",
            "theta  (2, 1)\n",
            "theta  (10, 2)\n",
            "theta  (10, 1)\n",
            "theta  (2, 1)\n",
            "theta  (10, 2)\n",
            "theta  (10, 1)\n",
            "theta  (2, 1)\n",
            "theta  (10, 2)\n",
            "theta  (10, 1)\n",
            "theta  (2, 1)\n",
            "theta  (10, 2)\n",
            "theta  (10, 1)\n",
            "theta  (2, 1)\n",
            "theta  (10, 2)\n",
            "theta  (10, 1)\n",
            "theta  (2, 1)\n",
            "theta  (10, 2)\n",
            "theta  (10, 1)\n",
            "theta  (2, 1)\n",
            "theta  (10, 2)\n",
            "theta  (10, 1)\n",
            "theta  (2, 1)\n",
            "theta  (10, 2)\n",
            "theta  (10, 1)\n",
            "theta  (2, 1)\n",
            "theta  (10, 2)\n",
            "theta  (10, 1)\n",
            "theta  (2, 1)\n",
            "theta  (10, 2)\n",
            "theta  (10, 1)\n",
            "theta  (2, 1)\n",
            "theta  (10, 2)\n",
            "theta  (10, 1)\n",
            "theta  (2, 1)\n",
            "theta  (10, 2)\n",
            "theta  (10, 1)\n",
            "theta  (2, 1)\n",
            "theta  (10, 2)\n",
            "theta  (10, 1)\n",
            "theta  (2, 1)\n",
            "theta  (10, 2)\n",
            "theta  (10, 1)\n",
            "theta  (2, 1)\n",
            "theta  (10, 2)\n",
            "theta  (10, 1)\n",
            "theta  (2, 1)\n",
            "theta  (10, 2)\n",
            "theta  (10, 1)\n",
            "theta  (2, 1)\n",
            "theta  (10, 2)\n",
            "theta  (10, 1)\n",
            "theta  (2, 1)\n",
            "theta  (10, 2)\n",
            "theta  (10, 1)\n",
            "theta  (2, 1)\n",
            "theta  (10, 2)\n",
            "theta  (10, 1)\n",
            "theta  (2, 1)\n",
            "theta  (10, 2)\n",
            "theta  (10, 1)\n",
            "theta  (2, 1)\n",
            "theta  (10, 2)\n",
            "theta  (10, 1)\n",
            "theta  (2, 1)\n",
            "theta  (10, 2)\n",
            "theta  (10, 1)\n",
            "theta  (2, 1)\n",
            "theta  (10, 2)\n",
            "theta  (10, 1)\n",
            "theta  (2, 1)\n",
            "theta  (10, 2)\n",
            "theta  (10, 1)\n",
            "theta  (2, 1)\n",
            "theta  (10, 2)\n",
            "theta  (10, 1)\n",
            "theta  (2, 1)\n",
            "theta  (10, 2)\n",
            "theta  (10, 1)\n",
            "theta  (2, 1)\n",
            "theta  (10, 2)\n",
            "theta  (10, 1)\n",
            "theta  (2, 1)\n",
            "theta  (10, 2)\n",
            "theta  (10, 1)\n",
            "theta  (2, 1)\n",
            "theta  (10, 2)\n",
            "theta  (10, 1)\n",
            "theta  (2, 1)\n",
            "theta  (10, 2)\n",
            "theta  (10, 1)\n",
            "theta  (2, 1)\n",
            "theta  (10, 2)\n",
            "theta  (10, 1)\n",
            "theta  (2, 1)\n",
            "theta  (10, 2)\n",
            "theta  (10, 1)\n",
            "theta  (2, 1)\n",
            "theta  (10, 2)\n",
            "theta  (10, 1)\n",
            "theta  (2, 1)\n",
            "theta  (10, 2)\n",
            "theta  (10, 1)\n",
            "theta  (2, 1)\n",
            "theta  (10, 2)\n",
            "theta  (10, 1)\n",
            "theta  (2, 1)\n",
            "theta  (10, 2)\n",
            "theta  (10, 1)\n",
            "theta  (2, 1)\n",
            "theta  (10, 2)\n",
            "theta  (10, 1)\n",
            "theta  (2, 1)\n",
            "theta  (10, 2)\n",
            "theta  (10, 1)\n",
            "theta  (2, 1)\n",
            "theta  (10, 2)\n",
            "theta  (10, 1)\n",
            "theta  (2, 1)\n",
            "theta  (10, 2)\n",
            "theta  (10, 1)\n",
            "theta  (2, 1)\n",
            "theta  (10, 2)\n",
            "theta  (10, 1)\n",
            "theta  (2, 1)\n",
            "theta  (10, 2)\n",
            "theta  (10, 1)\n",
            "theta  (2, 1)\n",
            "theta  (10, 2)\n",
            "theta  (10, 1)\n",
            "theta  (2, 1)\n",
            "theta  (10, 2)\n",
            "theta  (10, 1)\n",
            "theta  (2, 1)\n",
            "theta  (10, 2)\n",
            "theta  (10, 1)\n",
            "theta  (2, 1)\n",
            "theta  (10, 2)\n",
            "theta  (10, 1)\n",
            "theta  (2, 1)\n",
            "theta  (10, 2)\n",
            "theta  (10, 1)\n",
            "theta  (2, 1)\n",
            "theta  (10, 2)\n",
            "theta  (10, 1)\n",
            "theta  (2, 1)\n",
            "theta  (10, 2)\n",
            "theta  (10, 1)\n",
            "theta  (2, 1)\n",
            "theta  (10, 2)\n",
            "theta  (10, 1)\n",
            "theta  (2, 1)\n",
            "theta  (10, 2)\n",
            "theta  (10, 1)\n",
            "theta  (2, 1)\n",
            "theta  (10, 2)\n",
            "theta  (10, 1)\n",
            "theta  (2, 1)\n",
            "theta  (10, 2)\n",
            "theta  (10, 1)\n",
            "theta  (2, 1)\n",
            "theta  (10, 2)\n",
            "theta  (10, 1)\n",
            "theta  (2, 1)\n",
            "theta  (10, 2)\n",
            "theta  (10, 1)\n",
            "theta  (2, 1)\n",
            "theta  (10, 2)\n",
            "theta  (10, 1)\n",
            "theta  (2, 1)\n",
            "theta  (10, 2)\n",
            "theta  (10, 1)\n",
            "theta  (2, 1)\n",
            "theta  (10, 2)\n",
            "theta  (10, 1)\n",
            "theta  (2, 1)\n",
            "theta  (10, 2)\n",
            "theta  (10, 1)\n",
            "theta  (2, 1)\n",
            "theta  (10, 2)\n",
            "theta  (10, 1)\n",
            "theta  (2, 1)\n",
            "theta  (10, 2)\n",
            "theta  (10, 1)\n",
            "theta  (2, 1)\n",
            "theta  (10, 2)\n",
            "theta  (10, 1)\n",
            "theta  (2, 1)\n",
            "theta  (10, 2)\n",
            "theta  (10, 1)\n",
            "theta  (2, 1)\n",
            "theta  (10, 2)\n",
            "theta  (10, 1)\n",
            "theta  (2, 1)\n",
            "theta  (10, 2)\n",
            "theta  (10, 1)\n",
            "theta  (2, 1)\n",
            "theta  (10, 2)\n",
            "theta  (10, 1)\n",
            "theta  (2, 1)\n",
            "theta  (10, 2)\n",
            "theta  (10, 1)\n",
            "theta  (2, 1)\n",
            "theta  (10, 2)\n",
            "theta  (10, 1)\n",
            "theta  (2, 1)\n",
            "theta  (10, 2)\n",
            "theta  (10, 1)\n",
            "theta  (2, 1)\n",
            "theta  (10, 2)\n",
            "theta  (10, 1)\n",
            "theta  (2, 1)\n",
            "theta  (10, 2)\n",
            "theta  (10, 1)\n",
            "theta  (2, 1)\n",
            "theta  (10, 2)\n",
            "theta  (10, 1)\n",
            "theta  (2, 1)\n",
            "theta  (10, 2)\n",
            "theta  (10, 1)\n",
            "theta  (2, 1)\n",
            "theta  (10, 2)\n",
            "theta  (10, 1)\n",
            "theta  (2, 1)\n",
            "theta  (10, 2)\n",
            "theta  (10, 1)\n",
            "theta  (2, 1)\n",
            "theta  (10, 2)\n",
            "theta  (10, 1)\n",
            "theta  (2, 1)\n",
            "theta  (10, 2)\n",
            "theta  (10, 1)\n",
            "theta  (2, 1)\n",
            "theta  (10, 2)\n",
            "theta  (10, 1)\n",
            "theta  (2, 1)\n",
            "theta  (10, 2)\n",
            "theta  (10, 1)\n",
            "theta  (2, 1)\n",
            "theta  (10, 2)\n",
            "theta  (10, 1)\n",
            "theta  (2, 1)\n",
            "theta  (10, 2)\n",
            "theta  (10, 1)\n",
            "theta  (2, 1)\n",
            "theta  (10, 2)\n",
            "theta  (10, 1)\n",
            "theta  (2, 1)\n",
            "theta  (10, 2)\n",
            "theta  (10, 1)\n",
            "theta  (2, 1)\n",
            "theta  (10, 2)\n",
            "theta  (10, 1)\n",
            "theta  (2, 1)\n",
            "theta  (10, 2)\n",
            "theta  (10, 1)\n",
            "theta  (2, 1)\n",
            "theta  (10, 2)\n",
            "theta  (10, 1)\n",
            "theta  (2, 1)\n",
            "theta  (10, 2)\n",
            "theta  (10, 1)\n",
            "theta  (2, 1)\n",
            "theta  (10, 2)\n",
            "theta  (10, 1)\n",
            "theta  (2, 1)\n",
            "theta  (10, 2)\n",
            "theta  (10, 1)\n",
            "theta  (2, 1)\n",
            "theta  (10, 2)\n",
            "theta  (10, 1)\n",
            "theta  (2, 1)\n",
            "theta  (10, 2)\n",
            "theta  (10, 1)\n",
            "theta  (2, 1)\n",
            "theta  (10, 2)\n",
            "theta  (10, 1)\n",
            "theta  (2, 1)\n",
            "theta  (10, 2)\n",
            "theta  (10, 1)\n",
            "theta  (2, 1)\n",
            "theta  (10, 2)\n",
            "theta  (10, 1)\n",
            "theta  (2, 1)\n",
            "theta  (10, 2)\n",
            "theta  (10, 1)\n",
            "theta  (2, 1)\n",
            "theta  (10, 2)\n",
            "theta  (10, 1)\n",
            "theta  (2, 1)\n",
            "theta  (10, 2)\n",
            "theta  (10, 1)\n",
            "theta  (2, 1)\n",
            "theta  (10, 2)\n",
            "theta  (10, 1)\n",
            "theta  (2, 1)\n",
            "theta  (10, 2)\n",
            "theta  (10, 1)\n",
            "theta  (2, 1)\n",
            "theta  (10, 2)\n",
            "theta  (10, 1)\n",
            "theta  (2, 1)\n",
            "theta  (10, 2)\n",
            "theta  (10, 1)\n",
            "theta  (2, 1)\n",
            "theta  (10, 2)\n",
            "theta  (10, 1)\n",
            "theta  (2, 1)\n",
            "theta  (10, 2)\n",
            "theta  (10, 1)\n",
            "theta  (2, 1)\n",
            "theta  (10, 2)\n",
            "theta  (10, 1)\n",
            "theta  (2, 1)\n",
            "theta  (10, 2)\n",
            "theta  (10, 1)\n",
            "theta  (2, 1)\n",
            "theta  (10, 2)\n",
            "theta  (10, 1)\n",
            "theta  (2, 1)\n",
            "theta  (10, 2)\n",
            "theta  (10, 1)\n",
            "theta  (2, 1)\n",
            "theta  (10, 2)\n",
            "theta  (10, 1)\n",
            "theta  (2, 1)\n",
            "theta  (10, 2)\n",
            "theta  (10, 1)\n",
            "theta  (2, 1)\n",
            "theta  (10, 2)\n",
            "theta  (10, 1)\n",
            "theta  (2, 1)\n",
            "theta  (10, 2)\n",
            "theta  (10, 1)\n",
            "theta  (2, 1)\n",
            "theta  (10, 2)\n",
            "theta  (10, 1)\n",
            "theta  (2, 1)\n",
            "theta  (10, 2)\n",
            "theta  (10, 1)\n",
            "theta  (2, 1)\n",
            "theta  (10, 2)\n",
            "theta  (10, 1)\n",
            "theta  (2, 1)\n",
            "theta  (10, 2)\n",
            "theta  (10, 1)\n",
            "theta  (2, 1)\n",
            "theta  (10, 2)\n",
            "theta  (10, 1)\n",
            "theta  (2, 1)\n",
            "theta  (10, 2)\n",
            "theta  (10, 1)\n",
            "theta  (2, 1)\n",
            "theta  (10, 2)\n",
            "theta  (10, 1)\n",
            "theta  (2, 1)\n",
            "theta  (10, 2)\n",
            "theta  (10, 1)\n",
            "theta  (2, 1)\n",
            "theta  (10, 2)\n",
            "theta  (10, 1)\n",
            "theta  (2, 1)\n",
            "theta  (10, 2)\n",
            "theta  (10, 1)\n"
          ]
        }
      ],
      "source": [
        "lr =0.005\n",
        "n_iter = 100\n",
        "\n",
        "theta = np.random.randn(2,1)\n",
        "\n",
        "\n",
        "thetas,cost_history = minibatch_gradient_descent(x_data,y_data,theta,lr,n_iter)\n",
        "\n",
        "\n",
        "# print('Theta0:          {:0.3f},\\nTheta1:          {:0.3f}'.format(theta[0][0],theta[1][0]))\n",
        "# print('Final cost/MSE:  {:0.3f}'.format(cost_history[-1]))"
      ]
    },
    {
      "cell_type": "code",
      "execution_count": null,
      "metadata": {
        "id": "KhBzrpEADF5F",
        "outputId": "fd385575-8e11-471e-d7f4-b055084af760"
      },
      "outputs": [
        {
          "data": {
            "text/plain": [
              "Text(0, 0.5, 'Y')"
            ]
          },
          "execution_count": 555,
          "metadata": {},
          "output_type": "execute_result"
        },
        {
          "data": {
            "image/png": "[encoded data removed]",
            "text/plain": [
              "<Figure size 360x360 with 1 Axes>"
            ]
          },
          "metadata": {
            "needs_background": "light"
          },
          "output_type": "display_data"
        }
      ],
      "source": [
        "\n",
        "# draw the line\n",
        "\n",
        "import matplotlib.pyplot as plt \n",
        "fig, ax = plt.subplots(figsize=(5,5))\n",
        "theta = thetas [-1]\n",
        "#     print(theta,theta.shape)\n",
        "thetat=thetat.reshape(1,-1)\n",
        "#     print(theta,theta.shape)\n",
        "#     p= t[0, 0] + (t[0, 1] * x[:,1])\n",
        "ax.scatter(x[:,1], y_data, label='BFS' )\n",
        "\n",
        "ax.plot(x,( (x @ theta.T) ) , label='BFL')\n",
        "plt.title(\"BFL with every epohc\")\n",
        "\n",
        "#     break\n",
        "    \n",
        "\n",
        "#ax.legend(loc=1)\n",
        "\n",
        "ax.set_xlabel('X')\n",
        "\n",
        "ax.set_ylabel('Y')\n"
      ]
    },
    {
      "cell_type": "code",
      "execution_count": null,
      "metadata": {
        "id": "Z6f1cwx6DF5G",
        "outputId": "5fe93206-5764-4b00-b112-73c3f473d6de"
      },
      "outputs": [
        {
          "data": {
            "text/plain": [
              "Text(0.5, 1.0, 'Error vs. Training Epoch\\\\iteration.')"
            ]
          },
          "execution_count": 548,
          "metadata": {},
          "output_type": "execute_result"
        },
        {
          "data": {
            "image/png": "[encoded data removed]",
            "text/plain": [
              "<Figure size 360x360 with 1 Axes>"
            ]
          },
          "metadata": {
            "needs_background": "light"
          },
          "output_type": "display_data"
        }
      ],
      "source": [
        "# draw error graph\n",
        "\n",
        "fig, ax = plt.subplots(figsize=(5,5))\n",
        "ax.plot( cost_history, 'r')\n",
        "ax.set_xlabel('Iterations')\n",
        "ax.set_ylabel('Cost')\n",
        "ax.set_title('Error vs. Training Epoch\\iteration.')\n"
      ]
    },
    {
      "cell_type": "code",
      "execution_count": null,
      "metadata": {
        "id": "1J0W9e_ZDF5G",
        "outputId": "540ea182-ba85-4ea0-c704-64c4e371cc56"
      },
      "outputs": [
        {
          "data": {
            "text/plain": [
              "Text(0, 0.5, 'Y')"
            ]
          },
          "execution_count": 549,
          "metadata": {},
          "output_type": "execute_result"
        },
        {
          "data": {
            "image/png": "[encoded data removed]",
            "text/plain": [
              "<Figure size 360x360 with 1 Axes>"
            ]
          },
          "metadata": {
            "needs_background": "light"
          },
          "output_type": "display_data"
        }
      ],
      "source": [
        "\n",
        "# draw the line\n",
        "\n",
        "import matplotlib.pyplot as plt \n",
        "fig, ax = plt.subplots(figsize=(5,5))\n",
        "for theta in  thetas :\n",
        "#     print(theta,theta.shape)\n",
        "    theta=theta.reshape(1,-1)\n",
        "#     print(theta.shape)\n",
        "#     print(x.shape)\n",
        "    \n",
        "#     p= t[0, 0] + (t[0, 1] * x[:,1])\n",
        "    ax.plot(x,( (x @ theta.T) ) , label='BFL')\n",
        "    plt.title(\"BFL with devery epohc\")\n",
        "\n",
        "#     break\n",
        "    \n",
        "\n",
        "#ax.legend(loc=1)\n",
        "\n",
        "ax.set_xlabel('X')\n",
        "\n",
        "ax.set_ylabel('Y')\n"
      ]
    },
    {
      "cell_type": "code",
      "execution_count": null,
      "metadata": {
        "id": "zQ95lcoyDF5G"
      },
      "outputs": [],
      "source": [
        "# draw error graph\n",
        "# draw error graph\n",
        "theta_0 = thetas[: , 0].reshape(-1,1)\n",
        "theta_1 = thetas[: , 1].reshape(-1,1)\n",
        "\n",
        "\n",
        "\n"
      ]
    },
    {
      "cell_type": "code",
      "execution_count": null,
      "metadata": {
        "id": "yzpi8ra9DF5G",
        "outputId": "42214162-f19f-4fa4-865a-41df60c6f32f"
      },
      "outputs": [
        {
          "data": {
            "text/plain": [
              "Text(0.5, 1.0, 'Error vs. Training Epoch\\\\iteration.')"
            ]
          },
          "execution_count": 560,
          "metadata": {},
          "output_type": "execute_result"
        },
        {
          "data": {
            "image/png": "[encoded data removed]",
            "text/plain": [
              "<Figure size 360x360 with 1 Axes>"
            ]
          },
          "metadata": {
            "needs_background": "light"
          },
          "output_type": "display_data"
        }
      ],
      "source": [
        "fig, ax = plt.subplots(figsize=(5,5))\n",
        "ax.plot( theta_0,cost_history ,  'r')\n",
        "ax.set_xlabel('theta_0')\n",
        "ax.set_ylabel('Cost')\n",
        "ax.set_title('Error vs. Training Epoch\\iteration.')"
      ]
    },
    {
      "cell_type": "code",
      "execution_count": null,
      "metadata": {
        "id": "-Gjoz6RtDF5H",
        "outputId": "9e54cafc-7f87-4a09-cfb0-64a01ca9976e"
      },
      "outputs": [
        {
          "data": {
            "text/plain": [
              "Text(0.5, 1.0, 'Error vs. Training Epoch\\\\iteration.')"
            ]
          },
          "execution_count": 561,
          "metadata": {},
          "output_type": "execute_result"
        },
        {
          "data": {
            "image/png": "[encoded data removed]",
            "text/plain": [
              "<Figure size 360x360 with 1 Axes>"
            ]
          },
          "metadata": {
            "needs_background": "light"
          },
          "output_type": "display_data"
        }
      ],
      "source": [
        "fig, ax = plt.subplots(figsize=(5,5))\n",
        "ax.plot( theta_1, cost_history ,  'r')\n",
        "ax.set_xlabel('theta_1')\n",
        "ax.set_ylabel('Cost')\n",
        "ax.set_title('Error vs. Training Epoch\\iteration.')\n"
      ]
    },
    {
      "cell_type": "code",
      "execution_count": null,
      "metadata": {
        "id": "2Zyyjpj1DF5H",
        "outputId": "af4045d7-42d8-42ce-f9d1-398c64d06496"
      },
      "outputs": [
        {
          "name": "stdout",
          "output_type": "stream",
          "text": [
            "0.9966285552049715\n"
          ]
        }
      ],
      "source": [
        "prdect =  x_data @ list_theta[-1]\n",
        "                                           \n",
        "prdect=prdect.reshape(len(prdect),1)\n",
        "from sklearn.metrics import r2_score\n",
        "print(r2_score(y_data,prdect))"
      ]
    },
    {
      "cell_type": "markdown",
      "metadata": {
        "id": "DHJgglaQDF5H"
      },
      "source": [
        "# Stochastic GD"
      ]
    },
    {
      "cell_type": "markdown",
      "metadata": {
        "id": "ZInPXwGKDF5I"
      },
      "source": [
        "#### Update the implementation of the Batch GD to beStochastic and rpeat the above plots and evaluations\n",
        "#### You can try different learning rate and see its effect.\n",
        "#### Compare to Batch and Mini-Batch GD\n",
        "### Note: Try once without shuffling the data and once with shuffle and see the effect on the output."
      ]
    },
    {
      "cell_type": "code",
      "execution_count": null,
      "metadata": {
        "id": "hurCaJhVDF5I"
      },
      "outputs": [],
      "source": [
        "def copmuteSGD_gradient(X,y,alpha,iterations):\n",
        "    \n",
        "    theta =np.array([0,0]).reshape(1,2)\n",
        "\n",
        "#     cost_list = np.zeros(len(y)*iterations)\n",
        "    cost_list=[]\n",
        "    cost=0\n",
        "    list_theta = np.array([[0,0]])\n",
        "    stp=iterations*len(y)\n",
        "    m=len(y)\n",
        "    \n",
        "    for j in range (1,iterations) : \n",
        "        cost=0\n",
        "\n",
        "        \n",
        "        for i in range(1,m):\n",
        "        \n",
        "#             rand_ind = np.random.randint(0,m)\n",
        "#             print(X[i],X[i].shape)\n",
        "            X_i = X[i].reshape(1,-1)\n",
        "            y_i = y[i].reshape(1,1)\n",
        "            prediction = np.dot(X_i,theta.T)\n",
        "            \n",
        "            gradient_error =  (X_i @ theta.T ) - y_i \n",
        "            gradient_error= np.dot(gradient_error.T , X_i )\n",
        "        \n",
        "            theta = theta - ( (alpha /1) * gradient_error )\n",
        "            list_theta = np.append(list_theta , theta.reshape(1,-1), axis=0 )\n",
        "#             print(list_theta)\n",
        "            \n",
        "            cost= compute_cost(X_i,y_i,theta)\n",
        "\n",
        "            cost_list.append(cost)\n",
        "        if j>2:\n",
        "            if(abs( cost_list[-1] - cost_list[-m]) <= 0.1):\n",
        "\n",
        "                break\n",
        "    return theta, cost_list ,np.array(list_theta).reshape(-1,2)  \n",
        "\n",
        "\n",
        "\n"
      ]
    },
    {
      "cell_type": "code",
      "execution_count": null,
      "metadata": {
        "id": "_dfRDJOaDF5I",
        "outputId": "441a85d8-c789-40c4-8b9f-9cd48e05bb40"
      },
      "outputs": [
        {
          "data": {
            "text/plain": [
              "array([[1.68325696e-02],\n",
              "       [1.99664157e-01],\n",
              "       [1.04376859e+00],\n",
              "       [2.53775046e+00],\n",
              "       [4.65975591e+00],\n",
              "       [7.37397864e+00],\n",
              "       [1.06276668e+01],\n",
              "       [1.43488800e+01],\n",
              "       [1.84452693e+01],\n",
              "       [2.28041493e+01],\n",
              "       [2.72940942e+01],\n",
              "       [3.17682128e+01],\n",
              "       [3.60691432e+01],\n",
              "       [4.00356539e+01],\n",
              "       [4.35105650e+01],\n",
              "       [4.63495153e+01],\n",
              "       [4.84299376e+01],\n",
              "       [4.96594726e+01],\n",
              "       [4.99829992e+01],\n",
              "       [4.93874893e+01],\n",
              "       [4.79040311e+01],\n",
              "       [4.56066042e+01],\n",
              "       [4.26075076e+01],\n",
              "       [3.90497074e+01],\n",
              "       [3.50967396e+01],\n",
              "       [3.09211049e+01],\n",
              "       [2.66923004e+01],\n",
              "       [2.25656803e+01],\n",
              "       [1.86732343e+01],\n",
              "       [1.51171149e+01],\n",
              "       [1.19663741e+01],\n",
              "       [9.25695296e+00],\n",
              "       [6.99456344e+00],\n",
              "       [5.15978137e+00],\n",
              "       [3.71447607e+00],\n",
              "       [2.60865946e+00],\n",
              "       [1.78693303e+00],\n",
              "       [1.19391346e+00],\n",
              "       [7.78275256e-01],\n",
              "       [4.95309730e-01],\n",
              "       [3.08117745e-01],\n",
              "       [1.87701633e-01],\n",
              "       [1.12290294e-01],\n",
              "       [6.62296423e-02],\n",
              "       [3.87183222e-02],\n",
              "       [2.25904982e-02],\n",
              "       [1.32656097e-02],\n",
              "       [7.91504081e-03],\n",
              "       [4.84557436e-03],\n",
              "       [7.20475661e-01],\n",
              "       [6.86055352e-01],\n",
              "       [6.51147120e-01],\n",
              "       [6.15358920e-01],\n",
              "       [5.78409052e-01],\n",
              "       [5.40132680e-01],\n",
              "       [5.00488195e-01],\n",
              "       [4.59561874e-01],\n",
              "       [4.17569263e-01],\n",
              "       [3.74851781e-01],\n",
              "       [3.31867268e-01],\n",
              "       [2.89173536e-01],\n",
              "       [2.47404557e-01],\n",
              "       [2.07239590e-01],\n",
              "       [1.69366367e-01],\n",
              "       [1.34440297e-01],\n",
              "       [1.03042432e-01],\n",
              "       [7.56395167e-02],\n",
              "       [5.25497734e-02],\n",
              "       [3.39179293e-02],\n",
              "       [1.97024683e-02],\n",
              "       [9.67705516e-03],\n",
              "       [3.44670668e-03],\n",
              "       [4.77674413e-04],\n",
              "       [1.38400727e-04],\n",
              "       [1.74753462e-03],\n",
              "       [4.62408905e-03],\n",
              "       [8.13455118e-03],\n",
              "       [1.17321953e-02],\n",
              "       [1.49849478e-02],\n",
              "       [1.75897447e-02],\n",
              "       [1.93731483e-02],\n",
              "       [2.02797446e-02],\n",
              "       [2.03512449e-02],\n",
              "       [1.97000558e-02],\n",
              "       [1.84812674e-02],\n",
              "       [1.68665837e-02],\n",
              "       [1.50228224e-02],\n",
              "       [1.30964790e-02],\n",
              "       [1.12047016e-02],\n",
              "       [9.43207101e-03],\n",
              "       [7.83194108e-03],\n",
              "       [6.43081420e-03],\n",
              "       [5.23425550e-03],\n",
              "       [4.23310789e-03],\n",
              "       [3.40913789e-03],\n",
              "       [2.73962522e-03],\n",
              "       [2.20073262e-03],\n",
              "       [1.76972224e-03],\n",
              "       [7.08304164e-01],\n",
              "       [6.75386532e-01],\n",
              "       [6.41939415e-01],\n",
              "       [6.07571219e-01],\n",
              "       [5.71996907e-01],\n",
              "       [5.35044866e-01],\n",
              "       [4.96663714e-01],\n",
              "       [4.56927517e-01],\n",
              "       [4.16037881e-01],\n",
              "       [3.74321414e-01],\n",
              "       [3.32221242e-01],\n",
              "       [2.90281641e-01],\n",
              "       [2.49125333e-01],\n",
              "       [2.09423685e-01],\n",
              "       [1.71860848e-01],\n",
              "       [1.37093701e-01],\n",
              "       [1.05710245e-01],\n",
              "       [7.81897178e-02],\n",
              "       [5.48680070e-02],\n",
              "       [3.59118887e-02],\n",
              "       [2.13050932e-02],\n",
              "       [1.08482378e-02],\n",
              "       [4.17332193e-03],\n",
              "       [7.71906916e-04],\n",
              "       [3.45067887e-05],\n",
              "       [1.29733417e-03],\n",
              "       [3.89160966e-03],\n",
              "       [7.19032334e-03],\n",
              "       [1.06477150e-02],\n",
              "       [1.38277759e-02],\n",
              "       [1.64196106e-02],\n",
              "       [1.82392857e-02],\n",
              "       [1.92195267e-02],\n",
              "       [1.93900395e-02],\n",
              "       [1.88520955e-02],\n",
              "       [1.77512535e-02],\n",
              "       [1.62517114e-02],\n",
              "       [1.45149318e-02],\n",
              "       [1.26840882e-02],\n",
              "       [1.08747506e-02],\n",
              "       [9.17128374e-03],\n",
              "       [7.62778360e-03],\n",
              "       [6.27207945e-03],\n",
              "       [5.11134043e-03],\n",
              "       [4.13806179e-03],\n",
              "       [3.33555989e-03],\n",
              "       [2.68247763e-03],\n",
              "       [2.15612092e-03],\n",
              "       [1.73467585e-03]])"
            ]
          },
          "execution_count": 493,
          "metadata": {},
          "output_type": "execute_result"
        }
      ],
      "source": [
        "# initialize variables for learning rate and iterations\n",
        "alpha = 0.0009\n",
        "iterations = 100\n",
        "\n",
        "\n",
        "# perform gradient descent to \"fit\" the model parameters\n",
        "\n",
        "theta, cost_list , list_theta  = copmuteSGD_gradient(x_data,y_data,alpha,iterations)\n",
        "\n",
        "# print('theta' , theta)\n",
        "\n",
        "# print('cost list  = ' ,cost_list[-1] )\n",
        "\n",
        "cost_list_v2=np.array(cost_list)\n",
        "# print(cost_list_v2.shape)\n",
        "cost_list_v2.reshape(-1,1)\n",
        "# print(cost_list.sh/ape)\n"
      ]
    },
    {
      "cell_type": "code",
      "execution_count": null,
      "metadata": {
        "id": "G4s6VM5yDF5J",
        "outputId": "0a4acefd-eb23-4dfc-c392-028214c2fc69"
      },
      "outputs": [
        {
          "name": "stdout",
          "output_type": "stream",
          "text": [
            "0.9966285552049715\n"
          ]
        }
      ],
      "source": [
        "prdect =  x_data @ theta.T \n",
        "                                           \n",
        "prdect=prdect.reshape(len(prdect),1)\n",
        "from sklearn.metrics import r2_score\n",
        "print(r2_score(y_data,prdect))"
      ]
    },
    {
      "cell_type": "code",
      "execution_count": null,
      "metadata": {
        "id": "LJYVcx-hDF5J",
        "outputId": "cc94d500-1fc7-441a-d262-368aeeb2cee3"
      },
      "outputs": [
        {
          "data": {
            "text/plain": [
              "[<matplotlib.lines.Line2D at 0x254c101d880>]"
            ]
          },
          "execution_count": 459,
          "metadata": {},
          "output_type": "execute_result"
        },
        {
          "data": {
            "image/png": "[encoded data removed]",
            "text/plain": [
              "<Figure size 432x288 with 1 Axes>"
            ]
          },
          "metadata": {
            "needs_background": "light"
          },
          "output_type": "display_data"
        }
      ],
      "source": [
        "plt.plot(cost_list_v2)"
      ]
    },
    {
      "cell_type": "code",
      "execution_count": null,
      "metadata": {
        "id": "PJBO0lpaDF5J",
        "outputId": "da7da1fc-5295-4e14-c805-445a7eb53e3a"
      },
      "outputs": [
        {
          "data": {
            "text/plain": [
              "Text(0, 0.5, 'Y')"
            ]
          },
          "execution_count": 507,
          "metadata": {},
          "output_type": "execute_result"
        },
        {
          "data": {
            "image/png": "[encoded data removed]",
            "text/plain": [
              "<Figure size 360x360 with 1 Axes>"
            ]
          },
          "metadata": {
            "needs_background": "light"
          },
          "output_type": "display_data"
        }
      ],
      "source": [
        "\n",
        "# draw the line\n",
        "\n",
        "import matplotlib.pyplot as plt \n",
        "fig, ax = plt.subplots(figsize=(5,5))\n",
        "thetat = list_theta [-1]\n",
        "#     print(theta,theta.shape)\n",
        "thetat=thetat.reshape(1,-1)\n",
        "#     print(theta,theta.shape)\n",
        "#     p= t[0, 0] + (t[0, 1] * x[:,1])\n",
        "ax.scatter(x[:,1], y_data, label='BFS' )\n",
        "\n",
        "ax.plot(x,( (x @ thetat.T) ) , label='BFL')\n",
        "plt.title(\"BFL with devery epohc\")\n",
        "\n",
        "#     break\n",
        "    \n",
        "\n",
        "#ax.legend(loc=1)\n",
        "\n",
        "ax.set_xlabel('X')\n",
        "\n",
        "ax.set_ylabel('Y')\n"
      ]
    },
    {
      "cell_type": "code",
      "execution_count": null,
      "metadata": {
        "id": "8PlzEdl-DF5K",
        "outputId": "24149218-be25-4e4a-a440-848b7311fee0"
      },
      "outputs": [
        {
          "data": {
            "text/plain": [
              "Text(0, 0.5, 'Y')"
            ]
          },
          "execution_count": 497,
          "metadata": {},
          "output_type": "execute_result"
        },
        {
          "data": {
            "image/png": "[encoded data removed]",
            "text/plain": [
              "<Figure size 360x360 with 1 Axes>"
            ]
          },
          "metadata": {
            "needs_background": "light"
          },
          "output_type": "display_data"
        }
      ],
      "source": [
        "\n",
        "# draw the line\n",
        "\n",
        "import matplotlib.pyplot as plt \n",
        "fig, ax = plt.subplots(figsize=(5,5))\n",
        "for theta in  list_theta :\n",
        "#     print(theta,theta.shape)\n",
        "    theta=theta.reshape(1,-1)\n",
        "#     print(theta,theta.shape)\n",
        "#     p= t[0, 0] + (t[0, 1] * x[:,1])\n",
        "    ax.plot(x,( (x @ theta.T) ) , label='BFL')\n",
        "    plt.title(\"BFL with devery epohc\")\n",
        "\n",
        "#     break\n",
        "    \n",
        "\n",
        "#ax.legend(loc=1)\n",
        "\n",
        "ax.set_xlabel('X')\n",
        "\n",
        "ax.set_ylabel('Y')\n"
      ]
    },
    {
      "cell_type": "code",
      "execution_count": null,
      "metadata": {
        "id": "cOgePfmVDF5K",
        "outputId": "1fb18681-635a-427b-e7a5-27132e65024a"
      },
      "outputs": [
        {
          "data": {
            "text/plain": [
              "(50, 2)"
            ]
          },
          "execution_count": 161,
          "metadata": {},
          "output_type": "execute_result"
        }
      ],
      "source": [
        "x_data.shape"
      ]
    },
    {
      "cell_type": "code",
      "execution_count": null,
      "metadata": {
        "id": "d-1ZeUD2DF5L",
        "outputId": "e3da5547-e754-4390-89d7-b87e48a5efdb"
      },
      "outputs": [
        {
          "name": "stdout",
          "output_type": "stream",
          "text": [
            "0.9994170649708818\n"
          ]
        }
      ],
      "source": [
        "prdect =  x_data @ theta \n",
        "                                           \n",
        "prdect=prdect.reshape(len(prdect),1)\n",
        "from sklearn.metrics import r2_score\n",
        "print(r2_score(y_data,prdect))"
      ]
    },
    {
      "cell_type": "code",
      "execution_count": null,
      "metadata": {
        "id": "t2W_T8cGDF5L"
      },
      "outputs": [],
      "source": [
        "# y_data"
      ]
    },
    {
      "cell_type": "code",
      "execution_count": null,
      "metadata": {
        "id": "eh4ebIKNDF5L"
      },
      "outputs": [],
      "source": [
        "# prdect"
      ]
    },
    {
      "cell_type": "code",
      "execution_count": null,
      "metadata": {
        "id": "tBG3PHg9DF5L"
      },
      "outputs": [],
      "source": [
        ""
      ]
    },
    {
      "cell_type": "code",
      "execution_count": null,
      "metadata": {
        "id": "DX_sAn9PDF5M"
      },
      "outputs": [],
      "source": [
        ""
      ]
    },
    {
      "cell_type": "code",
      "execution_count": null,
      "metadata": {
        "id": "_wfds_OADF5M"
      },
      "outputs": [],
      "source": [
        ""
      ]
    }
  ],
  "metadata": {
    "kernelspec": {
      "display_name": "Python 3",
      "language": "python",
      "name": "python3"
    },
    "language_info": {
      "codemirror_mode": {
        "name": "ipython",
        "version": 3
      },
      "file_extension": ".py",
      "mimetype": "text/x-python",
      "name": "python",
      "nbconvert_exporter": "python",
      "pygments_lexer": "ipython3",
      "version": "3.8.3"
    },
    "colab": {
      "name": "Alaa Saleh Mohamed GD Implementation for Practical Session 2 GD Variants Batch - Mini-Batch - Stochastic.ipynb",
      "provenance": []
    }
  },
  "nbformat": 4,
  "nbformat_minor": 0
}