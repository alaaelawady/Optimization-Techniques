{
  "cells": [
    {
      "cell_type": "markdown",
      "metadata": {
        "id": "D_RHt0DwmSKB"
      },
      "source": [
        "#### Import numpy, matplotlib.pyplot and make it inline"
      ]
    },
    {
      "cell_type": "code",
      "execution_count": 1,
      "metadata": {
        "id": "cJi1QFfOmSKD"
      },
      "outputs": [],
      "source": [
        "import numpy as np\n",
        "import matplotlib.pyplot as plt\n",
        "import pandas as pd\n",
        "from sklearn.metrics import r2_score\n",
        "\n",
        "\n"
      ]
    },
    {
      "cell_type": "markdown",
      "metadata": {
        "id": "izxig4DumSKG"
      },
      "source": [
        "To have a dataset or set of data points, the student must generate a pair of arrays <b>X</b> and <b>y</b> with the values in <b>X</b> equally distributed between <b>0</b> and <b>20</b> and the values in <b>y</b> such that: \n",
        "<b>yi = a*xi + b (and a = -1, b = 2)</b>\n"
      ]
    },
    {
      "cell_type": "code",
      "execution_count": 2,
      "metadata": {
        "id": "JUTZQ8LamSKM"
      },
      "outputs": [],
      "source": [
        "x = np.linspace(0,20)\n",
        "a=-1 \n",
        "b=2\n",
        "y=a*x+b\n"
      ]
    },
    {
      "cell_type": "code",
      "execution_count": 3,
      "metadata": {
        "colab": {
          "base_uri": "https://localhost:8080/",
          "height": 206
        },
        "id": "cAWXWKYSmSKR",
        "outputId": "e1332511-a0ce-4300-a7eb-dbde0e77e287"
      },
      "outputs": [
        {
          "output_type": "execute_result",
          "data": {
            "text/plain": [
              "   x0         x1         y\n",
              "0    1  0.000000  2.000000\n",
              "1    1  0.408163  1.591837\n",
              "2    1  0.816327  1.183673\n",
              "3    1  1.224490  0.775510\n",
              "4    1  1.632653  0.367347"
            ],
            "text/html": [
              "\n",
              "  <div id=\"df-b46fc92a-ca1e-4f38-8996-2ea5c0375248\">\n",
              "    <div class=\"colab-df-container\">\n",
              "      <div>\n",
              "<style scoped>\n",
              "    .dataframe tbody tr th:only-of-type {\n",
              "        vertical-align: middle;\n",
              "    }\n",
              "\n",
              "    .dataframe tbody tr th {\n",
              "        vertical-align: top;\n",
              "    }\n",
              "\n",
              "    .dataframe thead th {\n",
              "        text-align: right;\n",
              "    }\n",
              "</style>\n",
              "<table border=\"1\" class=\"dataframe\">\n",
              "  <thead>\n",
              "    <tr style=\"text-align: right;\">\n",
              "      <th></th>\n",
              "      <th>x0</th>\n",
              "      <th>x1</th>\n",
              "      <th>y</th>\n",
              "    </tr>\n",
              "  </thead>\n",
              "  <tbody>\n",
              "    <tr>\n",
              "      <th>0</th>\n",
              "      <td>1</td>\n",
              "      <td>0.000000</td>\n",
              "      <td>2.000000</td>\n",
              "    </tr>\n",
              "    <tr>\n",
              "      <th>1</th>\n",
              "      <td>1</td>\n",
              "      <td>0.408163</td>\n",
              "      <td>1.591837</td>\n",
              "    </tr>\n",
              "    <tr>\n",
              "      <th>2</th>\n",
              "      <td>1</td>\n",
              "      <td>0.816327</td>\n",
              "      <td>1.183673</td>\n",
              "    </tr>\n",
              "    <tr>\n",
              "      <th>3</th>\n",
              "      <td>1</td>\n",
              "      <td>1.224490</td>\n",
              "      <td>0.775510</td>\n",
              "    </tr>\n",
              "    <tr>\n",
              "      <th>4</th>\n",
              "      <td>1</td>\n",
              "      <td>1.632653</td>\n",
              "      <td>0.367347</td>\n",
              "    </tr>\n",
              "  </tbody>\n",
              "</table>\n",
              "</div>\n",
              "      <button class=\"colab-df-convert\" onclick=\"convertToInteractive('df-b46fc92a-ca1e-4f38-8996-2ea5c0375248')\"\n",
              "              title=\"Convert this dataframe to an interactive table.\"\n",
              "              style=\"display:none;\">\n",
              "        \n",
              "  <svg xmlns=\"http://www.w3.org/2000/svg\" height=\"24px\"viewBox=\"0 0 24 24\"\n",
              "       width=\"24px\">\n",
              "    <path d=\"M0 0h24v24H0V0z\" fill=\"none\"/>\n",
              "    <path d=\"M18.56 5.44l.94 2.06.94-2.06 2.06-.94-2.06-.94-.94-2.06-.94 2.06-2.06.94zm-11 1L8.5 8.5l.94-2.06 2.06-.94-2.06-.94L8.5 2.5l-.94 2.06-2.06.94zm10 10l.94 2.06.94-2.06 2.06-.94-2.06-.94-.94-2.06-.94 2.06-2.06.94z\"/><path d=\"M17.41 7.96l-1.37-1.37c-.4-.4-.92-.59-1.43-.59-.52 0-1.04.2-1.43.59L10.3 9.45l-7.72 7.72c-.78.78-.78 2.05 0 2.83L4 21.41c.39.39.9.59 1.41.59.51 0 1.02-.2 1.41-.59l7.78-7.78 2.81-2.81c.8-.78.8-2.07 0-2.86zM5.41 20L4 18.59l7.72-7.72 1.47 1.35L5.41 20z\"/>\n",
              "  </svg>\n",
              "      </button>\n",
              "      \n",
              "  <style>\n",
              "    .colab-df-container {\n",
              "      display:flex;\n",
              "      flex-wrap:wrap;\n",
              "      gap: 12px;\n",
              "    }\n",
              "\n",
              "    .colab-df-convert {\n",
              "      background-color: #E8F0FE;\n",
              "      border: none;\n",
              "      border-radius: 50%;\n",
              "      cursor: pointer;\n",
              "      display: none;\n",
              "      fill: #1967D2;\n",
              "      height: 32px;\n",
              "      padding: 0 0 0 0;\n",
              "      width: 32px;\n",
              "    }\n",
              "\n",
              "    .colab-df-convert:hover {\n",
              "      background-color: #E2EBFA;\n",
              "      box-shadow: 0px 1px 2px rgba(60, 64, 67, 0.3), 0px 1px 3px 1px rgba(60, 64, 67, 0.15);\n",
              "      fill: #174EA6;\n",
              "    }\n",
              "\n",
              "    [theme=dark] .colab-df-convert {\n",
              "      background-color: #3B4455;\n",
              "      fill: #D2E3FC;\n",
              "    }\n",
              "\n",
              "    [theme=dark] .colab-df-convert:hover {\n",
              "      background-color: #434B5C;\n",
              "      box-shadow: 0px 1px 3px 1px rgba(0, 0, 0, 0.15);\n",
              "      filter: drop-shadow(0px 1px 2px rgba(0, 0, 0, 0.3));\n",
              "      fill: #FFFFFF;\n",
              "    }\n",
              "  </style>\n",
              "\n",
              "      <script>\n",
              "        const buttonEl =\n",
              "          document.querySelector('#df-b46fc92a-ca1e-4f38-8996-2ea5c0375248 button.colab-df-convert');\n",
              "        buttonEl.style.display =\n",
              "          google.colab.kernel.accessAllowed ? 'block' : 'none';\n",
              "\n",
              "        async function convertToInteractive(key) {\n",
              "          const element = document.querySelector('#df-b46fc92a-ca1e-4f38-8996-2ea5c0375248');\n",
              "          const dataTable =\n",
              "            await google.colab.kernel.invokeFunction('convertToInteractive',\n",
              "                                                     [key], {});\n",
              "          if (!dataTable) return;\n",
              "\n",
              "          const docLinkHtml = 'Like what you see? Visit the ' +\n",
              "            '<a target=\"_blank\" href=https://colab.research.google.com/notebooks/data_table.ipynb>data table notebook</a>'\n",
              "            + ' to learn more about interactive tables.';\n",
              "          element.innerHTML = '';\n",
              "          dataTable['output_type'] = 'display_data';\n",
              "          await google.colab.output.renderOutput(dataTable, element);\n",
              "          const docLink = document.createElement('div');\n",
              "          docLink.innerHTML = docLinkHtml;\n",
              "          element.appendChild(docLink);\n",
              "        }\n",
              "      </script>\n",
              "    </div>\n",
              "  </div>\n",
              "  "
            ]
          },
          "metadata": {},
          "execution_count": 3
        }
      ],
      "source": [
        "#Make a dictionary to data and add to dataframe \n",
        "datadict = { 'x0 ': 1 , 'x1':x , 'y':y}\n",
        "data = pd.DataFrame(datadict)\n",
        "data.head()"
      ]
    },
    {
      "cell_type": "code",
      "execution_count": 4,
      "metadata": {
        "scrolled": false,
        "id": "7NY3jrlemSKc"
      },
      "outputs": [],
      "source": [
        "cols = data.shape[1]\n",
        "x=data.iloc[: , 0:cols-1]\n",
        "y=data.iloc[: , cols-1:cols]"
      ]
    },
    {
      "cell_type": "code",
      "execution_count": 5,
      "metadata": {
        "colab": {
          "base_uri": "https://localhost:8080/",
          "height": 206
        },
        "id": "jYT68JLymSKh",
        "outputId": "b601b912-5e4f-4dab-90f1-913428fdc5e2"
      },
      "outputs": [
        {
          "output_type": "execute_result",
          "data": {
            "text/plain": [
              "   x0         x1\n",
              "0    1  0.000000\n",
              "1    1  0.408163\n",
              "2    1  0.816327\n",
              "3    1  1.224490\n",
              "4    1  1.632653"
            ],
            "text/html": [
              "\n",
              "  <div id=\"df-43f2a8a7-fa3f-422f-9914-0d73e8155478\">\n",
              "    <div class=\"colab-df-container\">\n",
              "      <div>\n",
              "<style scoped>\n",
              "    .dataframe tbody tr th:only-of-type {\n",
              "        vertical-align: middle;\n",
              "    }\n",
              "\n",
              "    .dataframe tbody tr th {\n",
              "        vertical-align: top;\n",
              "    }\n",
              "\n",
              "    .dataframe thead th {\n",
              "        text-align: right;\n",
              "    }\n",
              "</style>\n",
              "<table border=\"1\" class=\"dataframe\">\n",
              "  <thead>\n",
              "    <tr style=\"text-align: right;\">\n",
              "      <th></th>\n",
              "      <th>x0</th>\n",
              "      <th>x1</th>\n",
              "    </tr>\n",
              "  </thead>\n",
              "  <tbody>\n",
              "    <tr>\n",
              "      <th>0</th>\n",
              "      <td>1</td>\n",
              "      <td>0.000000</td>\n",
              "    </tr>\n",
              "    <tr>\n",
              "      <th>1</th>\n",
              "      <td>1</td>\n",
              "      <td>0.408163</td>\n",
              "    </tr>\n",
              "    <tr>\n",
              "      <th>2</th>\n",
              "      <td>1</td>\n",
              "      <td>0.816327</td>\n",
              "    </tr>\n",
              "    <tr>\n",
              "      <th>3</th>\n",
              "      <td>1</td>\n",
              "      <td>1.224490</td>\n",
              "    </tr>\n",
              "    <tr>\n",
              "      <th>4</th>\n",
              "      <td>1</td>\n",
              "      <td>1.632653</td>\n",
              "    </tr>\n",
              "  </tbody>\n",
              "</table>\n",
              "</div>\n",
              "      <button class=\"colab-df-convert\" onclick=\"convertToInteractive('df-43f2a8a7-fa3f-422f-9914-0d73e8155478')\"\n",
              "              title=\"Convert this dataframe to an interactive table.\"\n",
              "              style=\"display:none;\">\n",
              "        \n",
              "  <svg xmlns=\"http://www.w3.org/2000/svg\" height=\"24px\"viewBox=\"0 0 24 24\"\n",
              "       width=\"24px\">\n",
              "    <path d=\"M0 0h24v24H0V0z\" fill=\"none\"/>\n",
              "    <path d=\"M18.56 5.44l.94 2.06.94-2.06 2.06-.94-2.06-.94-.94-2.06-.94 2.06-2.06.94zm-11 1L8.5 8.5l.94-2.06 2.06-.94-2.06-.94L8.5 2.5l-.94 2.06-2.06.94zm10 10l.94 2.06.94-2.06 2.06-.94-2.06-.94-.94-2.06-.94 2.06-2.06.94z\"/><path d=\"M17.41 7.96l-1.37-1.37c-.4-.4-.92-.59-1.43-.59-.52 0-1.04.2-1.43.59L10.3 9.45l-7.72 7.72c-.78.78-.78 2.05 0 2.83L4 21.41c.39.39.9.59 1.41.59.51 0 1.02-.2 1.41-.59l7.78-7.78 2.81-2.81c.8-.78.8-2.07 0-2.86zM5.41 20L4 18.59l7.72-7.72 1.47 1.35L5.41 20z\"/>\n",
              "  </svg>\n",
              "      </button>\n",
              "      \n",
              "  <style>\n",
              "    .colab-df-container {\n",
              "      display:flex;\n",
              "      flex-wrap:wrap;\n",
              "      gap: 12px;\n",
              "    }\n",
              "\n",
              "    .colab-df-convert {\n",
              "      background-color: #E8F0FE;\n",
              "      border: none;\n",
              "      border-radius: 50%;\n",
              "      cursor: pointer;\n",
              "      display: none;\n",
              "      fill: #1967D2;\n",
              "      height: 32px;\n",
              "      padding: 0 0 0 0;\n",
              "      width: 32px;\n",
              "    }\n",
              "\n",
              "    .colab-df-convert:hover {\n",
              "      background-color: #E2EBFA;\n",
              "      box-shadow: 0px 1px 2px rgba(60, 64, 67, 0.3), 0px 1px 3px 1px rgba(60, 64, 67, 0.15);\n",
              "      fill: #174EA6;\n",
              "    }\n",
              "\n",
              "    [theme=dark] .colab-df-convert {\n",
              "      background-color: #3B4455;\n",
              "      fill: #D2E3FC;\n",
              "    }\n",
              "\n",
              "    [theme=dark] .colab-df-convert:hover {\n",
              "      background-color: #434B5C;\n",
              "      box-shadow: 0px 1px 3px 1px rgba(0, 0, 0, 0.15);\n",
              "      filter: drop-shadow(0px 1px 2px rgba(0, 0, 0, 0.3));\n",
              "      fill: #FFFFFF;\n",
              "    }\n",
              "  </style>\n",
              "\n",
              "      <script>\n",
              "        const buttonEl =\n",
              "          document.querySelector('#df-43f2a8a7-fa3f-422f-9914-0d73e8155478 button.colab-df-convert');\n",
              "        buttonEl.style.display =\n",
              "          google.colab.kernel.accessAllowed ? 'block' : 'none';\n",
              "\n",
              "        async function convertToInteractive(key) {\n",
              "          const element = document.querySelector('#df-43f2a8a7-fa3f-422f-9914-0d73e8155478');\n",
              "          const dataTable =\n",
              "            await google.colab.kernel.invokeFunction('convertToInteractive',\n",
              "                                                     [key], {});\n",
              "          if (!dataTable) return;\n",
              "\n",
              "          const docLinkHtml = 'Like what you see? Visit the ' +\n",
              "            '<a target=\"_blank\" href=https://colab.research.google.com/notebooks/data_table.ipynb>data table notebook</a>'\n",
              "            + ' to learn more about interactive tables.';\n",
              "          element.innerHTML = '';\n",
              "          dataTable['output_type'] = 'display_data';\n",
              "          await google.colab.output.renderOutput(dataTable, element);\n",
              "          const docLink = document.createElement('div');\n",
              "          docLink.innerHTML = docLinkHtml;\n",
              "          element.appendChild(docLink);\n",
              "        }\n",
              "      </script>\n",
              "    </div>\n",
              "  </div>\n",
              "  "
            ]
          },
          "metadata": {},
          "execution_count": 5
        }
      ],
      "source": [
        "x.head()\n"
      ]
    },
    {
      "cell_type": "code",
      "execution_count": 6,
      "metadata": {
        "colab": {
          "base_uri": "https://localhost:8080/",
          "height": 206
        },
        "id": "Y2hybEgBmSKp",
        "outputId": "42846f4f-dc9f-4a80-de0f-f5024f7f3ff8"
      },
      "outputs": [
        {
          "output_type": "execute_result",
          "data": {
            "text/plain": [
              "          y\n",
              "0  2.000000\n",
              "1  1.591837\n",
              "2  1.183673\n",
              "3  0.775510\n",
              "4  0.367347"
            ],
            "text/html": [
              "\n",
              "  <div id=\"df-ebee43cf-eaa6-4e1a-afb3-f7cba79ce5c2\">\n",
              "    <div class=\"colab-df-container\">\n",
              "      <div>\n",
              "<style scoped>\n",
              "    .dataframe tbody tr th:only-of-type {\n",
              "        vertical-align: middle;\n",
              "    }\n",
              "\n",
              "    .dataframe tbody tr th {\n",
              "        vertical-align: top;\n",
              "    }\n",
              "\n",
              "    .dataframe thead th {\n",
              "        text-align: right;\n",
              "    }\n",
              "</style>\n",
              "<table border=\"1\" class=\"dataframe\">\n",
              "  <thead>\n",
              "    <tr style=\"text-align: right;\">\n",
              "      <th></th>\n",
              "      <th>y</th>\n",
              "    </tr>\n",
              "  </thead>\n",
              "  <tbody>\n",
              "    <tr>\n",
              "      <th>0</th>\n",
              "      <td>2.000000</td>\n",
              "    </tr>\n",
              "    <tr>\n",
              "      <th>1</th>\n",
              "      <td>1.591837</td>\n",
              "    </tr>\n",
              "    <tr>\n",
              "      <th>2</th>\n",
              "      <td>1.183673</td>\n",
              "    </tr>\n",
              "    <tr>\n",
              "      <th>3</th>\n",
              "      <td>0.775510</td>\n",
              "    </tr>\n",
              "    <tr>\n",
              "      <th>4</th>\n",
              "      <td>0.367347</td>\n",
              "    </tr>\n",
              "  </tbody>\n",
              "</table>\n",
              "</div>\n",
              "      <button class=\"colab-df-convert\" onclick=\"convertToInteractive('df-ebee43cf-eaa6-4e1a-afb3-f7cba79ce5c2')\"\n",
              "              title=\"Convert this dataframe to an interactive table.\"\n",
              "              style=\"display:none;\">\n",
              "        \n",
              "  <svg xmlns=\"http://www.w3.org/2000/svg\" height=\"24px\"viewBox=\"0 0 24 24\"\n",
              "       width=\"24px\">\n",
              "    <path d=\"M0 0h24v24H0V0z\" fill=\"none\"/>\n",
              "    <path d=\"M18.56 5.44l.94 2.06.94-2.06 2.06-.94-2.06-.94-.94-2.06-.94 2.06-2.06.94zm-11 1L8.5 8.5l.94-2.06 2.06-.94-2.06-.94L8.5 2.5l-.94 2.06-2.06.94zm10 10l.94 2.06.94-2.06 2.06-.94-2.06-.94-.94-2.06-.94 2.06-2.06.94z\"/><path d=\"M17.41 7.96l-1.37-1.37c-.4-.4-.92-.59-1.43-.59-.52 0-1.04.2-1.43.59L10.3 9.45l-7.72 7.72c-.78.78-.78 2.05 0 2.83L4 21.41c.39.39.9.59 1.41.59.51 0 1.02-.2 1.41-.59l7.78-7.78 2.81-2.81c.8-.78.8-2.07 0-2.86zM5.41 20L4 18.59l7.72-7.72 1.47 1.35L5.41 20z\"/>\n",
              "  </svg>\n",
              "      </button>\n",
              "      \n",
              "  <style>\n",
              "    .colab-df-container {\n",
              "      display:flex;\n",
              "      flex-wrap:wrap;\n",
              "      gap: 12px;\n",
              "    }\n",
              "\n",
              "    .colab-df-convert {\n",
              "      background-color: #E8F0FE;\n",
              "      border: none;\n",
              "      border-radius: 50%;\n",
              "      cursor: pointer;\n",
              "      display: none;\n",
              "      fill: #1967D2;\n",
              "      height: 32px;\n",
              "      padding: 0 0 0 0;\n",
              "      width: 32px;\n",
              "    }\n",
              "\n",
              "    .colab-df-convert:hover {\n",
              "      background-color: #E2EBFA;\n",
              "      box-shadow: 0px 1px 2px rgba(60, 64, 67, 0.3), 0px 1px 3px 1px rgba(60, 64, 67, 0.15);\n",
              "      fill: #174EA6;\n",
              "    }\n",
              "\n",
              "    [theme=dark] .colab-df-convert {\n",
              "      background-color: #3B4455;\n",
              "      fill: #D2E3FC;\n",
              "    }\n",
              "\n",
              "    [theme=dark] .colab-df-convert:hover {\n",
              "      background-color: #434B5C;\n",
              "      box-shadow: 0px 1px 3px 1px rgba(0, 0, 0, 0.15);\n",
              "      filter: drop-shadow(0px 1px 2px rgba(0, 0, 0, 0.3));\n",
              "      fill: #FFFFFF;\n",
              "    }\n",
              "  </style>\n",
              "\n",
              "      <script>\n",
              "        const buttonEl =\n",
              "          document.querySelector('#df-ebee43cf-eaa6-4e1a-afb3-f7cba79ce5c2 button.colab-df-convert');\n",
              "        buttonEl.style.display =\n",
              "          google.colab.kernel.accessAllowed ? 'block' : 'none';\n",
              "\n",
              "        async function convertToInteractive(key) {\n",
              "          const element = document.querySelector('#df-ebee43cf-eaa6-4e1a-afb3-f7cba79ce5c2');\n",
              "          const dataTable =\n",
              "            await google.colab.kernel.invokeFunction('convertToInteractive',\n",
              "                                                     [key], {});\n",
              "          if (!dataTable) return;\n",
              "\n",
              "          const docLinkHtml = 'Like what you see? Visit the ' +\n",
              "            '<a target=\"_blank\" href=https://colab.research.google.com/notebooks/data_table.ipynb>data table notebook</a>'\n",
              "            + ' to learn more about interactive tables.';\n",
              "          element.innerHTML = '';\n",
              "          dataTable['output_type'] = 'display_data';\n",
              "          await google.colab.output.renderOutput(dataTable, element);\n",
              "          const docLink = document.createElement('div');\n",
              "          docLink.innerHTML = docLinkHtml;\n",
              "          element.appendChild(docLink);\n",
              "        }\n",
              "      </script>\n",
              "    </div>\n",
              "  </div>\n",
              "  "
            ]
          },
          "metadata": {},
          "execution_count": 6
        }
      ],
      "source": [
        "y.head()"
      ]
    },
    {
      "cell_type": "code",
      "execution_count": 7,
      "metadata": {
        "id": "J5qDRyNEmSKt"
      },
      "outputs": [],
      "source": [
        "#convert x , y data frames to metrices\n",
        "x=  np.matrix(x.values)\n",
        "\n",
        "y = np.matrix (y.values)\n"
      ]
    },
    {
      "cell_type": "code",
      "execution_count": 8,
      "metadata": {
        "id": "Lk82NTmmmSKx"
      },
      "outputs": [],
      "source": [
        "# n is number of parameters in x \n",
        "n = x.shape[1]\n",
        "\n",
        "\n"
      ]
    },
    {
      "cell_type": "code",
      "execution_count": 9,
      "metadata": {
        "colab": {
          "base_uri": "https://localhost:8080/"
        },
        "id": "ZoSYi5kDmSK1",
        "outputId": "89be0faa-476e-4657-ae83-61efa9272f73"
      },
      "outputs": [
        {
          "output_type": "stream",
          "name": "stdout",
          "text": [
            "X.shape =  (50, 2)\n",
            "y.shape =  (50, 1)\n"
          ]
        }
      ],
      "source": [
        "print('X.shape = ' , x.shape)\n",
        "print('y.shape = ' , y.shape)\n",
        "\n"
      ]
    },
    {
      "cell_type": "markdown",
      "metadata": {
        "id": "4n9Pu_rZmSK4"
      },
      "source": [
        "#### Plot your data points. "
      ]
    },
    {
      "cell_type": "code",
      "execution_count": 10,
      "metadata": {
        "colab": {
          "base_uri": "https://localhost:8080/",
          "height": 282
        },
        "id": "NtRjJ4himSK8",
        "outputId": "e1f4642f-1a98-45e3-940b-26b895c8643f"
      },
      "outputs": [
        {
          "output_type": "execute_result",
          "data": {
            "text/plain": [
              "<matplotlib.collections.PathCollection at 0x7f1bc7c52810>"
            ]
          },
          "metadata": {},
          "execution_count": 10
        },
        {
          "output_type": "display_data",
          "data": {
            "text/plain": [
              "<Figure size 432x288 with 1 Axes>"
            ],
            "image/png": "[encoded data removed]"
          },
          "metadata": {
            "needs_background": "light"
          }
        }
      ],
      "source": [
        "plt.scatter(data.x1,data.y)"
      ]
    },
    {
      "cell_type": "markdown",
      "metadata": {
        "id": "efjmRavtmSK-"
      },
      "source": [
        "## Adagrad"
      ]
    },
    {
      "cell_type": "markdown",
      "metadata": {
        "id": "Tg6VGx10mSLB"
      },
      "source": [
        "### For a single variable linear regression ML model, build a function to find the optimum Theta_0 and Theta_1 parameters using Adagrad optimization algorithm.\n",
        "#### The funtion should have the following input parameters:\n",
        "##### 1. Input data as a matrix (or vector based on your data).\n",
        "##### 2. Target label as a vector.\n",
        "##### 3. Learning rate.\n",
        "##### 4. Epsilon.\n",
        "##### 5. Maximum number of iterations (Epochs).\n",
        "#### The funtion should return the following outputs:\n",
        "##### 1. All predicted Theta_0 in all iterations.\n",
        "##### 2. All predicted Theta_1 in all iterations.\n",
        "##### 3. Corresponding loss for each Theta_0 and Theta_1 predictions.\n",
        "##### 4.All hypothesis outputs (prdicted labels) for each Theta_0 and Theta_1 predictions.\n",
        "##### 5.Final Optimum values of Theta_0 and Theta_1.\n",
        "#### Choose the suitable number of iterations, learning rate, Epsilon, and stop criteria.\n",
        "#### Calculate r2 score. Shouldn't below 0.9\n",
        "#### Plot the required curves (loss-epochs, loss-theta0, loss-theta1, all fitted lines per epoch (single graph), best fit line)\n",
        "#### Try different values of the huperparameters and see the differnce in your results."
      ]
    },
    {
      "cell_type": "markdown",
      "metadata": {
        "id": "jQ4477YVmSLE"
      },
      "source": [
        "![image.png](attachment:image.png)"
      ]
    },
    {
      "cell_type": "code",
      "execution_count": 11,
      "metadata": {
        "id": "WL89-m09mSLH"
      },
      "outputs": [],
      "source": [
        "# theta.shape"
      ]
    },
    {
      "cell_type": "code",
      "execution_count": 12,
      "metadata": {
        "id": "EN3E60kWmSLK"
      },
      "outputs": [],
      "source": [
        "def compute_cost(x,y,theta):\n",
        "\n",
        "    return (np.power(( (x @ theta) - y ), 2 )  )  / (2*len(x)) \n",
        "  \n",
        "#         J = (error.T @ error)/(2*len(x))\n",
        "\n",
        "\n",
        "\n",
        "# print('Calculate the Cost fun in  case of values of theta is 0')\n",
        "\n",
        "# print( compute_cost(x, y, theta))\n"
      ]
    },
    {
      "cell_type": "code",
      "execution_count": 13,
      "metadata": {
        "id": "ek2Fz1ZOmSLM"
      },
      "outputs": [],
      "source": [
        "\n",
        "def ADGRAD_GD(X,Y,LearnRate,epochs,eps): \n",
        "    n = X.shape[1]\n",
        "\n",
        "    costs =  []\n",
        "    theta_list=[]\n",
        "    hypothesis = []\n",
        "    VT = np.zeros((n,1))\n",
        "    Theta = np.matrix(np.zeros((n,1)))\n",
        "\n",
        "\n",
        "    for i in range ( epochs ):\n",
        "        theta_list.append(Theta)\n",
        "        # prediction \n",
        "        pred =  X @ Theta\n",
        "        hypothesis.append(pred)\n",
        "        \n",
        "        # compute erorr\n",
        "        \n",
        "        error = pred - Y\n",
        "\n",
        "        # compute cost function \n",
        "        J = (error.T @ error)/(2*len(x))\n",
        "\n",
        "#         J=compute_cost(X,Y,Theta)\n",
        "        costs.append( J[0,0] )\n",
        "\n",
        "        #compute gradient\n",
        "\n",
        "        gradient = (X.T @ error)/len(X)\n",
        "        \n",
        "        VT = VT + np.power(gradient,2)\n",
        "        #update theta\n",
        "\n",
        "\n",
        "        Theta = Theta - ((LearnRate * gradient)/((np.sqrt(VT))+ eps))\n",
        "\n",
        "        if i>0:\n",
        "            if(np.abs(costs[i-1] - costs[i]) < 0.001):\n",
        "                break\n",
        "    \n",
        "    \n",
        "    return Theta , theta_list , costs , hypothesis \n",
        "        \n",
        "        \n",
        "    \n"
      ]
    },
    {
      "cell_type": "code",
      "execution_count": 49,
      "metadata": {
        "id": "k9KJ9xAjmSLQ"
      },
      "outputs": [],
      "source": [
        "alpha=0.3\n",
        "itera=400\n",
        "eps =1e-8\n",
        "Theta , theta_list , cost , hypothesis  = ADGRAD_GD(x,y,alpha,itera,eps)\n"
      ]
    },
    {
      "cell_type": "code",
      "execution_count": 50,
      "metadata": {
        "colab": {
          "base_uri": "https://localhost:8080/"
        },
        "id": "LbjMbtFamSLT",
        "outputId": "feba96d9-c57d-4154-8430-b1091653db4c"
      },
      "outputs": [
        {
          "output_type": "execute_result",
          "data": {
            "text/plain": [
              "0.0771746720448701"
            ]
          },
          "metadata": {},
          "execution_count": 50
        }
      ],
      "source": [
        "cost[-1]"
      ]
    },
    {
      "cell_type": "code",
      "execution_count": 51,
      "metadata": {
        "colab": {
          "base_uri": "https://localhost:8080/"
        },
        "id": "enHGa7qkmSLY",
        "outputId": "8fd7595f-d187-42fa-bdac-d7b76894a8f9"
      },
      "outputs": [
        {
          "output_type": "stream",
          "name": "stdout",
          "text": [
            "final Theta :  [[ 1.23149636]\n",
            " [-0.9415459 ]]\n"
          ]
        },
        {
          "output_type": "execute_result",
          "data": {
            "text/plain": [
              "0.0771746720448701"
            ]
          },
          "metadata": {},
          "execution_count": 51
        }
      ],
      "source": [
        "print(\"final Theta : \" , Theta)\n",
        "# print(\"final Cost : \" , cost[-1])\n",
        "cost[-1]"
      ]
    },
    {
      "cell_type": "code",
      "execution_count": 52,
      "metadata": {
        "colab": {
          "base_uri": "https://localhost:8080/",
          "height": 279
        },
        "id": "UIsx59s4mSLb",
        "outputId": "01a35f4c-0369-4821-a830-a6ac3380fe95"
      },
      "outputs": [
        {
          "output_type": "display_data",
          "data": {
            "text/plain": [
              "<Figure size 432x288 with 1 Axes>"
            ],
            "image/png": "[encoded data removed]"
          },
          "metadata": {
            "needs_background": "light"
          }
        }
      ],
      "source": [
        "#Plot epochs against Loss\n",
        "plt.plot(cost, 'b')\n",
        "plt.xlabel('Iteration')\n",
        "plt.ylabel('Loss')\n",
        "plt.show()"
      ]
    },
    {
      "cell_type": "code",
      "execution_count": 53,
      "metadata": {
        "id": "nvNqvcJXmSLg"
      },
      "outputs": [],
      "source": [
        "theta_list=np.array(theta_list)\n",
        "theta_0 = theta_list[: , 0].reshape(-1,1)\n",
        "theta_1 = theta_list[: , 1].reshape(-1,1)"
      ]
    },
    {
      "cell_type": "code",
      "execution_count": 54,
      "metadata": {
        "colab": {
          "base_uri": "https://localhost:8080/",
          "height": 296
        },
        "id": "OLE7FKXPmSLi",
        "outputId": "fe3c9d7f-a324-4afc-f0f8-dbbeb44d5b5a"
      },
      "outputs": [
        {
          "output_type": "execute_result",
          "data": {
            "text/plain": [
              "Text(0, 0.5, 'Cost')"
            ]
          },
          "metadata": {},
          "execution_count": 54
        },
        {
          "output_type": "display_data",
          "data": {
            "text/plain": [
              "<Figure size 432x288 with 1 Axes>"
            ],
            "image/png": "[encoded data removed]"
          },
          "metadata": {
            "needs_background": "light"
          }
        }
      ],
      "source": [
        "\n",
        "fig,ax = plt.subplots()\n",
        "ax.plot(theta_0, cost ,'r')\n",
        "\n",
        "ax.set_xlabel('theta 0')\n",
        "ax.set_ylabel('Cost')"
      ]
    },
    {
      "cell_type": "code",
      "execution_count": 55,
      "metadata": {
        "colab": {
          "base_uri": "https://localhost:8080/",
          "height": 296
        },
        "id": "olao6kHHmSLn",
        "outputId": "f044328e-f325-4e52-abd2-c3ea0b4d596a"
      },
      "outputs": [
        {
          "output_type": "execute_result",
          "data": {
            "text/plain": [
              "Text(0, 0.5, 'Cost Value')"
            ]
          },
          "metadata": {},
          "execution_count": 55
        },
        {
          "output_type": "display_data",
          "data": {
            "text/plain": [
              "<Figure size 432x288 with 1 Axes>"
            ],
            "image/png": "[encoded data removed]"
          },
          "metadata": {
            "needs_background": "light"
          }
        }
      ],
      "source": [
        "\n",
        "\n",
        "fig,ax = plt.subplots()\n",
        "ax.plot(theta_1, cost ,'r')\n",
        "\n",
        "ax.set_xlabel('theta 1')\n",
        "ax.set_ylabel('Cost Value')"
      ]
    },
    {
      "cell_type": "code",
      "execution_count": 56,
      "metadata": {
        "id": "3_Ybri_qmSLq"
      },
      "outputs": [],
      "source": [
        "#make prediction \n",
        "y_pred=x*Theta"
      ]
    },
    {
      "cell_type": "code",
      "execution_count": 57,
      "metadata": {
        "colab": {
          "base_uri": "https://localhost:8080/",
          "height": 265
        },
        "id": "dPgiU-6RmSLs",
        "outputId": "8b472e92-85c3-4f68-b056-abf060ebd920"
      },
      "outputs": [
        {
          "output_type": "display_data",
          "data": {
            "text/plain": [
              "<Figure size 432x288 with 1 Axes>"
            ],
            "image/png": "[encoded data removed]"
          },
          "metadata": {
            "needs_background": "light"
          }
        }
      ],
      "source": [
        "\n",
        "plt.scatter(data.x1,data.y)\n",
        "plt.plot(data.x1,y_pred,color='r')\n",
        "plt.show()"
      ]
    },
    {
      "cell_type": "code",
      "execution_count": 58,
      "metadata": {
        "colab": {
          "base_uri": "https://localhost:8080/",
          "height": 265
        },
        "id": "WSQNWYtpmSLu",
        "outputId": "2ad0fab0-d524-4bc6-fbb4-c1fcfa60bba0"
      },
      "outputs": [
        {
          "output_type": "display_data",
          "data": {
            "text/plain": [
              "<Figure size 432x288 with 1 Axes>"
            ],
            "image/png": "[encoded data removed]"
          },
          "metadata": {
            "needs_background": "light"
          }
        }
      ],
      "source": [
        "\n",
        "\n",
        "plt.scatter(data.x1,data.y)\n",
        "\n",
        "for i in theta_list:\n",
        "  y_pred = x*i\n",
        "  plt.plot(data.x1,y_pred,color='r')\n"
      ]
    },
    {
      "cell_type": "code",
      "execution_count": 59,
      "metadata": {
        "colab": {
          "base_uri": "https://localhost:8080/"
        },
        "id": "aB2QuEWXmSLw",
        "outputId": "995ec5f2-83cf-42a7-d374-9083911fd3e0"
      },
      "outputs": [
        {
          "output_type": "stream",
          "name": "stdout",
          "text": [
            "0.9955511071409427\n"
          ]
        },
        {
          "output_type": "stream",
          "name": "stderr",
          "text": [
            "/usr/local/lib/python3.7/dist-packages/sklearn/utils/validation.py:598: FutureWarning: np.matrix usage is deprecated in 1.0 and will raise a TypeError in 1.2. Please convert to a numpy array with np.asarray. For more information see: https://numpy.org/doc/stable/reference/generated/numpy.matrix.html\n",
            "  FutureWarning,\n",
            "/usr/local/lib/python3.7/dist-packages/sklearn/utils/validation.py:598: FutureWarning: np.matrix usage is deprecated in 1.0 and will raise a TypeError in 1.2. Please convert to a numpy array with np.asarray. For more information see: https://numpy.org/doc/stable/reference/generated/numpy.matrix.html\n",
            "  FutureWarning,\n"
          ]
        }
      ],
      "source": [
        "print(r2_score(y,y_pred))"
      ]
    },
    {
      "cell_type": "markdown",
      "metadata": {
        "id": "o2hzHAZgmSLx"
      },
      "source": [
        "## RMSProp"
      ]
    },
    {
      "cell_type": "markdown",
      "metadata": {
        "id": "Um9EMlOTmSLz"
      },
      "source": [
        "### Update the previos implementation to be RMSProp.\n",
        "#### Compare your results with Adagrad results."
      ]
    },
    {
      "cell_type": "code",
      "execution_count": null,
      "metadata": {
        "id": "mMeRMzJKmSL0"
      },
      "outputs": [],
      "source": [
        ""
      ]
    },
    {
      "cell_type": "markdown",
      "metadata": {
        "id": "7LQ4lrADmSL1"
      },
      "source": [
        "![image.png](attachment:image.png)"
      ]
    },
    {
      "cell_type": "code",
      "execution_count": null,
      "metadata": {
        "id": "6pksya0pmSL1"
      },
      "outputs": [],
      "source": [
        "\n",
        "\n",
        "def RMSPROP(X,Y,LearnRate,beta,epochs,eps):  \n",
        "    n = X.shape[1]\n",
        "    costs =  []\n",
        "    theta_list=[]\n",
        "    hypothesis = []\n",
        "    VT = np.zeros((n,1))\n",
        "    Theta = np.matrix(np.zeros((n,1)))\n",
        "\n",
        "    for i in range ( epochs ):\n",
        "        theta_list.append(Theta)\n",
        "        # prediction \n",
        "        pred =  X @ Theta\n",
        "        hypothesis.append(pred)\n",
        "        \n",
        "        # compute erorr\n",
        "        \n",
        "        error = pred - Y\n",
        "\n",
        "        # compute cost function \n",
        "        J = (error.T @ error)/(2*len(x))\n",
        "\n",
        "#         J=compute_cost(X,Y,Theta)\n",
        "        costs.append( J[0,0] )\n",
        "\n",
        "        #compute gradient\n",
        "\n",
        "        gradient = (X.T @ error)/len(X)\n",
        "        \n",
        "        VT = (beta * VT) + (1-beta) * np.power(gradient,2)\n",
        "        #update theta\n",
        "\n",
        "\n",
        "\n",
        "        Theta = Theta - ((LearnRate * gradient)/((np.sqrt(VT))+ eps))\n",
        "\n",
        "        if i>0:\n",
        "            if(np.abs(costs[i-1] - costs[i]) < 0.0001):\n",
        "                break\n",
        "    \n",
        "    \n",
        "    return Theta , theta_list , costs , hypothesis \n",
        "        \n",
        "        \n",
        "    \n"
      ]
    },
    {
      "cell_type": "code",
      "execution_count": null,
      "metadata": {
        "id": "4lvONLfJmSL2"
      },
      "outputs": [],
      "source": [
        "eps = 1e-8\n",
        "LearnRate = 0.1\n",
        "beta = 0.5\n",
        "iters = 1000\n",
        "\n",
        "R_Theta , R_theta_list , R_costs , R_hypothesis =RMSPROP(x,y,LearnRate,beta , iters,eps)"
      ]
    },
    {
      "cell_type": "code",
      "execution_count": null,
      "metadata": {
        "colab": {
          "base_uri": "https://localhost:8080/"
        },
        "id": "m_5H273hmSL2",
        "outputId": "cdae441f-6a31-4170-b210-9197cb2190a2"
      },
      "outputs": [
        {
          "output_type": "stream",
          "name": "stdout",
          "text": [
            "[[ 1.84042909]\n",
            " [-1.04166379]]\n"
          ]
        },
        {
          "output_type": "execute_result",
          "data": {
            "text/plain": [
              "0.1962175857549673"
            ]
          },
          "metadata": {},
          "execution_count": 27
        }
      ],
      "source": [
        "print(R_Theta)\n",
        "R_costs[-1]"
      ]
    },
    {
      "cell_type": "code",
      "execution_count": null,
      "metadata": {
        "id": "PlalTxrKmSL3"
      },
      "outputs": [],
      "source": [
        "R_theta_list=np.array(R_theta_list)\n",
        "theta_00= R_theta_list[: , 0].reshape(-1,1)\n",
        "theta_11 = R_theta_list[: , 1].reshape(-1,1)"
      ]
    },
    {
      "cell_type": "code",
      "execution_count": null,
      "metadata": {
        "colab": {
          "base_uri": "https://localhost:8080/",
          "height": 279
        },
        "id": "UI0c7gzrmSL3",
        "outputId": "599acb4f-bc31-4729-919d-99012864ffc2"
      },
      "outputs": [
        {
          "output_type": "display_data",
          "data": {
            "text/plain": [
              "<Figure size 432x288 with 1 Axes>"
            ],
            "image/png": "[encoded data removed]"
          },
          "metadata": {
            "needs_background": "light"
          }
        }
      ],
      "source": [
        "\n",
        "#Plot epochs against Loss\n",
        "plt.plot(R_costs, 'b')\n",
        "plt.xlabel('Iteration')\n",
        "plt.ylabel('Loss')\n",
        "plt.show()"
      ]
    },
    {
      "cell_type": "code",
      "execution_count": null,
      "metadata": {
        "colab": {
          "base_uri": "https://localhost:8080/"
        },
        "id": "TwAkAge6mSL4",
        "outputId": "23275739-64d3-458a-9f24-20dc9f4b7be5"
      },
      "outputs": [
        {
          "output_type": "execute_result",
          "data": {
            "text/plain": [
              "(115, 1)"
            ]
          },
          "metadata": {},
          "execution_count": 30
        }
      ],
      "source": [
        "theta_00.shape\n"
      ]
    },
    {
      "cell_type": "code",
      "execution_count": null,
      "metadata": {
        "colab": {
          "base_uri": "https://localhost:8080/",
          "height": 297
        },
        "id": "GDYXYuC5mSL4",
        "outputId": "3a6848b5-64c3-42af-d509-60b2e4af663b"
      },
      "outputs": [
        {
          "output_type": "execute_result",
          "data": {
            "text/plain": [
              "Text(0, 0.5, 'Cost')"
            ]
          },
          "metadata": {},
          "execution_count": 31
        },
        {
          "output_type": "display_data",
          "data": {
            "text/plain": [
              "<Figure size 432x288 with 1 Axes>"
            ],
            "image/png": "[encoded data removed]"
          },
          "metadata": {
            "needs_background": "light"
          }
        }
      ],
      "source": [
        "fig,ax = plt.subplots()\n",
        "ax.plot(theta_00, R_costs ,'r*-')\n",
        "\n",
        "ax.set_xlabel('theta 0')\n",
        "ax.set_ylabel('Cost')\n",
        "\n"
      ]
    },
    {
      "cell_type": "code",
      "execution_count": null,
      "metadata": {
        "colab": {
          "base_uri": "https://localhost:8080/",
          "height": 297
        },
        "id": "wulrXeUhmSL4",
        "outputId": "f342c2d2-c902-486d-8450-b76080a3bc95"
      },
      "outputs": [
        {
          "output_type": "execute_result",
          "data": {
            "text/plain": [
              "Text(0, 0.5, 'Cost')"
            ]
          },
          "metadata": {},
          "execution_count": 32
        },
        {
          "output_type": "display_data",
          "data": {
            "text/plain": [
              "<Figure size 432x288 with 1 Axes>"
            ],
            "image/png": "[encoded data removed]"
          },
          "metadata": {
            "needs_background": "light"
          }
        }
      ],
      "source": [
        "\n",
        "\n",
        "fig,ax = plt.subplots()\n",
        "ax.plot(theta_11, R_costs ,'r*-')\n",
        "\n",
        "ax.set_xlabel('theta 0')\n",
        "ax.set_ylabel('Cost')"
      ]
    },
    {
      "cell_type": "code",
      "execution_count": null,
      "metadata": {
        "colab": {
          "base_uri": "https://localhost:8080/",
          "height": 265
        },
        "id": "nToUpJ98mSL4",
        "outputId": "fe41f871-86ab-41f6-b951-c5323b1f46ce"
      },
      "outputs": [
        {
          "output_type": "display_data",
          "data": {
            "text/plain": [
              "<Figure size 432x288 with 1 Axes>"
            ],
            "image/png": "[encoded data removed]"
          },
          "metadata": {
            "needs_background": "light"
          }
        }
      ],
      "source": [
        "#make prediction \n",
        "y_pred1=x*R_Theta\n",
        "\n",
        "plt.scatter(data.x1,data.y)\n",
        "plt.plot(data.x1,y_pred1,color='r')\n",
        "plt.show()"
      ]
    },
    {
      "cell_type": "code",
      "execution_count": null,
      "metadata": {
        "colab": {
          "base_uri": "https://localhost:8080/",
          "height": 265
        },
        "id": "NfUvfKzNmSL5",
        "outputId": "d7992d55-5374-4fb5-b6c3-865d05c4bf03"
      },
      "outputs": [
        {
          "output_type": "display_data",
          "data": {
            "text/plain": [
              "<Figure size 432x288 with 1 Axes>"
            ],
            "image/png": "[encoded data removed]"
          },
          "metadata": {
            "needs_background": "light"
          }
        }
      ],
      "source": [
        "\n",
        "\n",
        "plt.scatter(data.x1,data.y)\n",
        "\n",
        "for i in R_theta_list:\n",
        "  y_pred1 = x*i\n",
        "  plt.plot(data.x1,y_pred1,color='r')\n"
      ]
    },
    {
      "cell_type": "code",
      "execution_count": null,
      "metadata": {
        "colab": {
          "base_uri": "https://localhost:8080/"
        },
        "id": "Jl7IyGe6mSL5",
        "outputId": "8145f61d-306c-4ba7-949e-ebbe1bfd8108"
      },
      "outputs": [
        {
          "output_type": "stream",
          "name": "stdout",
          "text": [
            "0.9886886332917725\n"
          ]
        },
        {
          "output_type": "stream",
          "name": "stderr",
          "text": [
            "/usr/local/lib/python3.7/dist-packages/sklearn/utils/validation.py:598: FutureWarning: np.matrix usage is deprecated in 1.0 and will raise a TypeError in 1.2. Please convert to a numpy array with np.asarray. For more information see: https://numpy.org/doc/stable/reference/generated/numpy.matrix.html\n",
            "  FutureWarning,\n",
            "/usr/local/lib/python3.7/dist-packages/sklearn/utils/validation.py:598: FutureWarning: np.matrix usage is deprecated in 1.0 and will raise a TypeError in 1.2. Please convert to a numpy array with np.asarray. For more information see: https://numpy.org/doc/stable/reference/generated/numpy.matrix.html\n",
            "  FutureWarning,\n"
          ]
        }
      ],
      "source": [
        "print(r2_score(y,y_pred1))"
      ]
    },
    {
      "cell_type": "markdown",
      "metadata": {
        "id": "RrbgDBJWmSL5"
      },
      "source": [
        "## Adam"
      ]
    },
    {
      "cell_type": "markdown",
      "metadata": {
        "id": "7kS0Vvj9mSL6"
      },
      "source": [
        "### Update the previos implementation to be Adam.\n",
        "#### Compare your results with Adagrad and RMSProp results."
      ]
    },
    {
      "cell_type": "markdown",
      "metadata": {
        "id": "nv9nfJ1emSL6"
      },
      "source": [
        "![image-4.png](attachment:image-4.png)"
      ]
    },
    {
      "cell_type": "code",
      "execution_count": null,
      "metadata": {
        "id": "36Q1OkF3mSL6"
      },
      "outputs": [],
      "source": [
        "\n",
        "\n",
        "def ADAM(X,Y,LearnRate,B1,B2,epochs,eps):  \n",
        "    n = X.shape[1]\n",
        "\n",
        "    costs =  []\n",
        "    theta_list=[]\n",
        "    hypothesis = []\n",
        "    VT = np.zeros((n,1))\n",
        "    Theta = np.matrix(np.zeros((n,1)))\n",
        "    mt=np.zeros((n,1))\n",
        "\n",
        "    for i in range (epochs):\n",
        "        theta_list.append(Theta)\n",
        "        # prediction \n",
        "        pred =  X @ Theta\n",
        "        hypothesis.append(pred)\n",
        "        \n",
        "        # compute erorr\n",
        "        \n",
        "        error = pred - Y\n",
        "\n",
        "        # compute cost function \n",
        "        J = (error.T @ error)/(2*len(x))\n",
        "\n",
        "#         J=compute_cost(X,Y,Theta)\n",
        "        costs.append( J[0,0] )\n",
        "\n",
        "        #compute gradient\n",
        "\n",
        "        gradient = (X.T @ error)/len(X)\n",
        "#         bias correction\n",
        "        \n",
        "        mt = (B1 * mt) + (1-B1) * gradient\n",
        "        VT = (B2 * VT) + (1-B2) * np.power(gradient,2)\n",
        "    \n",
        "        mt_hat = mt/(1-np.power(B1,i+1))\n",
        "        vt_hat = VT/(1-np.power(B2,i+1))     \n",
        "#         mt_hat = mt/(1-(B1))\n",
        "#         vt_hat = VT/(1-(B2))\n",
        "        \n",
        "    \n",
        "    #Update thetas\n",
        "\n",
        "\n",
        "        Theta = Theta - ((LearnRate * mt_hat)/((np.sqrt(vt_hat))+ eps))\n",
        "\n",
        "        if i>0:\n",
        "            if(np.abs(costs[i-1] - costs[i]) < 0.001):\n",
        "                break\n",
        "            elif ( np.linalg.norm(gradient)  < 0.001):\n",
        "                break\n",
        "            \n",
        "                \n",
        "    \n",
        "    \n",
        "    return Theta , theta_list , costs , hypothesis \n",
        "        \n",
        "        \n",
        "    \n"
      ]
    },
    {
      "cell_type": "code",
      "execution_count": null,
      "metadata": {
        "id": "gZ2MRP7mmSL6"
      },
      "outputs": [],
      "source": [
        "Eps = 1e-9\n",
        "learnRate = 0.1\n",
        "B1 = 0.4\n",
        "B2 = 0.12\n",
        "\n",
        "epochs = 500\n"
      ]
    },
    {
      "cell_type": "code",
      "execution_count": null,
      "metadata": {
        "id": "ehdfvTZ-mSL7",
        "outputId": "5c41c4b1-61ad-4ff1-f87c-4047bd5bc760",
        "colab": {
          "base_uri": "https://localhost:8080/",
          "height": 205
        }
      },
      "outputs": [
        {
          "output_type": "error",
          "ename": "NameError",
          "evalue": "ignored",
          "traceback": [
            "\u001b[0;31m---------------------------------------------------------------------------\u001b[0m",
            "\u001b[0;31mNameError\u001b[0m                                 Traceback (most recent call last)",
            "\u001b[0;32m<ipython-input-3-3f1fc446c458>\u001b[0m in \u001b[0;36m<module>\u001b[0;34m()\u001b[0m\n\u001b[1;32m      1\u001b[0m \u001b[0;34m\u001b[0m\u001b[0m\n\u001b[1;32m      2\u001b[0m \u001b[0;34m\u001b[0m\u001b[0m\n\u001b[0;32m----> 3\u001b[0;31m \u001b[0mA_Theta\u001b[0m \u001b[0;34m,\u001b[0m \u001b[0mA_theta_list\u001b[0m \u001b[0;34m,\u001b[0m \u001b[0mA_costs\u001b[0m \u001b[0;34m,\u001b[0m \u001b[0mA_hypothesis\u001b[0m  \u001b[0;34m=\u001b[0m \u001b[0mADAM\u001b[0m\u001b[0;34m(\u001b[0m\u001b[0mx\u001b[0m\u001b[0;34m,\u001b[0m \u001b[0my\u001b[0m\u001b[0;34m,\u001b[0m \u001b[0mlearnRate\u001b[0m\u001b[0;34m,\u001b[0m \u001b[0mB1\u001b[0m\u001b[0;34m,\u001b[0m \u001b[0mB1\u001b[0m\u001b[0;34m,\u001b[0m  \u001b[0mepochs\u001b[0m\u001b[0;34m,\u001b[0m\u001b[0mEps\u001b[0m\u001b[0;34m)\u001b[0m\u001b[0;34m\u001b[0m\u001b[0;34m\u001b[0m\u001b[0m\n\u001b[0m",
            "\u001b[0;31mNameError\u001b[0m: name 'x' is not defined"
          ]
        }
      ],
      "source": [
        "\n",
        "\n",
        "A_Theta , A_theta_list , A_costs , A_hypothesis  = ADAM(x, y, learnRate, B1, B1,  epochs,Eps)"
      ]
    },
    {
      "cell_type": "code",
      "execution_count": null,
      "metadata": {
        "id": "Z22n4EjpmSL7"
      },
      "outputs": [],
      "source": [
        "print(A_Theta)"
      ]
    },
    {
      "cell_type": "code",
      "execution_count": null,
      "metadata": {
        "id": "XV2cOThQmSL7"
      },
      "outputs": [],
      "source": [
        "len(A_costs)"
      ]
    },
    {
      "cell_type": "code",
      "execution_count": null,
      "metadata": {
        "id": "5yJF1h3pmSL7"
      },
      "outputs": [],
      "source": [
        "A_costs[-1]"
      ]
    },
    {
      "cell_type": "code",
      "execution_count": null,
      "metadata": {
        "id": "r15naF0omSL8"
      },
      "outputs": [],
      "source": [
        "#Plot epochs against Loss\n",
        "plt.plot(A_costs, 'b')\n",
        "plt.xlabel('Iteration')\n",
        "plt.ylabel('Loss')\n",
        "plt.show()"
      ]
    },
    {
      "cell_type": "code",
      "execution_count": null,
      "metadata": {
        "id": "UIAcMKdxmSL8"
      },
      "outputs": [],
      "source": [
        "A_theta_list=np.array(A_theta_list)\n",
        "theta0= A_theta_list[: , 0].reshape(-1,1)\n",
        "theta1 = A_theta_list[: , 1].reshape(-1,1)\n",
        "\n"
      ]
    },
    {
      "cell_type": "code",
      "execution_count": null,
      "metadata": {
        "id": "6zhtACcsmSL8"
      },
      "outputs": [],
      "source": [
        "fig,ax = plt.subplots()\n",
        "ax.plot(theta0, A_costs ,'r')\n",
        "\n",
        "ax.set_xlabel('theta 0')\n",
        "ax.set_ylabel('Cost')\n",
        "\n"
      ]
    },
    {
      "cell_type": "code",
      "execution_count": null,
      "metadata": {
        "id": "CUxkUy82mSL9"
      },
      "outputs": [],
      "source": [
        "\n",
        "\n",
        "fig,ax = plt.subplots()\n",
        "ax.plot(theta1, A_costs ,'r')\n",
        "\n",
        "ax.set_xlabel('theta 1')\n",
        "ax.set_ylabel('Cost')"
      ]
    },
    {
      "cell_type": "code",
      "execution_count": null,
      "metadata": {
        "id": "QbI9k6M4mSL9"
      },
      "outputs": [],
      "source": [
        "#make prediction \n",
        "ypred=x*A_Theta\n",
        "plt.scatter(data.x1,data.y)\n",
        "plt.plot(data.x1,ypred,color='r')\n",
        "plt.show()\n",
        "\n"
      ]
    },
    {
      "cell_type": "code",
      "execution_count": null,
      "metadata": {
        "id": "3A9AHKA9mSL9"
      },
      "outputs": [],
      "source": [
        "plt.scatter(data.x1,data.y)\n",
        "\n",
        "for i in A_theta_list:\n",
        "  ypred = x*i\n",
        "  plt.plot(data.x1,ypred,color='b')\n"
      ]
    },
    {
      "cell_type": "code",
      "execution_count": null,
      "metadata": {
        "id": "IAQ14AGfmSL-"
      },
      "outputs": [],
      "source": [
        "\n",
        "print(r2_score(y,ypred))"
      ]
    },
    {
      "cell_type": "code",
      "execution_count": null,
      "metadata": {
        "id": "N133ghEBmSL-"
      },
      "outputs": [],
      "source": [
        ""
      ]
    },
    {
      "cell_type": "markdown",
      "metadata": {
        "id": "4_fYE0sVmSL-"
      },
      "source": [
        "## Congratulations \n",
        "![image.png](attachment:image.png)"
      ]
    },
    {
      "cell_type": "code",
      "execution_count": null,
      "metadata": {
        "id": "iV4tb018mSL-"
      },
      "outputs": [],
      "source": [
        ""
      ]
    },
    {
      "cell_type": "code",
      "execution_count": null,
      "metadata": {
        "id": "F2yJlibDmSL-"
      },
      "outputs": [],
      "source": [
        "\n",
        "\n",
        "def ADAM(X,Y,LearnRate,B1,B2,epochs,eps):  \n",
        "    n = X.shape[1]\n",
        "\n",
        "    costs =  []\n",
        "    theta_list=[]\n",
        "    hypothesis = []\n",
        "    VT = np.zeros((n,1))\n",
        "    Theta = np.matrix(np.zeros((n,1)))\n",
        "    mt=np.zeros((n,1))\n",
        "\n",
        "    for i in range (epochs):\n",
        "        theta_list.append(Theta)\n",
        "        # prediction \n",
        "        pred =  X @ Theta\n",
        "        hypothesis.append(pred)\n",
        "        \n",
        "        # compute erorr\n",
        "        \n",
        "        error = pred - Y\n",
        "\n",
        "        # compute cost function \n",
        "        J = (error.T @ error)/(2*len(x))\n",
        "\n",
        "#         J=compute_cost(X,Y,Theta)\n",
        "        costs.append( J[0,0] )\n",
        "\n",
        "        #compute gradient\n",
        "\n",
        "        gradient = (X.T @ error)/len(X)\n",
        "#         bias correction\n",
        "        \n",
        "        mt = (B1 * mt) + (1-B1) * gradient\n",
        "        VT = (B2 * VT) + (1-B2) * np.power(gradient,2)\n",
        "    \n",
        "        mt_hat = mt/(1-np.power(B1,i+1))\n",
        "        vt_hat = VT/(1-np.power(B2,i+1))     \n",
        "#         mt_hat = mt/(1-(B1))\n",
        "#         vt_hat = VT/(1-(B2))\n",
        "        \n",
        "    \n",
        "    #Update thetas\n",
        "\n",
        "\n",
        "        Theta = Theta - ((LearnRate * mt_hat)/((np.sqrt(vt_hat))+ eps))\n",
        "\n",
        "        if i>0:\n",
        "            if(np.abs(costs[i-1] - costs[i]) < 0.001):\n",
        "                break\n",
        "                \n",
        "    \n",
        "    \n",
        "    return Theta , theta_list , costs , hypothesis \n",
        "        \n",
        "        \n",
        "    \n"
      ]
    }
  ],
  "metadata": {
    "kernelspec": {
      "display_name": "Python 3",
      "language": "python",
      "name": "python3"
    },
    "language_info": {
      "codemirror_mode": {
        "name": "ipython",
        "version": 3
      },
      "file_extension": ".py",
      "mimetype": "text/x-python",
      "name": "python",
      "nbconvert_exporter": "python",
      "pygments_lexer": "ipython3",
      "version": "3.8.3"
    },
    "colab": {
      "name": "Adagrad-RMSProp-Adam ",
      "provenance": [],
      "collapsed_sections": [
        "Um9EMlOTmSLz"
      ]
    }
  },
  "nbformat": 4,
  "nbformat_minor": 0
}