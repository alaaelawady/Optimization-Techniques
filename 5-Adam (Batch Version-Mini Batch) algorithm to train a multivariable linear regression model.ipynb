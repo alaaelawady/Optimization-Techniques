{
  "cells": [
    {
      "cell_type": "markdown",
      "id": "32b92576",
      "metadata": {
        "id": "32b92576"
      },
      "source": [
        "\n",
        "1. Implement the Adam (Batch Version) algorithm to train a multivariable linear regression model.\n",
        "2. Update implementation to work for mini-batch.\n"
      ]
    },
    {
      "cell_type": "markdown",
      "source": [
        "# Importing data and take a vision from it "
      ],
      "metadata": {
        "id": "T3zBTFVaI0g2"
      },
      "id": "T3zBTFVaI0g2"
    },
    {
      "cell_type": "code",
      "execution_count": null,
      "id": "0cbf0144",
      "metadata": {
        "id": "0cbf0144",
        "colab": {
          "base_uri": "https://localhost:8080/",
          "height": 206
        },
        "outputId": "8eaa05b4-7fd9-44c3-aae8-3ca7366e3941"
      },
      "outputs": [
        {
          "output_type": "execute_result",
          "data": {
            "text/plain": [
              "   x1  x2   x3    y\n",
              "0  73  80   75  152\n",
              "1  93  88   93  185\n",
              "2  89  91   90  180\n",
              "3  96  98  100  196\n",
              "4  73  66   70  142"
            ],
            "text/html": [
              "\n",
              "  <div id=\"df-7768156e-6223-43c8-aca3-ebe3f0078b61\">\n",
              "    <div class=\"colab-df-container\">\n",
              "      <div>\n",
              "<style scoped>\n",
              "    .dataframe tbody tr th:only-of-type {\n",
              "        vertical-align: middle;\n",
              "    }\n",
              "\n",
              "    .dataframe tbody tr th {\n",
              "        vertical-align: top;\n",
              "    }\n",
              "\n",
              "    .dataframe thead th {\n",
              "        text-align: right;\n",
              "    }\n",
              "</style>\n",
              "<table border=\"1\" class=\"dataframe\">\n",
              "  <thead>\n",
              "    <tr style=\"text-align: right;\">\n",
              "      <th></th>\n",
              "      <th>x1</th>\n",
              "      <th>x2</th>\n",
              "      <th>x3</th>\n",
              "      <th>y</th>\n",
              "    </tr>\n",
              "  </thead>\n",
              "  <tbody>\n",
              "    <tr>\n",
              "      <th>0</th>\n",
              "      <td>73</td>\n",
              "      <td>80</td>\n",
              "      <td>75</td>\n",
              "      <td>152</td>\n",
              "    </tr>\n",
              "    <tr>\n",
              "      <th>1</th>\n",
              "      <td>93</td>\n",
              "      <td>88</td>\n",
              "      <td>93</td>\n",
              "      <td>185</td>\n",
              "    </tr>\n",
              "    <tr>\n",
              "      <th>2</th>\n",
              "      <td>89</td>\n",
              "      <td>91</td>\n",
              "      <td>90</td>\n",
              "      <td>180</td>\n",
              "    </tr>\n",
              "    <tr>\n",
              "      <th>3</th>\n",
              "      <td>96</td>\n",
              "      <td>98</td>\n",
              "      <td>100</td>\n",
              "      <td>196</td>\n",
              "    </tr>\n",
              "    <tr>\n",
              "      <th>4</th>\n",
              "      <td>73</td>\n",
              "      <td>66</td>\n",
              "      <td>70</td>\n",
              "      <td>142</td>\n",
              "    </tr>\n",
              "  </tbody>\n",
              "</table>\n",
              "</div>\n",
              "      <button class=\"colab-df-convert\" onclick=\"convertToInteractive('df-7768156e-6223-43c8-aca3-ebe3f0078b61')\"\n",
              "              title=\"Convert this dataframe to an interactive table.\"\n",
              "              style=\"display:none;\">\n",
              "        \n",
              "  <svg xmlns=\"http://www.w3.org/2000/svg\" height=\"24px\"viewBox=\"0 0 24 24\"\n",
              "       width=\"24px\">\n",
              "    <path d=\"M0 0h24v24H0V0z\" fill=\"none\"/>\n",
              "    <path d=\"M18.56 5.44l.94 2.06.94-2.06 2.06-.94-2.06-.94-.94-2.06-.94 2.06-2.06.94zm-11 1L8.5 8.5l.94-2.06 2.06-.94-2.06-.94L8.5 2.5l-.94 2.06-2.06.94zm10 10l.94 2.06.94-2.06 2.06-.94-2.06-.94-.94-2.06-.94 2.06-2.06.94z\"/><path d=\"M17.41 7.96l-1.37-1.37c-.4-.4-.92-.59-1.43-.59-.52 0-1.04.2-1.43.59L10.3 9.45l-7.72 7.72c-.78.78-.78 2.05 0 2.83L4 21.41c.39.39.9.59 1.41.59.51 0 1.02-.2 1.41-.59l7.78-7.78 2.81-2.81c.8-.78.8-2.07 0-2.86zM5.41 20L4 18.59l7.72-7.72 1.47 1.35L5.41 20z\"/>\n",
              "  </svg>\n",
              "      </button>\n",
              "      \n",
              "  <style>\n",
              "    .colab-df-container {\n",
              "      display:flex;\n",
              "      flex-wrap:wrap;\n",
              "      gap: 12px;\n",
              "    }\n",
              "\n",
              "    .colab-df-convert {\n",
              "      background-color: #E8F0FE;\n",
              "      border: none;\n",
              "      border-radius: 50%;\n",
              "      cursor: pointer;\n",
              "      display: none;\n",
              "      fill: #1967D2;\n",
              "      height: 32px;\n",
              "      padding: 0 0 0 0;\n",
              "      width: 32px;\n",
              "    }\n",
              "\n",
              "    .colab-df-convert:hover {\n",
              "      background-color: #E2EBFA;\n",
              "      box-shadow: 0px 1px 2px rgba(60, 64, 67, 0.3), 0px 1px 3px 1px rgba(60, 64, 67, 0.15);\n",
              "      fill: #174EA6;\n",
              "    }\n",
              "\n",
              "    [theme=dark] .colab-df-convert {\n",
              "      background-color: #3B4455;\n",
              "      fill: #D2E3FC;\n",
              "    }\n",
              "\n",
              "    [theme=dark] .colab-df-convert:hover {\n",
              "      background-color: #434B5C;\n",
              "      box-shadow: 0px 1px 3px 1px rgba(0, 0, 0, 0.15);\n",
              "      filter: drop-shadow(0px 1px 2px rgba(0, 0, 0, 0.3));\n",
              "      fill: #FFFFFF;\n",
              "    }\n",
              "  </style>\n",
              "\n",
              "      <script>\n",
              "        const buttonEl =\n",
              "          document.querySelector('#df-7768156e-6223-43c8-aca3-ebe3f0078b61 button.colab-df-convert');\n",
              "        buttonEl.style.display =\n",
              "          google.colab.kernel.accessAllowed ? 'block' : 'none';\n",
              "\n",
              "        async function convertToInteractive(key) {\n",
              "          const element = document.querySelector('#df-7768156e-6223-43c8-aca3-ebe3f0078b61');\n",
              "          const dataTable =\n",
              "            await google.colab.kernel.invokeFunction('convertToInteractive',\n",
              "                                                     [key], {});\n",
              "          if (!dataTable) return;\n",
              "\n",
              "          const docLinkHtml = 'Like what you see? Visit the ' +\n",
              "            '<a target=\"_blank\" href=https://colab.research.google.com/notebooks/data_table.ipynb>data table notebook</a>'\n",
              "            + ' to learn more about interactive tables.';\n",
              "          element.innerHTML = '';\n",
              "          dataTable['output_type'] = 'display_data';\n",
              "          await google.colab.output.renderOutput(dataTable, element);\n",
              "          const docLink = document.createElement('div');\n",
              "          docLink.innerHTML = docLinkHtml;\n",
              "          element.appendChild(docLink);\n",
              "        }\n",
              "      </script>\n",
              "    </div>\n",
              "  </div>\n",
              "  "
            ]
          },
          "metadata": {},
          "execution_count": 88
        }
      ],
      "source": [
        "import numpy as np\n",
        "import pandas as pd\n",
        "import matplotlib.pyplot as plt\n",
        "path = '/content/sample_data/MultipleLR.csv - MultipleLR.csv.csv'\n",
        "data = pd.read_csv(path, header=None, names=['x1', 'x2','x3','y'])\n",
        "data.head()"
      ]
    },
    {
      "cell_type": "code",
      "source": [
        "data.shape"
      ],
      "metadata": {
        "colab": {
          "base_uri": "https://localhost:8080/"
        },
        "id": "8A3bVUmSJALw",
        "outputId": "b8afcf13-a7ce-4c6d-d468-d6b2458a297c"
      },
      "id": "8A3bVUmSJALw",
      "execution_count": null,
      "outputs": [
        {
          "output_type": "execute_result",
          "data": {
            "text/plain": [
              "(25, 4)"
            ]
          },
          "metadata": {},
          "execution_count": 89
        }
      ]
    },
    {
      "cell_type": "code",
      "source": [
        "cols = data.shape[1]   # number of features\n",
        "datapoints=data.shape[0] \n",
        "print(datapoints)"
      ],
      "metadata": {
        "colab": {
          "base_uri": "https://localhost:8080/"
        },
        "id": "SqUHgWBbJDMb",
        "outputId": "5417bce6-0f50-42a7-f739-ee7e108af7e6"
      },
      "id": "SqUHgWBbJDMb",
      "execution_count": null,
      "outputs": [
        {
          "output_type": "stream",
          "name": "stdout",
          "text": [
            "25\n"
          ]
        }
      ]
    },
    {
      "cell_type": "code",
      "source": [
        "cols = data.shape[1]   # number of features\n",
        "# save copy from data \n",
        "# x_data2 = data.iloc[: , 0:cols-1]\n",
        "print(cols)\n",
        "X = data.iloc[: , 0:cols-1]\n",
        "Y = data.iloc[: , cols-1:cols]\n",
        "X.insert(0, 'Ones', 1)\n",
        "X=  np.matrix(X.values)\n",
        "Y = np.matrix (Y.values)\n"
      ],
      "metadata": {
        "colab": {
          "base_uri": "https://localhost:8080/"
        },
        "id": "CJ_WZ9y0JNAu",
        "outputId": "7641959a-e90b-4ca0-b561-18531b5c4e5d"
      },
      "id": "CJ_WZ9y0JNAu",
      "execution_count": null,
      "outputs": [
        {
          "output_type": "stream",
          "name": "stdout",
          "text": [
            "4\n"
          ]
        }
      ]
    },
    {
      "cell_type": "markdown",
      "source": [
        "### Implement the Adam (Batch Version) algorithm to train a multivariable linear regression model."
      ],
      "metadata": {
        "id": "tYvMEvH9Ilof"
      },
      "id": "tYvMEvH9Ilof"
    },
    {
      "cell_type": "code",
      "source": [
        "\n",
        "def Batch_MultiVarAdam(data,theta, B1,B2,eps,learning_rate,iterations ):\n",
        "    '''\n",
        "    X    = Matrix of X without added bias units\n",
        "    y    = Vector of Y\n",
        "    theta=Vector of thetas np.random.randn(j,1)\n",
        "    learning_rate \n",
        "    iterations = no of iterations\n",
        "    \n",
        "    Returns the final theta vector and array of cost history over no of iterations\n",
        "    '''\n",
        "    data=data.to_numpy()\n",
        "    np.random.shuffle(data)\n",
        "    X = data[: , 0:cols-1]\n",
        "    Y = data[: , cols-1:cols]\n",
        "    tmp=np.ones(X.shape[0])\n",
        "    tmp=tmp.reshape(-1,1)\n",
        "    X=np.concatenate((tmp,X),axis=1)\n",
        "    n = X.shape[1]\n",
        "    hypothesis = []\n",
        "    VT = np.zeros((n,1))\n",
        "    mt=np.zeros((n,1))\n",
        "    m = len(Y)\n",
        "    cost_history =[]\n",
        "    list_theta=[]\n",
        "    # theta_all=np.array(theta.reshape(1,-1))\n",
        "    # theta_all\n",
        "    \n",
        "    for i in range(iterations):\n",
        "\n",
        "\n",
        "      list_theta.append(theta)\n",
        "        # prediction \n",
        "      pred =  X @theta.T\n",
        "\n",
        "      hypothesis.append(pred)\n",
        "        \n",
        "        # compute erorr\n",
        "        \n",
        "      error = pred - Y\n",
        "\n",
        "        # compute cost function \n",
        "      J = (error.T @ error)/(2*len(X))\n",
        "\n",
        "#         J=compute_cost(X,Y,Theta)\n",
        "      cost_history.append( J[0,0] )\n",
        "\n",
        "        #compute gradient\n",
        "\n",
        "      gradient = (X.T @ error)/len(X)\n",
        "#         bias correction\n",
        "        \n",
        "      mt = (B1 * mt) + (1-B1) * gradient\n",
        "      VT = (B2 * VT) + (1-B2) * np.power(gradient,2)\n",
        "    \n",
        "      mt_hat = mt/(1-np.power(B1,i+1))\n",
        "      vt_hat = VT/(1-np.power(B2,i+1))     \n",
        "#         mt_hat = mt/(1-(B1))\n",
        "#         vt_hat = VT/(1-(B2))\n",
        "        \n",
        "    \n",
        "    #Update thetas\n",
        "\n",
        "\n",
        "      theta = theta - ((learning_rate * mt_hat)/((np.sqrt(vt_hat))+ eps)).T\n",
        "\n",
        "      if i>0:\n",
        "# Apply the stop conditions (gradient < 0.001 and cost convergence check). \n",
        "\n",
        "        if(np.abs(cost_history[i-1] - cost_history[i]) < 0.001):\n",
        "            break\n",
        "        elif ( np.linalg.norm(gradient)  < 0.001):\n",
        "            break\n",
        "            \n",
        "                \n",
        "        \n",
        "              \n",
        "    return theta ,np.array(list_theta).reshape(-1,4), np.array(cost_history).reshape(-1,1) , hypothesis"
      ],
      "metadata": {
        "id": "W9vL3hDAIphb"
      },
      "id": "W9vL3hDAIphb",
      "execution_count": null,
      "outputs": []
    },
    {
      "cell_type": "code",
      "source": [
        "tht = np.matrix(np.zeros(cols).reshape(1,cols))\n",
        "eps = 0.01\n",
        "# learnRate = 0.09\n",
        "learnRate =0.02\n",
        "\n",
        "B1 = 0.9\n",
        "B2 = 0.999\n",
        "iterations = 500\n",
        "Batch_theta ,Batch_list_theta ,Batch_Cost_List , Batch_hypothesis =Batch_MultiVarAdam(data,tht, B1,B2,eps,learnRate,iterations )"
      ],
      "metadata": {
        "id": "NzSPO4wJLapi"
      },
      "id": "NzSPO4wJLapi",
      "execution_count": null,
      "outputs": []
    },
    {
      "cell_type": "code",
      "source": [
        ""
      ],
      "metadata": {
        "id": "OpOTaH_qL8Kn"
      },
      "id": "OpOTaH_qL8Kn",
      "execution_count": null,
      "outputs": []
    },
    {
      "cell_type": "code",
      "source": [
        "# Cost_List\n",
        "Batch_Cost_List.shape"
      ],
      "metadata": {
        "outputId": "2150fcf5-854b-4538-e882-5dc6c0e2356c",
        "colab": {
          "base_uri": "https://localhost:8080/"
        },
        "id": "3Waq_yuPL8dr"
      },
      "execution_count": null,
      "outputs": [
        {
          "output_type": "execute_result",
          "data": {
            "text/plain": [
              "(130, 1)"
            ]
          },
          "metadata": {},
          "execution_count": 109
        }
      ],
      "id": "3Waq_yuPL8dr"
    },
    {
      "cell_type": "code",
      "source": [
        "Batch_theta.shape"
      ],
      "metadata": {
        "outputId": "2e3ebd4a-8a8b-47fa-c120-6e05b0022901",
        "colab": {
          "base_uri": "https://localhost:8080/"
        },
        "id": "OSFuiLY_L8ds"
      },
      "execution_count": null,
      "outputs": [
        {
          "output_type": "execute_result",
          "data": {
            "text/plain": [
              "(1, 4)"
            ]
          },
          "metadata": {},
          "execution_count": 110
        }
      ],
      "id": "OSFuiLY_L8ds"
    },
    {
      "cell_type": "markdown",
      "source": [
        "# 4. You must plot the following curves.\n",
        "    - Loss vs. iterations.\n",
        "    - Loss vs. each parameter (i.e. loss vs theta 0, loss vs. theta 1 .... etc.)."
      ],
      "metadata": {
        "id": "04h7lIZkUt-s"
      },
      "id": "04h7lIZkUt-s"
    },
    {
      "cell_type": "code",
      "source": [
        "# draw error graph\n",
        "\n",
        "fig, ax = plt.subplots(figsize=(5,5))\n",
        "ax.plot( Batch_Cost_List, 'r')\n",
        "ax.set_xlabel('Iterations')\n",
        "ax.set_ylabel('Cost')\n",
        "ax.set_title('Error vs. Training Epoch\\iteration With BatchGD.')\n"
      ],
      "metadata": {
        "outputId": "395a2145-5947-4b79-b98d-389ff59826b0",
        "colab": {
          "base_uri": "https://localhost:8080/",
          "height": 368
        },
        "id": "06ImK9ajL8ds"
      },
      "execution_count": null,
      "outputs": [
        {
          "output_type": "execute_result",
          "data": {
            "text/plain": [
              "Text(0.5, 1.0, 'Error vs. Training Epoch\\\\iteration With BatchGD.')"
            ]
          },
          "metadata": {},
          "execution_count": 111
        },
        {
          "output_type": "display_data",
          "data": {
            "text/plain": [
              "<Figure size 360x360 with 1 Axes>"
            ],
            "image/png": "[encoded data removed]"
          },
          "metadata": {
            "needs_background": "light"
          }
        }
      ],
      "id": "06ImK9ajL8ds"
    },
    {
      "cell_type": "code",
      "source": [
        "list_theta = np.array(Batch_list_theta)\n",
        "theta0= list_theta[: , 0].reshape(-1,1)\n",
        "theta1 = list_theta[: , 1].reshape(-1,1)\n",
        "theta2=list_theta[: , 2].reshape(-1,1)\n",
        "theta3=list_theta[: , 3].reshape(-1,1)\n"
      ],
      "metadata": {
        "id": "clk3UXc7L8dt"
      },
      "execution_count": null,
      "outputs": [],
      "id": "clk3UXc7L8dt"
    },
    {
      "cell_type": "code",
      "source": [
        ""
      ],
      "metadata": {
        "id": "WBLlf6btL8dt"
      },
      "execution_count": null,
      "outputs": [],
      "id": "WBLlf6btL8dt"
    },
    {
      "cell_type": "code",
      "source": [
        "fig,ax = plt.subplots()\n",
        "ax.plot(theta0, Batch_Cost_List ,'r')\n",
        "\n",
        "ax.set_xlabel('theta 0')\n",
        "ax.set_ylabel('Cost')\n",
        "\n"
      ],
      "metadata": {
        "colab": {
          "base_uri": "https://localhost:8080/",
          "height": 300
        },
        "outputId": "7477ae9d-55af-4864-c605-73b343dccf2f",
        "id": "Cg22fSwhL8dt"
      },
      "execution_count": null,
      "outputs": [
        {
          "output_type": "execute_result",
          "data": {
            "text/plain": [
              "Text(0, 0.5, 'Cost')"
            ]
          },
          "metadata": {},
          "execution_count": 113
        },
        {
          "output_type": "display_data",
          "data": {
            "text/plain": [
              "<Figure size 432x288 with 1 Axes>"
            ],
            "image/png": "[encoded data removed]"
          },
          "metadata": {
            "needs_background": "light"
          }
        }
      ],
      "id": "Cg22fSwhL8dt"
    },
    {
      "cell_type": "code",
      "source": [
        "fig,ax = plt.subplots()\n",
        "ax.plot(theta1, Batch_Cost_List ,'r')\n",
        "\n",
        "ax.set_xlabel('theta 1')\n",
        "ax.set_ylabel('Cost')\n",
        "\n"
      ],
      "metadata": {
        "colab": {
          "base_uri": "https://localhost:8080/",
          "height": 300
        },
        "outputId": "17e2e07f-d243-47e3-af58-49e5574dcc2a",
        "id": "EcQoGHitL8dt"
      },
      "execution_count": null,
      "outputs": [
        {
          "output_type": "execute_result",
          "data": {
            "text/plain": [
              "Text(0, 0.5, 'Cost')"
            ]
          },
          "metadata": {},
          "execution_count": 114
        },
        {
          "output_type": "display_data",
          "data": {
            "text/plain": [
              "<Figure size 432x288 with 1 Axes>"
            ],
            "image/png": "[encoded data removed]"
          },
          "metadata": {
            "needs_background": "light"
          }
        }
      ],
      "id": "EcQoGHitL8dt"
    },
    {
      "cell_type": "code",
      "source": [
        "fig,ax = plt.subplots()\n",
        "ax.plot(theta2, Batch_Cost_List ,'r' )\n",
        "\n",
        "ax.set_xlabel('theta 3')\n",
        "ax.set_ylabel('Cost')\n",
        "\n"
      ],
      "metadata": {
        "colab": {
          "base_uri": "https://localhost:8080/",
          "height": 300
        },
        "outputId": "2a624fc5-fff8-489b-ccb2-bbcc968d27be",
        "id": "uAKXSzjlL8dt"
      },
      "execution_count": null,
      "outputs": [
        {
          "output_type": "execute_result",
          "data": {
            "text/plain": [
              "Text(0, 0.5, 'Cost')"
            ]
          },
          "metadata": {},
          "execution_count": 115
        },
        {
          "output_type": "display_data",
          "data": {
            "text/plain": [
              "<Figure size 432x288 with 1 Axes>"
            ],
            "image/png": "[encoded data removed]"
          },
          "metadata": {
            "needs_background": "light"
          }
        }
      ],
      "id": "uAKXSzjlL8dt"
    },
    {
      "cell_type": "code",
      "source": [
        "fig,ax = plt.subplots()\n",
        "ax.plot(theta3, Batch_Cost_List ,'r' )\n",
        "\n",
        "ax.set_xlabel('theta 4')\n",
        "ax.set_ylabel('Cost')\n",
        "\n"
      ],
      "metadata": {
        "colab": {
          "base_uri": "https://localhost:8080/",
          "height": 300
        },
        "outputId": "f328557a-e50a-427e-c5a7-03cff91b0887",
        "id": "k93qYeLAL8du"
      },
      "execution_count": null,
      "outputs": [
        {
          "output_type": "execute_result",
          "data": {
            "text/plain": [
              "Text(0, 0.5, 'Cost')"
            ]
          },
          "metadata": {},
          "execution_count": 116
        },
        {
          "output_type": "display_data",
          "data": {
            "text/plain": [
              "<Figure size 432x288 with 1 Axes>"
            ],
            "image/png": "[encoded data removed]"
          },
          "metadata": {
            "needs_background": "light"
          }
        }
      ],
      "id": "k93qYeLAL8du"
    },
    {
      "cell_type": "markdown",
      "source": [
        "#  You must obtain r2-score > 0.9 using each functiion."
      ],
      "metadata": {
        "id": "iZWI7lvrVJf1"
      },
      "id": "iZWI7lvrVJf1"
    },
    {
      "cell_type": "code",
      "source": [
        "# \n",
        "from sklearn.metrics import r2_score\n",
        "\n",
        "# print(X.shape , Batch_theta.shape)\n",
        "ypred_Batch= X @ Batch_theta.T \n",
        "# print(Y.shape , ypred.shape)\n",
        "\n",
        "print( \"Model Accuracy Score With Batch Data is  : \\t \" , r2_score(Y,ypred_Batch))"
      ],
      "metadata": {
        "colab": {
          "base_uri": "https://localhost:8080/"
        },
        "outputId": "0e1d83ae-6963-4a8e-9f25-29cb5db0b1a3",
        "id": "TOEu1QXEL8du"
      },
      "execution_count": null,
      "outputs": [
        {
          "output_type": "stream",
          "name": "stdout",
          "text": [
            "Model Accuracy Score With Batch Data is  : \t  0.978368849319744\n"
          ]
        },
        {
          "output_type": "stream",
          "name": "stderr",
          "text": [
            "/usr/local/lib/python3.7/dist-packages/sklearn/utils/validation.py:598: FutureWarning: np.matrix usage is deprecated in 1.0 and will raise a TypeError in 1.2. Please convert to a numpy array with np.asarray. For more information see: https://numpy.org/doc/stable/reference/generated/numpy.matrix.html\n",
            "  FutureWarning,\n",
            "/usr/local/lib/python3.7/dist-packages/sklearn/utils/validation.py:598: FutureWarning: np.matrix usage is deprecated in 1.0 and will raise a TypeError in 1.2. Please convert to a numpy array with np.asarray. For more information see: https://numpy.org/doc/stable/reference/generated/numpy.matrix.html\n",
            "  FutureWarning,\n"
          ]
        }
      ],
      "id": "TOEu1QXEL8du"
    },
    {
      "cell_type": "markdown",
      "source": [
        "# Update your implementation to work for mini-batch."
      ],
      "metadata": {
        "id": "AZGgbWZ0IqFa"
      },
      "id": "AZGgbWZ0IqFa"
    },
    {
      "cell_type": "markdown",
      "source": [
        ""
      ],
      "metadata": {
        "id": "-9Y_646SIReX"
      },
      "id": "-9Y_646SIReX"
    },
    {
      "cell_type": "code",
      "source": [
        "\n",
        "def MultiVarAdamMini(data,theta, B1,B2,eps,learning_rate,iterations,batch_size ):\n",
        "    '''\n",
        "    X    = Matrix of X without added bias units\n",
        "    y    = Vector of Y\n",
        "    theta=Vector of thetas np.random.randn(j,1)\n",
        "    learning_rate \n",
        "    iterations = no of iterations\n",
        "    \n",
        "    Returns the final theta vector and array of cost history over no of iterations\n",
        "    '''\n",
        "    data=data.to_numpy()\n",
        "    np.random.shuffle(data)\n",
        "    X = data[: , 0:cols-1]\n",
        "    Y = data[: , cols-1:cols]\n",
        "    tmp=np.ones(X.shape[0])\n",
        "    tmp=tmp.reshape(-1,1)\n",
        "    X=np.concatenate((tmp,X),axis=1)\n",
        "    n = X.shape[1]\n",
        "    hypothesis = []\n",
        "    VT = np.zeros((n,1))\n",
        "    mt=np.zeros((n,1))\n",
        "    m = len(Y)\n",
        "    cost_history =[]\n",
        "    n_batches = int(m/batch_size)\n",
        "    list_theta=[]\n",
        "    # theta_all=np.array(theta.reshape(1,-1))\n",
        "    # theta_all\n",
        "    \n",
        "    for it in range(iterations):\n",
        "        cost =0.0\n",
        "        # initialize x with the cost of all epoch\n",
        "        z=0\n",
        "        if it>1:\n",
        "            z=cost_history[-1]\n",
        "        # randomize data before every batch \n",
        "        indices = np.random.permutation(m)\n",
        "\n",
        "        X = X[indices]\n",
        "        Y = Y[indices]\n",
        "        for i in range(0,m,batch_size):\n",
        "            X_i = X[i:i+batch_size]\n",
        "            y_i = Y[i:i+batch_size] \n",
        "            pred =  X_i @ theta.T\n",
        "            hypothesis.append(pred)\n",
        "            # compute erorr \n",
        "            error = pred - y_i\n",
        "            # compute cost function \n",
        "            J = (error.T @ error)/(2*len(X_i))\n",
        "            cost_history.append( J[0,0] )\n",
        "\n",
        "#compute gradient\n",
        "            gradient = (X_i.T @ error)/len(X_i)\n",
        "            # print((\"gradient\" , gradient.shape))\n",
        "\n",
        "#bias correction\n",
        "        \n",
        "            mt = (B1 * mt) + (1-B1) * gradient\n",
        "            VT = (B2 * VT) + (1-B2) * np.power(gradient,2)\n",
        "        \n",
        "            mt_hat = mt/(1-np.power(B1,i+1))\n",
        "            vt_hat = VT/(1-np.power(B2,i+1))         \n",
        "\n",
        "\n",
        "    #Update thetas\n",
        "            # pla= ((learning_rate * mt_hat)/((np.sqrt(vt_hat))+ eps)) \n",
        "            # print(\"pla\" , pla.shape)\n",
        "            theta = theta - ((learning_rate * mt_hat)/((np.sqrt(vt_hat))+ eps)).T\n",
        "            # print(theta.shape)\n",
        "            list_theta.append(theta)\n",
        "        if it>1:\n",
        "          if(np.abs(cost_history[-1] -z) < 0.1):\n",
        "          # if(np.abs(cost_history[it-1] - cost_history[it]) < 0.1):\n",
        "              break\n",
        "          elif ( np.linalg.norm(gradient)  < 0.01):\n",
        "              break\n",
        "              \n",
        "    return theta ,np.array(list_theta).reshape(-1,4), np.array(cost_history).reshape(-1,1) , hypothesis"
      ],
      "metadata": {
        "id": "Gz_aG3bAIsQT"
      },
      "id": "Gz_aG3bAIsQT",
      "execution_count": null,
      "outputs": []
    },
    {
      "cell_type": "code",
      "source": [
        ""
      ],
      "metadata": {
        "id": "wxdfmUb_bwa2"
      },
      "id": "wxdfmUb_bwa2",
      "execution_count": null,
      "outputs": []
    },
    {
      "cell_type": "markdown",
      "source": [
        "# First Try with Mini batch start Thetas with Zeros "
      ],
      "metadata": {
        "id": "orjzC_fNbw3S"
      },
      "id": "orjzC_fNbw3S"
    },
    {
      "cell_type": "code",
      "source": [
        ""
      ],
      "metadata": {
        "id": "tQVRXbJpb5vY"
      },
      "id": "tQVRXbJpb5vY",
      "execution_count": null,
      "outputs": []
    },
    {
      "cell_type": "code",
      "source": [
        "tht = np.matrix(np.zeros(cols).reshape(1,cols))\n",
        "eps = 0.01\n",
        "# learnRate = 0.09\n",
        "learnRate =0.09\n",
        "\n",
        "B1 = 0.9\n",
        "B2 = 0.99\n",
        "iterations = 500\n",
        "batch_size=4\n",
        "theta ,list_theta ,Cost_List , hypothesis =MultiVarAdamMini(data,tht, B1,B2,eps,learnRate,iterations, batch_size  )"
      ],
      "metadata": {
        "id": "yP1-RCQzb6FG"
      },
      "execution_count": null,
      "outputs": [],
      "id": "yP1-RCQzb6FG"
    },
    {
      "cell_type": "code",
      "source": [
        "# tht=np.array([0.9,0.9,0.9,0.9]).reshape(1,-1)\n",
        "# tht.shape\n"
      ],
      "metadata": {
        "id": "Howw3Gekb6FH"
      },
      "execution_count": null,
      "outputs": [],
      "id": "Howw3Gekb6FH"
    },
    {
      "cell_type": "code",
      "source": [
        "# Cost_List\n",
        "Cost_List.shape"
      ],
      "metadata": {
        "colab": {
          "base_uri": "https://localhost:8080/"
        },
        "outputId": "66dca070-c7b6-4139-bad3-67986ee911b3",
        "id": "VYEii1zhb6FH"
      },
      "execution_count": null,
      "outputs": [
        {
          "output_type": "execute_result",
          "data": {
            "text/plain": [
              "(210, 1)"
            ]
          },
          "metadata": {},
          "execution_count": 236
        }
      ],
      "id": "VYEii1zhb6FH"
    },
    {
      "cell_type": "code",
      "source": [
        "theta"
      ],
      "metadata": {
        "colab": {
          "base_uri": "https://localhost:8080/"
        },
        "outputId": "6ffe44e0-9a92-4478-8331-69a722df851e",
        "id": "5zSMtTFsb6FJ"
      },
      "execution_count": null,
      "outputs": [
        {
          "output_type": "execute_result",
          "data": {
            "text/plain": [
              "matrix([[0.67385562, 0.65387002, 0.64755946, 0.72148944]])"
            ]
          },
          "metadata": {},
          "execution_count": 237
        }
      ],
      "id": "5zSMtTFsb6FJ"
    },
    {
      "cell_type": "markdown",
      "source": [
        "# 4. You must plot the following curves.\n",
        "    - Loss vs. iterations.\n",
        "    - Loss vs. each parameter (i.e. loss vs theta 0, loss vs. theta 1 .... etc.)."
      ],
      "metadata": {
        "id": "bjpbFSJ2b6FK"
      },
      "id": "bjpbFSJ2b6FK"
    },
    {
      "cell_type": "code",
      "source": [
        "# draw error graph\n",
        "\n",
        "fig, ax = plt.subplots(figsize=(5,5))\n",
        "ax.plot( Cost_List, 'r')\n",
        "ax.set_xlabel('Iterations')\n",
        "ax.set_ylabel('Cost')\n",
        "ax.set_title('Error vs. Training Epoch\\iteration With Min batch of data.')\n"
      ],
      "metadata": {
        "colab": {
          "base_uri": "https://localhost:8080/",
          "height": 368
        },
        "outputId": "d2120775-038a-47c7-ce79-b1e01b38910d",
        "id": "wLgzNMkyb6FK"
      },
      "execution_count": null,
      "outputs": [
        {
          "output_type": "execute_result",
          "data": {
            "text/plain": [
              "Text(0.5, 1.0, 'Error vs. Training Epoch\\\\iteration With Min batch of data.')"
            ]
          },
          "metadata": {},
          "execution_count": 238
        },
        {
          "output_type": "display_data",
          "data": {
            "text/plain": [
              "<Figure size 360x360 with 1 Axes>"
            ],
            "image/png": "[encoded data removed]"
          },
          "metadata": {
            "needs_background": "light"
          }
        }
      ],
      "id": "wLgzNMkyb6FK"
    },
    {
      "cell_type": "code",
      "source": [
        "list_theta = np.array(list_theta)\n",
        "theta0= list_theta[: , 0].reshape(-1,1)\n",
        "theta1 = list_theta[: , 1].reshape(-1,1)\n",
        "theta2=list_theta[: , 2].reshape(-1,1)\n",
        "theta3=list_theta[: , 3].reshape(-1,1)\n"
      ],
      "metadata": {
        "id": "ap_rvpq_b6FL"
      },
      "execution_count": null,
      "outputs": [],
      "id": "ap_rvpq_b6FL"
    },
    {
      "cell_type": "code",
      "source": [
        "fig,ax = plt.subplots()\n",
        "ax.plot(theta0, Cost_List ,'r')\n",
        "\n",
        "ax.set_xlabel('theta 0')\n",
        "ax.set_ylabel('Cost')\n",
        "\n"
      ],
      "metadata": {
        "colab": {
          "base_uri": "https://localhost:8080/",
          "height": 297
        },
        "outputId": "97be48cd-45a6-4bf3-e0b2-2495cd3ee7f9",
        "id": "cSa0YCTZb6FL"
      },
      "execution_count": null,
      "outputs": [
        {
          "output_type": "execute_result",
          "data": {
            "text/plain": [
              "Text(0, 0.5, 'Cost')"
            ]
          },
          "metadata": {},
          "execution_count": 240
        },
        {
          "output_type": "display_data",
          "data": {
            "text/plain": [
              "<Figure size 432x288 with 1 Axes>"
            ],
            "image/png": "[encoded data removed]"
          },
          "metadata": {
            "needs_background": "light"
          }
        }
      ],
      "id": "cSa0YCTZb6FL"
    },
    {
      "cell_type": "code",
      "source": [
        "fig,ax = plt.subplots()\n",
        "ax.plot(theta1, Cost_List ,'r')\n",
        "\n",
        "ax.set_xlabel('theta 1')\n",
        "ax.set_ylabel('Cost')\n",
        "\n"
      ],
      "metadata": {
        "colab": {
          "base_uri": "https://localhost:8080/",
          "height": 297
        },
        "outputId": "a275f9b2-8dfc-4af4-e4d0-9039b269ad2d",
        "id": "CD49DT8Nb6FL"
      },
      "execution_count": null,
      "outputs": [
        {
          "output_type": "execute_result",
          "data": {
            "text/plain": [
              "Text(0, 0.5, 'Cost')"
            ]
          },
          "metadata": {},
          "execution_count": 241
        },
        {
          "output_type": "display_data",
          "data": {
            "text/plain": [
              "<Figure size 432x288 with 1 Axes>"
            ],
            "image/png": "[encoded data removed]"
          },
          "metadata": {
            "needs_background": "light"
          }
        }
      ],
      "id": "CD49DT8Nb6FL"
    },
    {
      "cell_type": "code",
      "source": [
        "fig,ax = plt.subplots()\n",
        "ax.plot(theta2, Cost_List ,'r')\n",
        "\n",
        "ax.set_xlabel('theta 3')\n",
        "ax.set_ylabel('Cost')\n",
        "\n"
      ],
      "metadata": {
        "colab": {
          "base_uri": "https://localhost:8080/",
          "height": 297
        },
        "outputId": "65540942-d8af-41a6-d64b-533abf7c0618",
        "id": "_AJ22Itcb6FL"
      },
      "execution_count": null,
      "outputs": [
        {
          "output_type": "execute_result",
          "data": {
            "text/plain": [
              "Text(0, 0.5, 'Cost')"
            ]
          },
          "metadata": {},
          "execution_count": 242
        },
        {
          "output_type": "display_data",
          "data": {
            "text/plain": [
              "<Figure size 432x288 with 1 Axes>"
            ],
            "image/png": "[encoded data removed]"
          },
          "metadata": {
            "needs_background": "light"
          }
        }
      ],
      "id": "_AJ22Itcb6FL"
    },
    {
      "cell_type": "code",
      "source": [
        "fig,ax = plt.subplots()\n",
        "ax.plot(theta3, Cost_List ,'r' )\n",
        "\n",
        "ax.set_xlabel('theta 4')\n",
        "ax.set_ylabel('Cost')\n",
        "\n"
      ],
      "metadata": {
        "colab": {
          "base_uri": "https://localhost:8080/",
          "height": 297
        },
        "outputId": "51a206b5-a108-402a-e47e-b3ede844b285",
        "id": "uBJWlGzLb6FM"
      },
      "execution_count": null,
      "outputs": [
        {
          "output_type": "execute_result",
          "data": {
            "text/plain": [
              "Text(0, 0.5, 'Cost')"
            ]
          },
          "metadata": {},
          "execution_count": 243
        },
        {
          "output_type": "display_data",
          "data": {
            "text/plain": [
              "<Figure size 432x288 with 1 Axes>"
            ],
            "image/png": "[encoded data removed]"
          },
          "metadata": {
            "needs_background": "light"
          }
        }
      ],
      "id": "uBJWlGzLb6FM"
    },
    {
      "cell_type": "markdown",
      "source": [
        "#  You must obtain r2-score > 0.9 using each functiion."
      ],
      "metadata": {
        "id": "kN5lPWWbb6FM"
      },
      "id": "kN5lPWWbb6FM"
    },
    {
      "cell_type": "code",
      "source": [
        "# \n",
        "from sklearn.metrics import r2_score\n",
        "\n",
        "print(X.shape , theta.shape)\n",
        "ypred= X @ theta.T \n",
        "print(Y.shape , ypred.shape)\n",
        "\n",
        "print( \"Model Accuracy Score  With mini Batch of data is  : \\t \" , r2_score(Y,ypred))"
      ],
      "metadata": {
        "colab": {
          "base_uri": "https://localhost:8080/"
        },
        "outputId": "6f9c25ef-bc11-4b15-d85a-171c04ff2cd6",
        "id": "M_1l66zdb6FM"
      },
      "execution_count": null,
      "outputs": [
        {
          "output_type": "stream",
          "name": "stdout",
          "text": [
            "(25, 4) (1, 4)\n",
            "(25, 1) (25, 1)\n",
            "Model Accuracy Score  With mini Batch of data is  : \t  0.9797980893031288\n"
          ]
        },
        {
          "output_type": "stream",
          "name": "stderr",
          "text": [
            "/usr/local/lib/python3.7/dist-packages/sklearn/utils/validation.py:598: FutureWarning: np.matrix usage is deprecated in 1.0 and will raise a TypeError in 1.2. Please convert to a numpy array with np.asarray. For more information see: https://numpy.org/doc/stable/reference/generated/numpy.matrix.html\n",
            "  FutureWarning,\n",
            "/usr/local/lib/python3.7/dist-packages/sklearn/utils/validation.py:598: FutureWarning: np.matrix usage is deprecated in 1.0 and will raise a TypeError in 1.2. Please convert to a numpy array with np.asarray. For more information see: https://numpy.org/doc/stable/reference/generated/numpy.matrix.html\n",
            "  FutureWarning,\n"
          ]
        }
      ],
      "id": "M_1l66zdb6FM"
    },
    {
      "cell_type": "markdown",
      "source": [
        "# Second Try with inialize theta with 0,5"
      ],
      "metadata": {
        "id": "I3I-QZMWcDf8"
      },
      "id": "I3I-QZMWcDf8"
    },
    {
      "cell_type": "code",
      "source": [
        "# tht = np.matrix(np.zeros(cols).reshape(1,cols))\n",
        "tht=np.array([0.5,0.5,0.5,0.5]).reshape(1,-1)\n",
        "eps = 0.01\n",
        "# learnRate = 0.09\n",
        "learnRate =0.01\n",
        "\n",
        "B1 = 0.9\n",
        "B2 = 0.99\n",
        "iterations = 500\n",
        "batch_size=4\n",
        "theta ,list_theta ,Cost_List , hypothesis =MultiVarAdamMini(data,tht, B1,B2,eps,learnRate,iterations, batch_size  )"
      ],
      "metadata": {
        "id": "eFUt4UdAJZKd"
      },
      "id": "eFUt4UdAJZKd",
      "execution_count": null,
      "outputs": []
    },
    {
      "cell_type": "code",
      "source": [
        "# tht=np.array([0.9,0.9,0.9,0.9]).reshape(1,-1)\n",
        "# tht.shape\n"
      ],
      "metadata": {
        "id": "-h4j3veeaulp"
      },
      "id": "-h4j3veeaulp",
      "execution_count": null,
      "outputs": []
    },
    {
      "cell_type": "code",
      "source": [
        "# Cost_List\n",
        "Cost_List.shape"
      ],
      "metadata": {
        "colab": {
          "base_uri": "https://localhost:8080/"
        },
        "id": "flBiyLSqJbwY",
        "outputId": "31270477-1f69-4c3b-c623-b3ef0fc8e00b"
      },
      "id": "flBiyLSqJbwY",
      "execution_count": null,
      "outputs": [
        {
          "output_type": "execute_result",
          "data": {
            "text/plain": [
              "(294, 1)"
            ]
          },
          "metadata": {},
          "execution_count": 247
        }
      ]
    },
    {
      "cell_type": "code",
      "source": [
        "theta"
      ],
      "metadata": {
        "colab": {
          "base_uri": "https://localhost:8080/"
        },
        "id": "No42EzqMJd8B",
        "outputId": "83c1552e-3273-4281-fe21-98289816a31e"
      },
      "id": "No42EzqMJd8B",
      "execution_count": null,
      "outputs": [
        {
          "output_type": "execute_result",
          "data": {
            "text/plain": [
              "array([[0.66442792, 0.65956915, 0.65722033, 0.70132279]])"
            ]
          },
          "metadata": {},
          "execution_count": 248
        }
      ]
    },
    {
      "cell_type": "markdown",
      "source": [
        "# 4. You must plot the following curves.\n",
        "    - Loss vs. iterations.\n",
        "    - Loss vs. each parameter (i.e. loss vs theta 0, loss vs. theta 1 .... etc.)."
      ],
      "metadata": {
        "id": "CB6yTuQLUyil"
      },
      "id": "CB6yTuQLUyil"
    },
    {
      "cell_type": "code",
      "source": [
        "# draw error graph\n",
        "\n",
        "fig, ax = plt.subplots(figsize=(5,5))\n",
        "ax.plot( Cost_List, 'r')\n",
        "ax.set_xlabel('Iterations')\n",
        "ax.set_ylabel('Cost')\n",
        "ax.set_title('Error vs. Training Epoch\\iteration With Min batch of data.')\n"
      ],
      "metadata": {
        "colab": {
          "base_uri": "https://localhost:8080/",
          "height": 368
        },
        "id": "zNJjLcRaJgCl",
        "outputId": "84d7576f-c3bb-44e3-8333-aa5d93cd518d"
      },
      "id": "zNJjLcRaJgCl",
      "execution_count": null,
      "outputs": [
        {
          "output_type": "execute_result",
          "data": {
            "text/plain": [
              "Text(0.5, 1.0, 'Error vs. Training Epoch\\\\iteration With Min batch of data.')"
            ]
          },
          "metadata": {},
          "execution_count": 249
        },
        {
          "output_type": "display_data",
          "data": {
            "text/plain": [
              "<Figure size 360x360 with 1 Axes>"
            ],
            "image/png": "[encoded data removed]"
          },
          "metadata": {
            "needs_background": "light"
          }
        }
      ]
    },
    {
      "cell_type": "code",
      "source": [
        "list_theta = np.array(list_theta)\n",
        "theta0= list_theta[: , 0].reshape(-1,1)\n",
        "theta1 = list_theta[: , 1].reshape(-1,1)\n",
        "theta2=list_theta[: , 2].reshape(-1,1)\n",
        "theta3=list_theta[: , 3].reshape(-1,1)\n"
      ],
      "metadata": {
        "id": "iCgx2RykJlTq"
      },
      "id": "iCgx2RykJlTq",
      "execution_count": null,
      "outputs": []
    },
    {
      "cell_type": "code",
      "source": [
        ""
      ],
      "metadata": {
        "id": "DuctyD3LJowY"
      },
      "id": "DuctyD3LJowY",
      "execution_count": null,
      "outputs": []
    },
    {
      "cell_type": "code",
      "source": [
        "fig,ax = plt.subplots()\n",
        "ax.plot(theta0, Cost_List ,'r')\n",
        "\n",
        "ax.set_xlabel('theta 0')\n",
        "ax.set_ylabel('Cost')\n",
        "\n"
      ],
      "metadata": {
        "colab": {
          "base_uri": "https://localhost:8080/",
          "height": 297
        },
        "id": "OQgX8Ou_ju3h",
        "outputId": "f66ff27c-e414-427f-c047-e330001726cc"
      },
      "execution_count": null,
      "outputs": [
        {
          "output_type": "execute_result",
          "data": {
            "text/plain": [
              "Text(0, 0.5, 'Cost')"
            ]
          },
          "metadata": {},
          "execution_count": 251
        },
        {
          "output_type": "display_data",
          "data": {
            "text/plain": [
              "<Figure size 432x288 with 1 Axes>"
            ],
            "image/png": "[encoded data removed]"
          },
          "metadata": {
            "needs_background": "light"
          }
        }
      ],
      "id": "OQgX8Ou_ju3h"
    },
    {
      "cell_type": "code",
      "source": [
        "fig,ax = plt.subplots()\n",
        "ax.plot(theta1, Cost_List ,'r')\n",
        "\n",
        "ax.set_xlabel('theta 1')\n",
        "ax.set_ylabel('Cost')\n",
        "\n"
      ],
      "metadata": {
        "colab": {
          "base_uri": "https://localhost:8080/",
          "height": 297
        },
        "id": "dAr085O-58WJ",
        "outputId": "274193cb-f793-4d16-98b4-e8e2a8f70415"
      },
      "execution_count": null,
      "outputs": [
        {
          "output_type": "execute_result",
          "data": {
            "text/plain": [
              "Text(0, 0.5, 'Cost')"
            ]
          },
          "metadata": {},
          "execution_count": 252
        },
        {
          "output_type": "display_data",
          "data": {
            "text/plain": [
              "<Figure size 432x288 with 1 Axes>"
            ],
            "image/png": "[encoded data removed]"
          },
          "metadata": {
            "needs_background": "light"
          }
        }
      ],
      "id": "dAr085O-58WJ"
    },
    {
      "cell_type": "code",
      "source": [
        "fig,ax = plt.subplots()\n",
        "ax.plot(theta2, Cost_List ,'r')\n",
        "\n",
        "ax.set_xlabel('theta 3')\n",
        "ax.set_ylabel('Cost')\n",
        "\n"
      ],
      "metadata": {
        "colab": {
          "base_uri": "https://localhost:8080/",
          "height": 297
        },
        "id": "1Qy3QQ2A5_Sr",
        "outputId": "12a4279e-189c-43a7-f4cd-c18bfc49f31f"
      },
      "execution_count": null,
      "outputs": [
        {
          "output_type": "execute_result",
          "data": {
            "text/plain": [
              "Text(0, 0.5, 'Cost')"
            ]
          },
          "metadata": {},
          "execution_count": 253
        },
        {
          "output_type": "display_data",
          "data": {
            "text/plain": [
              "<Figure size 432x288 with 1 Axes>"
            ],
            "image/png": "[encoded data removed]"
          },
          "metadata": {
            "needs_background": "light"
          }
        }
      ],
      "id": "1Qy3QQ2A5_Sr"
    },
    {
      "cell_type": "code",
      "source": [
        "fig,ax = plt.subplots()\n",
        "ax.plot(theta3, Cost_List ,'r' )\n",
        "\n",
        "ax.set_xlabel('theta 4')\n",
        "ax.set_ylabel('Cost')\n",
        "\n"
      ],
      "metadata": {
        "id": "hyEvMIQm5-D_",
        "colab": {
          "base_uri": "https://localhost:8080/",
          "height": 297
        },
        "outputId": "3f8987ca-e852-4e59-f10f-cda65a670c6b"
      },
      "execution_count": null,
      "outputs": [
        {
          "output_type": "execute_result",
          "data": {
            "text/plain": [
              "Text(0, 0.5, 'Cost')"
            ]
          },
          "metadata": {},
          "execution_count": 254
        },
        {
          "output_type": "display_data",
          "data": {
            "text/plain": [
              "<Figure size 432x288 with 1 Axes>"
            ],
            "image/png": "[encoded data removed]"
          },
          "metadata": {
            "needs_background": "light"
          }
        }
      ],
      "id": "hyEvMIQm5-D_"
    },
    {
      "cell_type": "markdown",
      "source": [
        "#  You must obtain r2-score > 0.9 using each functiion."
      ],
      "metadata": {
        "id": "jcaVOGS9U4lH"
      },
      "id": "jcaVOGS9U4lH"
    },
    {
      "cell_type": "code",
      "source": [
        "# \n",
        "from sklearn.metrics import r2_score\n",
        "\n",
        "print(X.shape , theta.shape)\n",
        "ypred= X @ theta.T \n",
        "print(Y.shape , ypred.shape)\n",
        "\n",
        "print( \"Model Accuracy Score  With mini Batch of data is  : \\t \" , r2_score(Y,ypred))"
      ],
      "metadata": {
        "id": "Q84mtHhSVY29",
        "colab": {
          "base_uri": "https://localhost:8080/"
        },
        "outputId": "407afda1-0da6-4cf2-a1eb-3ed1d1b2f0fd"
      },
      "execution_count": null,
      "outputs": [
        {
          "output_type": "stream",
          "name": "stdout",
          "text": [
            "(25, 4) (1, 4)\n",
            "(25, 1) (25, 1)\n",
            "Model Accuracy Score  With mini Batch of data is  : \t  0.9795062913132538\n"
          ]
        },
        {
          "output_type": "stream",
          "name": "stderr",
          "text": [
            "/usr/local/lib/python3.7/dist-packages/sklearn/utils/validation.py:598: FutureWarning: np.matrix usage is deprecated in 1.0 and will raise a TypeError in 1.2. Please convert to a numpy array with np.asarray. For more information see: https://numpy.org/doc/stable/reference/generated/numpy.matrix.html\n",
            "  FutureWarning,\n",
            "/usr/local/lib/python3.7/dist-packages/sklearn/utils/validation.py:598: FutureWarning: np.matrix usage is deprecated in 1.0 and will raise a TypeError in 1.2. Please convert to a numpy array with np.asarray. For more information see: https://numpy.org/doc/stable/reference/generated/numpy.matrix.html\n",
            "  FutureWarning,\n"
          ]
        }
      ],
      "id": "Q84mtHhSVY29"
    },
    {
      "cell_type": "code",
      "source": [
        ""
      ],
      "metadata": {
        "id": "WNmZq4fbJzky"
      },
      "id": "WNmZq4fbJzky",
      "execution_count": null,
      "outputs": []
    }
  ],
  "metadata": {
    "kernelspec": {
      "display_name": "Python 3",
      "language": "python",
      "name": "python3"
    },
    "language_info": {
      "codemirror_mode": {
        "name": "ipython",
        "version": 3
      },
      "file_extension": ".py",
      "mimetype": "text/x-python",
      "name": "python",
      "nbconvert_exporter": "python",
      "pygments_lexer": "ipython3",
      "version": "3.8.8"
    },
    "colab": {
      "name": "Alaa_Saleh_Mohamed_NOFML&DS_Final_Practical_Exam (1).ipynb",
      "provenance": [],
      "collapsed_sections": []
    }
  },
  "nbformat": 4,
  "nbformat_minor": 5
}